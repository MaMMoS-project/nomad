{
 "cells": [
  {
   "cell_type": "markdown",
   "metadata": {},
   "source": [
    "# Importing Modules, defining functions"
   ]
  },
  {
   "cell_type": "code",
   "execution_count": 25,
   "metadata": {},
   "outputs": [
    {
     "name": "stdout",
     "output_type": "stream",
     "text": [
      "done\n"
     ]
    }
   ],
   "source": [
    "import tkinter as tk\n",
    "from tkinter import filedialog\n",
    "import numpy as np\n",
    "import pandas as pd\n",
    "\n",
    "def findlinevaldict(lines, valname):\n",
    "    \"\"\"\n",
    "    Find all lines in lines (list) with valname (string) and\n",
    "    return a dict of IDs and valuse coming after valname\n",
    "    \"\"\"\n",
    "    alllineswithvalname = {}\n",
    "    for line in lines:\n",
    "        if valname in line:\n",
    "            pos = line.find(valname) + len(valname)\n",
    "            key, value = line.split()[0], [float(x) for x in line[pos:].split()]\n",
    "            alllineswithvalname[key] = value\n",
    "    return alllineswithvalname\n",
    "\n",
    "def findlinevallist(lines, valname):\n",
    "    \"\"\"\n",
    "    Find all lines in lines (list) with valname (string) and\n",
    "    return a list of IDs and valuse coming after valname\n",
    "    \"\"\"\n",
    "    alllineswithvalname = list()\n",
    "    for line in lines:\n",
    "        if valname in line:\n",
    "            pos = line.find(valname) + len(valname)\n",
    "            alllineswithvalname.append([line.split()[0], [float(x) for x in line[pos:].split()]])\n",
    "    alllineswithvalname.sort()\n",
    "    return alllineswithvalname\n",
    "\n",
    "class color:\n",
    "   PURPLE = '\\033[95m'\n",
    "   CYAN = '\\033[96m'\n",
    "   DARKCYAN = '\\033[36m'\n",
    "   BLUE = '\\033[94m'\n",
    "   GREEN = '\\033[92m'\n",
    "   YELLOW = '\\033[93m'\n",
    "   RED = '\\033[91m'\n",
    "   BOLD = '\\033[1m'\n",
    "   UNDERLINE = '\\033[4m'\n",
    "   END = '\\033[0m'\n",
    "\n",
    "print('done')"
   ]
  },
  {
   "cell_type": "markdown",
   "metadata": {},
   "source": [
    "# Getting file name"
   ]
  },
  {
   "cell_type": "markdown",
   "metadata": {},
   "source": [
    "## Via file dialog"
   ]
  },
  {
   "cell_type": "code",
   "execution_count": 34,
   "metadata": {},
   "outputs": [
    {
     "name": "stderr",
     "output_type": "stream",
     "text": [
      "2025-02-25 10:29:10.431 Python[69196:3011517] +[CATransaction synchronize] called within transaction\n",
      "2025-02-25 10:29:10.482 Python[69196:3011517] +[CATransaction synchronize] called within transaction\n",
      "2025-02-25 10:29:12.308 Python[69196:3011517] +[CATransaction synchronize] called within transaction\n"
     ]
    },
    {
     "name": "stdout",
     "output_type": "stream",
     "text": [
      "/Users/santapile/Santas/Projects/MaMMoS/dataExamples/UU/UU-sets/Mn2CrB4/GS/x/out_last\n"
     ]
    }
   ],
   "source": [
    "#if the file is not next to the notebook: getting file path \n",
    "root = tk.Tk()\n",
    "\n",
    "fileName = filedialog.askopenfilename()\n",
    "\n",
    "root.destroy()\n",
    "del root\n",
    "\n",
    "print(fileName)"
   ]
  },
  {
   "cell_type": "markdown",
   "metadata": {},
   "source": [
    "## Or if the file is next to the notebook"
   ]
  },
  {
   "cell_type": "code",
   "execution_count": null,
   "metadata": {},
   "outputs": [],
   "source": [
    "#if the file is next to the notebook: \n",
    "# fileName = 'out_last'"
   ]
  },
  {
   "cell_type": "markdown",
   "metadata": {},
   "source": [
    "# Reading file, saving parameters"
   ]
  },
  {
   "cell_type": "code",
   "execution_count": 35,
   "metadata": {},
   "outputs": [],
   "source": [
    "# reading file into lines\n",
    "with open(fileName, 'rt') as f:\n",
    "        lines = f.read().splitlines()\n",
    "\n",
    "# create dicts with orbital IDs and values of corresponding\n",
    "# total moment and its direction (+/-1)\n",
    "totmomentsD = findlinevaldict(lines, 'Total moment [J=L+S] (mu_B):')\n",
    "dirofJD = findlinevaldict(lines, 'Direction of J (Cartesian):')\n",
    "\n",
    "totmomentsL = findlinevallist(lines, 'Total moment [J=L+S] (mu_B):')\n",
    "dirofJL = findlinevallist(lines, 'Direction of J (Cartesian):')\n",
    "\n",
    "\n",
    "paramsmerged = {}\n",
    "for key in totmomentsD.keys():\n",
    "    paramsmerged[key] = totmomentsD[key] + dirofJD[key]"
   ]
  },
  {
   "cell_type": "markdown",
   "metadata": {},
   "source": [
    "## Question #1: Why doubled?"
   ]
  },
  {
   "cell_type": "code",
   "execution_count": 36,
   "metadata": {},
   "outputs": [
    {
     "data": {
      "text/plain": [
       "[['ID:0100010100-o', [0.002103611, 0.002103611]],\n",
       " ['ID:0100010100-o', [0.002103611, 0.002103611]],\n",
       " ['ID:0101010100-o', [0.001853875, 0.001853875]],\n",
       " ['ID:0101010100-o', [0.001853875, 0.001853875]],\n",
       " ['ID:0102010100-o', [0.166403, 0.166403]],\n",
       " ['ID:0102010100-o', [0.166403, 0.166403]],\n",
       " ['ID:0200010100-o', [0.01078338, 0.01078338]],\n",
       " ['ID:0200010100-o', [0.01078338, 0.01078338]],\n",
       " ['ID:0201010100-o', [0.03702574, 0.03702574]],\n",
       " ['ID:0201010100-o', [0.03702574, 0.03702574]],\n",
       " ['ID:0300010100-o', [0.01078338, 0.01078338]],\n",
       " ['ID:0300010100-o', [0.01078338, 0.01078338]],\n",
       " ['ID:0301010100-o', [0.03702562, 0.03702562]],\n",
       " ['ID:0301010100-o', [0.03702562, 0.03702562]],\n",
       " ['ID:0400010100-o', [0.004421223, 0.004421223]],\n",
       " ['ID:0400010100-o', [0.004421223, 0.004421223]],\n",
       " ['ID:0401010100-o', [0.01127024, 0.01127024]],\n",
       " ['ID:0401010100-o', [0.01127024, 0.01127024]],\n",
       " ['ID:0500010100-o', [0.004421223, 0.004421223]],\n",
       " ['ID:0500010100-o', [0.004421223, 0.004421223]],\n",
       " ['ID:0501010100-o', [0.01127029, 0.01127029]],\n",
       " ['ID:0501010100-o', [0.01127029, 0.01127029]],\n",
       " ['ID:0600010100-o', [0.00581304, 0.00581304]],\n",
       " ['ID:0600010100-o', [0.00581304, 0.00581304]],\n",
       " ['ID:0601010100-o', [0.005087402, 0.005087402]],\n",
       " ['ID:0601010100-o', [0.005087402, 0.005087402]],\n",
       " ['ID:0602010100-o', [1.775499, 1.775499]],\n",
       " ['ID:0602010100-o', [1.775499, 1.775499]],\n",
       " ['ID:0700010100-o', [0.00581304, 0.00581304]],\n",
       " ['ID:0700010100-o', [0.00581304, 0.00581304]],\n",
       " ['ID:0701010100-o', [0.005087399, 0.005087399]],\n",
       " ['ID:0701010100-o', [0.005087399, 0.005087399]],\n",
       " ['ID:0702010100-o', [1.775499, 1.775499]],\n",
       " ['ID:0702010100-o', [1.775499, 1.775499]]]"
      ]
     },
     "execution_count": 36,
     "metadata": {},
     "output_type": "execute_result"
    }
   ],
   "source": [
    "totmomentsL"
   ]
  },
  {
   "cell_type": "code",
   "execution_count": 37,
   "metadata": {},
   "outputs": [
    {
     "data": {
      "text/plain": [
       "[['ID:0100010100-o', [-1.0, 5.47e-06, -3.26e-06]],\n",
       " ['ID:0100010100-o', [-1.0, 5.47e-06, -3.26e-06]],\n",
       " ['ID:0101010100-o', [-1.0, -2.01e-06, 2.543e-05]],\n",
       " ['ID:0101010100-o', [-1.0, -2.01e-06, 2.543e-05]],\n",
       " ['ID:0102010100-o', [-1.0, 2.178e-05, 7.473e-05]],\n",
       " ['ID:0102010100-o', [-1.0, 2.178e-05, 7.473e-05]],\n",
       " ['ID:0200010100-o', [-1.0, -4.37e-06, -4.63e-06]],\n",
       " ['ID:0200010100-o', [-1.0, -4.37e-06, -4.63e-06]],\n",
       " ['ID:0201010100-o', [-1.0, -4.2e-07, 8.96e-06]],\n",
       " ['ID:0201010100-o', [-1.0, -4.2e-07, 8.96e-06]],\n",
       " ['ID:0300010100-o', [-1.0, -4.38e-06, -4.7e-06]],\n",
       " ['ID:0300010100-o', [-1.0, -4.38e-06, -4.7e-06]],\n",
       " ['ID:0301010100-o', [-1.0, -3e-07, 5.34e-06]],\n",
       " ['ID:0301010100-o', [-1.0, -3e-07, 5.34e-06]],\n",
       " ['ID:0400010100-o', [-1.0, -3.06e-06, -6.31e-06]],\n",
       " ['ID:0400010100-o', [-1.0, -3.06e-06, -6.31e-06]],\n",
       " ['ID:0401010100-o', [-1.0, -7e-06, 1.213e-05]],\n",
       " ['ID:0401010100-o', [-1.0, -7e-06, 1.213e-05]],\n",
       " ['ID:0500010100-o', [-1.0, -3.11e-06, -6.32e-06]],\n",
       " ['ID:0500010100-o', [-1.0, -3.11e-06, -6.32e-06]],\n",
       " ['ID:0501010100-o', [-1.0, -1.148e-05, 2.078e-05]],\n",
       " ['ID:0501010100-o', [-1.0, -1.148e-05, 2.078e-05]],\n",
       " ['ID:0600010100-o', [1.0, -2.2e-07, -2.9e-07]],\n",
       " ['ID:0600010100-o', [1.0, -2.2e-07, -2.9e-07]],\n",
       " ['ID:0601010100-o', [1.0, 7.97e-06, -2.137e-05]],\n",
       " ['ID:0601010100-o', [1.0, 7.97e-06, -2.137e-05]],\n",
       " ['ID:0602010100-o', [1.0, -3.08e-06, -1.133e-05]],\n",
       " ['ID:0602010100-o', [1.0, -3.08e-06, -1.133e-05]],\n",
       " ['ID:0700010100-o', [1.0, -2.3e-07, -3.1e-07]],\n",
       " ['ID:0700010100-o', [1.0, -2.3e-07, -3.1e-07]],\n",
       " ['ID:0701010100-o', [1.0, 6.22e-06, -2.377e-05]],\n",
       " ['ID:0701010100-o', [1.0, 6.22e-06, -2.377e-05]],\n",
       " ['ID:0702010100-o', [1.0, -3.55e-06, -1.123e-05]],\n",
       " ['ID:0702010100-o', [1.0, -3.55e-06, -1.123e-05]]]"
      ]
     },
     "execution_count": 37,
     "metadata": {},
     "output_type": "execute_result"
    }
   ],
   "source": [
    "dirofJL"
   ]
  },
  {
   "cell_type": "markdown",
   "metadata": {},
   "source": [
    "## Question #2: How do we calculate total magnetic moment? (Does direction matter?)"
   ]
  },
  {
   "cell_type": "code",
   "execution_count": 38,
   "metadata": {},
   "outputs": [
    {
     "data": {
      "text/html": [
       "<div>\n",
       "<style scoped>\n",
       "    .dataframe tbody tr th:only-of-type {\n",
       "        vertical-align: middle;\n",
       "    }\n",
       "\n",
       "    .dataframe tbody tr th {\n",
       "        vertical-align: top;\n",
       "    }\n",
       "\n",
       "    .dataframe thead th {\n",
       "        text-align: right;\n",
       "    }\n",
       "</style>\n",
       "<table border=\"1\" class=\"dataframe\">\n",
       "  <thead>\n",
       "    <tr style=\"text-align: right;\">\n",
       "      <th></th>\n",
       "      <th>J=L+S (Cartesian)</th>\n",
       "      <th>J=L+S (Spin axis)</th>\n",
       "      <th>Direction of J (x?)</th>\n",
       "      <th>Direction of J (y?)</th>\n",
       "      <th>Direction of J (z?)</th>\n",
       "    </tr>\n",
       "  </thead>\n",
       "  <tbody>\n",
       "    <tr>\n",
       "      <th>ID:0102010100-o</th>\n",
       "      <td>0.166403</td>\n",
       "      <td>0.166403</td>\n",
       "      <td>-1.0</td>\n",
       "      <td>2.178000e-05</td>\n",
       "      <td>7.473000e-05</td>\n",
       "    </tr>\n",
       "    <tr>\n",
       "      <th>ID:0101010100-o</th>\n",
       "      <td>0.001854</td>\n",
       "      <td>0.001854</td>\n",
       "      <td>-1.0</td>\n",
       "      <td>-2.010000e-06</td>\n",
       "      <td>2.543000e-05</td>\n",
       "    </tr>\n",
       "    <tr>\n",
       "      <th>ID:0100010100-o</th>\n",
       "      <td>0.002104</td>\n",
       "      <td>0.002104</td>\n",
       "      <td>-1.0</td>\n",
       "      <td>5.470000e-06</td>\n",
       "      <td>-3.260000e-06</td>\n",
       "    </tr>\n",
       "    <tr>\n",
       "      <th>ID:0201010100-o</th>\n",
       "      <td>0.037026</td>\n",
       "      <td>0.037026</td>\n",
       "      <td>-1.0</td>\n",
       "      <td>-4.200000e-07</td>\n",
       "      <td>8.960000e-06</td>\n",
       "    </tr>\n",
       "    <tr>\n",
       "      <th>ID:0200010100-o</th>\n",
       "      <td>0.010783</td>\n",
       "      <td>0.010783</td>\n",
       "      <td>-1.0</td>\n",
       "      <td>-4.370000e-06</td>\n",
       "      <td>-4.630000e-06</td>\n",
       "    </tr>\n",
       "    <tr>\n",
       "      <th>ID:0301010100-o</th>\n",
       "      <td>0.037026</td>\n",
       "      <td>0.037026</td>\n",
       "      <td>-1.0</td>\n",
       "      <td>-3.000000e-07</td>\n",
       "      <td>5.340000e-06</td>\n",
       "    </tr>\n",
       "    <tr>\n",
       "      <th>ID:0300010100-o</th>\n",
       "      <td>0.010783</td>\n",
       "      <td>0.010783</td>\n",
       "      <td>-1.0</td>\n",
       "      <td>-4.380000e-06</td>\n",
       "      <td>-4.700000e-06</td>\n",
       "    </tr>\n",
       "    <tr>\n",
       "      <th>ID:0401010100-o</th>\n",
       "      <td>0.011270</td>\n",
       "      <td>0.011270</td>\n",
       "      <td>-1.0</td>\n",
       "      <td>-7.000000e-06</td>\n",
       "      <td>1.213000e-05</td>\n",
       "    </tr>\n",
       "    <tr>\n",
       "      <th>ID:0400010100-o</th>\n",
       "      <td>0.004421</td>\n",
       "      <td>0.004421</td>\n",
       "      <td>-1.0</td>\n",
       "      <td>-3.060000e-06</td>\n",
       "      <td>-6.310000e-06</td>\n",
       "    </tr>\n",
       "    <tr>\n",
       "      <th>ID:0501010100-o</th>\n",
       "      <td>0.011270</td>\n",
       "      <td>0.011270</td>\n",
       "      <td>-1.0</td>\n",
       "      <td>-1.148000e-05</td>\n",
       "      <td>2.078000e-05</td>\n",
       "    </tr>\n",
       "    <tr>\n",
       "      <th>ID:0500010100-o</th>\n",
       "      <td>0.004421</td>\n",
       "      <td>0.004421</td>\n",
       "      <td>-1.0</td>\n",
       "      <td>-3.110000e-06</td>\n",
       "      <td>-6.320000e-06</td>\n",
       "    </tr>\n",
       "    <tr>\n",
       "      <th>ID:0602010100-o</th>\n",
       "      <td>1.775499</td>\n",
       "      <td>1.775499</td>\n",
       "      <td>1.0</td>\n",
       "      <td>-3.080000e-06</td>\n",
       "      <td>-1.133000e-05</td>\n",
       "    </tr>\n",
       "    <tr>\n",
       "      <th>ID:0601010100-o</th>\n",
       "      <td>0.005087</td>\n",
       "      <td>0.005087</td>\n",
       "      <td>1.0</td>\n",
       "      <td>7.970000e-06</td>\n",
       "      <td>-2.137000e-05</td>\n",
       "    </tr>\n",
       "    <tr>\n",
       "      <th>ID:0600010100-o</th>\n",
       "      <td>0.005813</td>\n",
       "      <td>0.005813</td>\n",
       "      <td>1.0</td>\n",
       "      <td>-2.200000e-07</td>\n",
       "      <td>-2.900000e-07</td>\n",
       "    </tr>\n",
       "    <tr>\n",
       "      <th>ID:0702010100-o</th>\n",
       "      <td>1.775499</td>\n",
       "      <td>1.775499</td>\n",
       "      <td>1.0</td>\n",
       "      <td>-3.550000e-06</td>\n",
       "      <td>-1.123000e-05</td>\n",
       "    </tr>\n",
       "    <tr>\n",
       "      <th>ID:0701010100-o</th>\n",
       "      <td>0.005087</td>\n",
       "      <td>0.005087</td>\n",
       "      <td>1.0</td>\n",
       "      <td>6.220000e-06</td>\n",
       "      <td>-2.377000e-05</td>\n",
       "    </tr>\n",
       "    <tr>\n",
       "      <th>ID:0700010100-o</th>\n",
       "      <td>0.005813</td>\n",
       "      <td>0.005813</td>\n",
       "      <td>1.0</td>\n",
       "      <td>-2.300000e-07</td>\n",
       "      <td>-3.100000e-07</td>\n",
       "    </tr>\n",
       "  </tbody>\n",
       "</table>\n",
       "</div>"
      ],
      "text/plain": [
       "                 J=L+S (Cartesian)  J=L+S (Spin axis)  Direction of J (x?)  \\\n",
       "ID:0102010100-o           0.166403           0.166403                 -1.0   \n",
       "ID:0101010100-o           0.001854           0.001854                 -1.0   \n",
       "ID:0100010100-o           0.002104           0.002104                 -1.0   \n",
       "ID:0201010100-o           0.037026           0.037026                 -1.0   \n",
       "ID:0200010100-o           0.010783           0.010783                 -1.0   \n",
       "ID:0301010100-o           0.037026           0.037026                 -1.0   \n",
       "ID:0300010100-o           0.010783           0.010783                 -1.0   \n",
       "ID:0401010100-o           0.011270           0.011270                 -1.0   \n",
       "ID:0400010100-o           0.004421           0.004421                 -1.0   \n",
       "ID:0501010100-o           0.011270           0.011270                 -1.0   \n",
       "ID:0500010100-o           0.004421           0.004421                 -1.0   \n",
       "ID:0602010100-o           1.775499           1.775499                  1.0   \n",
       "ID:0601010100-o           0.005087           0.005087                  1.0   \n",
       "ID:0600010100-o           0.005813           0.005813                  1.0   \n",
       "ID:0702010100-o           1.775499           1.775499                  1.0   \n",
       "ID:0701010100-o           0.005087           0.005087                  1.0   \n",
       "ID:0700010100-o           0.005813           0.005813                  1.0   \n",
       "\n",
       "                 Direction of J (y?)  Direction of J (z?)  \n",
       "ID:0102010100-o         2.178000e-05         7.473000e-05  \n",
       "ID:0101010100-o        -2.010000e-06         2.543000e-05  \n",
       "ID:0100010100-o         5.470000e-06        -3.260000e-06  \n",
       "ID:0201010100-o        -4.200000e-07         8.960000e-06  \n",
       "ID:0200010100-o        -4.370000e-06        -4.630000e-06  \n",
       "ID:0301010100-o        -3.000000e-07         5.340000e-06  \n",
       "ID:0300010100-o        -4.380000e-06        -4.700000e-06  \n",
       "ID:0401010100-o        -7.000000e-06         1.213000e-05  \n",
       "ID:0400010100-o        -3.060000e-06        -6.310000e-06  \n",
       "ID:0501010100-o        -1.148000e-05         2.078000e-05  \n",
       "ID:0500010100-o        -3.110000e-06        -6.320000e-06  \n",
       "ID:0602010100-o        -3.080000e-06        -1.133000e-05  \n",
       "ID:0601010100-o         7.970000e-06        -2.137000e-05  \n",
       "ID:0600010100-o        -2.200000e-07        -2.900000e-07  \n",
       "ID:0702010100-o        -3.550000e-06        -1.123000e-05  \n",
       "ID:0701010100-o         6.220000e-06        -2.377000e-05  \n",
       "ID:0700010100-o        -2.300000e-07        -3.100000e-07  "
      ]
     },
     "execution_count": 38,
     "metadata": {},
     "output_type": "execute_result"
    }
   ],
   "source": [
    "df = pd.DataFrame.from_dict(paramsmerged, orient='index',\n",
    "                            columns = ['J=L+S (Cartesian)',\n",
    "                                       'J=L+S (Spin axis)',\n",
    "                                       'Direction of J (x?)',\n",
    "                                       'Direction of J (y?)',\n",
    "                                       'Direction of J (z?)'])\n",
    "df"
   ]
  },
  {
   "cell_type": "markdown",
   "metadata": {},
   "source": [
    "# Calculating magnetization"
   ]
  },
  {
   "cell_type": "markdown",
   "metadata": {},
   "source": [
    "## Cartesian (with direction)"
   ]
  },
  {
   "cell_type": "code",
   "execution_count": 39,
   "metadata": {},
   "outputs": [
    {
     "name": "stdout",
     "output_type": "stream",
     "text": [
      "0.166403 * -1.0 = -0.166403\n",
      "0.001853875 * -1.0 = -0.001853875\n",
      "0.002103611 * -1.0 = -0.002103611\n",
      "0.03702574 * -1.0 = -0.03702574\n",
      "0.01078338 * -1.0 = -0.01078338\n",
      "0.03702562 * -1.0 = -0.03702562\n",
      "0.01078338 * -1.0 = -0.01078338\n",
      "0.01127024 * -1.0 = -0.01127024\n",
      "0.004421223 * -1.0 = -0.004421223\n",
      "0.01127029 * -1.0 = -0.01127029\n",
      "0.004421223 * -1.0 = -0.004421223\n",
      "1.775499 * 1.0 = 1.775499\n",
      "0.005087402 * 1.0 = 0.005087402\n",
      "0.00581304 * 1.0 = 0.00581304\n",
      "1.775499 * 1.0 = 1.775499\n",
      "0.005087399 * 1.0 = 0.005087399\n",
      "0.00581304 * 1.0 = 0.00581304\n",
      "\n",
      "Total magnetic moment = 3.275437299\n",
      "Unit cell volume: 56.01633474574038 A³\n",
      "Magnetization: 0.6814431264703318 T\n"
     ]
    }
   ],
   "source": [
    "# calculating total magnetic moment by summing all\n",
    "# (Total moment (of an orbital) * Direction of J (of the same orbital))\n",
    "totmagnmomC = 0\n",
    "for key in totmomentsD.keys():\n",
    "    totmagnmomC += totmomentsD[key][0]*[x for x in dirofJD[key] if abs(x) > 0.9][0]\n",
    "    print(totmomentsD[key][0], '*', \n",
    "          [x for x in dirofJD[key] if abs(x) > 0.9][0], '=', \n",
    "          totmomentsD[key][0]*[x for x in dirofJD[key] if abs(x) > 0.9][0])\n",
    "    #    total magnetic moment J=L+S * orientation +/-1, wherever it is\n",
    "\n",
    "print(f'\\nTotal magnetic moment = {totmagnmomC}')\n",
    "\n",
    "# getting unit cell volume in A^3 \n",
    "ucv = findlinevaldict(lines, 'unit cell volume:')\n",
    "ucvA = ucv[list(ucv.keys())[0]][0] / 1.8897259**3 # unit cell volume in A\n",
    "print(f'Unit cell volume: {ucvA} A\\N{SUPERSCRIPT THREE}')\n",
    "\n",
    "# calculating magnetization in Tesla\n",
    "magnetizationT = totmagnmomC/ucvA*11.654\n",
    "print(f'Magnetization: {magnetizationT} T')"
   ]
  },
  {
   "cell_type": "markdown",
   "metadata": {},
   "source": [
    "## Spin axis (no direction?)"
   ]
  },
  {
   "cell_type": "code",
   "execution_count": 40,
   "metadata": {},
   "outputs": [
    {
     "name": "stdout",
     "output_type": "stream",
     "text": [
      "0.166403\n",
      "0.001853875\n",
      "0.002103611\n",
      "0.03702574\n",
      "0.01078338\n",
      "0.03702562\n",
      "0.01078338\n",
      "0.01127024\n",
      "0.004421223\n",
      "0.01127029\n",
      "0.004421223\n",
      "1.775499\n",
      "0.005087402\n",
      "0.00581304\n",
      "1.775499\n",
      "0.005087399\n",
      "0.00581304\n",
      "\n",
      "Total magnetic moment = 3.870160463\n",
      "Unit cell volume: 56.01633474574038 A³\n",
      "Magnetization: 0.805173173870176 T\n"
     ]
    }
   ],
   "source": [
    "# calculating total magnetic moment by summing all\n",
    "# (Total moment (of an orbital) * Direction of J (of the same orbital))\n",
    "totmagnmomSA = 0\n",
    "for key in totmomentsD.keys():\n",
    "    totmagnmomSA += totmomentsD[key][1]\n",
    "    print(totmomentsD[key][1])\n",
    "    #    total magnetic moment J=L+S * orientation +/-1, wherever it is\n",
    "\n",
    "print(f'\\nTotal magnetic moment = {totmagnmomSA}')\n",
    "\n",
    "# getting unit cell volume in A^3 \n",
    "ucv = findlinevaldict(lines, 'unit cell volume:')\n",
    "ucvA = ucv[list(ucv.keys())[0]][0] / 1.8897259**3 # unit cell volume in A\n",
    "print(f'Unit cell volume: {ucvA} A\\N{SUPERSCRIPT THREE}')\n",
    "\n",
    "# calculating magnetization in Tesla\n",
    "magnetizationT = totmagnmomSA/ucvA*11.654\n",
    "print(f'Magnetization: {magnetizationT} T')"
   ]
  },
  {
   "cell_type": "markdown",
   "metadata": {},
   "source": [
    "# Results\n",
    "<table border=\"1\">\n",
    "  <tr>\n",
    "    <th rowspan = \"2\">Direction</th>\n",
    "    <th colspan = \"3\">Cartesian</th>\n",
    "    <th colspan = \"3\">Spin axis</th>\n",
    "  </tr>\n",
    "  <tr>\n",
    "    <td><b>Total magnetic moment</b></td>\n",
    "    <td><b>Unit cell volume (&#8491;<sup>3</sup>)</b></td>\n",
    "    <td><b>Magnetization (T)</b></td>\n",
    "    <td><b>Total magnetic moment</b></td>\n",
    "    <td><b>Unit cell volume (&#8491;<sup>3</sup>)</b></td>\n",
    "    <td><b>Magnetization (T)</b></td>\n",
    "  </tr>\n",
    "  <tr>\n",
    "    <td><b>x</b></td>\n",
    "    <td>3.272729207</td>\n",
    "    <td>56.01633474574038</td>\n",
    "    <td>0.6808797175234369</td>\n",
    "    <td>3.870361919</td>\n",
    "    <td>56.01633474574038</td>\n",
    "    <td>0.8052150860772966</td>\n",
    "  </tr>\n",
    "  <tr>\n",
    "    <td><b>z</b></td>\n",
    "    <td>3.275437299</td>\n",
    "    <td>56.01633474574038</td>\n",
    "    <td>0.6814431264703318</td>\n",
    "    <td>3.870160463</td>\n",
    "    <td>56.01633474574038</td>\n",
    "    <td>0.805173173870176</td>\n",
    "  </tr>\n",
    "</table>"
   ]
  },
  {
   "cell_type": "code",
   "execution_count": null,
   "metadata": {},
   "outputs": [],
   "source": []
  }
 ],
 "metadata": {
  "kernelspec": {
   "display_name": "Python 3 (ipykernel)",
   "language": "python",
   "name": "python3"
  },
  "language_info": {
   "codemirror_mode": {
    "name": "ipython",
    "version": 3
   },
   "file_extension": ".py",
   "mimetype": "text/x-python",
   "name": "python",
   "nbconvert_exporter": "python",
   "pygments_lexer": "ipython3",
   "version": "3.12.8"
  }
 },
 "nbformat": 4,
 "nbformat_minor": 4
}
