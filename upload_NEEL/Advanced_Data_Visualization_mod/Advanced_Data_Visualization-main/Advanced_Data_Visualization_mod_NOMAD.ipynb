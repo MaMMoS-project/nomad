{
 "cells": [
  {
   "cell_type": "markdown",
   "id": "ac39c21d-db36-4274-b3e5-6f58fe5ccfcb",
   "metadata": {},
   "source": [
    "## **Advanced Data Visualization using hdf5 datafiles from Institut Néel**\n",
    "- Version: 1.0.2 <br>\n",
    "- Author: William Rigaut <br>\n",
    "- Date: 26.06.2025  <br>\n",
    "- Package developped at Institut Néel to visualize and manipulate the data with python commands. A tool (DaHU) to quickly visualize the data is already available at https://github.com/Combinatorials-Neel/DaHU. This Notebook will allow you to customize plots with much less restrictions but needs basic python knowledge."
   ]
  },
  {
   "cell_type": "markdown",
   "id": "a88d7ae5",
   "metadata": {},
   "source": [
    "### **1. Introduction**"
   ]
  },
  {
   "cell_type": "markdown",
   "id": "d60a414e",
   "metadata": {},
   "source": [
    "<p>An <b>HDF5</b> datafile compiled from high-throughput experiments at Institut Néel contains different measurement scans for each point in a 2D-grid over a thin film deposited on a 100mm substrate. This 2D-grid contains a point every 5mm centered around the center of the wafer itself, by considering the circular shape of the substrate one datafile contains 249 scans for each main characterization technique.</p>\n",
    "\n",
    "<p>At each position, four main characterization techniques can be performed: <p>\n",
    "\n",
    "- <b>Energy Dispersive X-ray spectroscopy (EDX)</b> where element composition can be determined using a scanning electron microscope.\n",
    "\n",
    "- <b>Scanning Magneto Optics Kerr Effect (MOKE)</b> where the coercive field on the surface of a magnetic thin film can be obtained by a fast optical measurement under a pulsed magnetic field.\n",
    "\n",
    "- <b>X-Ray Diffraction (XRD)</b> where structural properties can be determined (Phases and lattice parameters) using either a automated laboratory diffractometer or synchrotron radiation.\n",
    "\n",
    "- <b>Profilometry (DEKTAK)</b>  is also used to estimate magnetic film thickness at every position with a calibration experiment using a patterned substrate. This technique is new and it has not been applied to older datasets. Profilometry data will be added in a futur version of the package and is currently not supported.\n",
    "\n",
    "The HDF5 file structure is defined using a standard very similar to the <b>NeXuS hdf5 file format</b> used in synchrotron facilities (https://www.nexusformat.org/).\n",
    "\n",
    "<span style=\"color: red;\">Disclamer: The Notebook was written as an example for a specific dataset and the example code will have to be slightly adapted for other datasets.</span>"
   ]
  },
  {
   "cell_type": "markdown",
   "id": "babdb526",
   "metadata": {},
   "source": [
    "### **2. Read and display data from hdf5 file using a GUI**"
   ]
  },
  {
   "cell_type": "markdown",
   "id": "055b91d7",
   "metadata": {},
   "source": [
    "Before starting, you can download the example dataset [here](https://drive.google.com/drive/folders/1SQeCeuoVnfZD1pjYhtj-ZBLcgDnFYLYJ?usp=sharing). This file contains a full dataset for the (NdCe)FeB system.\n",
    "\n",
    "A first overview of the HDF5 datafile can be done using a graphical user interface (GUI) program such as:\n",
    "- `pyMca` http://www.silx.org/doc/PyMca/dev/install.html\n",
    "- `hdf5view` https://pypi.org/project/hdf5view/\n",
    "\n",
    "<p>Without GUI, the python module <b>h5py</b>, which is actually used by the reader can also be considered.</p>\n",
    "\n",
    "<p>Here is an example with the PyMca software:</p>"
   ]
  },
  {
   "cell_type": "markdown",
   "id": "a35b5023",
   "metadata": {},
   "source": [
    "![HDF5 file display using PyMca software](examples/Figure_1-PyMca.png)"
   ]
  },
  {
   "cell_type": "markdown",
   "id": "31159279",
   "metadata": {},
   "source": [
    "Inside this hdf5 datafile example (NdCeFeB) you will be able to find at most 5 groups:\n",
    "- `sample` containing basic sample info such as layer structure, deposition date, operator, ect...\n",
    "- `NdCeFeB_1-1_EDX` containing all EDX scans at each wafer position.\n",
    "- `NdCeFeB_2-5_ESRF` containing all XRD scans at each wafer position.\n",
    "- `NdCeFeB_2-5_MOKE` containing all MOKE scans at each wafer position.\n",
    "\n",
    "These group will be reviewed in more details using the reader itself, but feel free to explore the dataset on your own and please if you have any suggestions."
   ]
  },
  {
   "cell_type": "markdown",
   "id": "a780ea5e",
   "metadata": {},
   "source": [
    "First, you need to install all the required packages using the following command:"
   ]
  },
  {
   "cell_type": "code",
   "execution_count": null,
   "id": "b77e6cd1",
   "metadata": {},
   "outputs": [],
   "source": [
    "# This step is optional and not needed if all packages are already present \n",
    "!pip install -r requirements.txt"
   ]
  },
  {
   "cell_type": "markdown",
   "id": "6a1469e3",
   "metadata": {},
   "source": [
    "### **3. Using the hdf5 reader from Institut Néel**"
   ]
  },
  {
   "cell_type": "markdown",
   "id": "32465689",
   "metadata": {},
   "source": [
    "##### **3.1 Default xarray full dataset**"
   ]
  },
  {
   "cell_type": "markdown",
   "id": "ece79ebf",
   "metadata": {},
   "source": [
    "A built-in module has been written to parse the full hdf5 file, it will read all the data along with the attributs associated to each dataset and convert it to an xarray.Dataset object. \n",
    "\n",
    "From the xarrays you will be able to manipulate and plot the data as your convenience.\n",
    "\n",
    "First, you can import the `read_hdf5` functions along the `pathlib` python library to use path that are OS independant."
   ]
  },
  {
   "cell_type": "code",
   "execution_count": null,
   "id": "da8b5815",
   "metadata": {},
   "outputs": [],
   "source": [
    "import packages.readers.read_hdf5 as read_hdf5\n",
    "import pathlib"
   ]
  },
  {
   "cell_type": "markdown",
   "id": "a5fcdaa5",
   "metadata": {},
   "source": [
    "Then you simply need to specify the path to your HDF5 datafile using the following command: "
   ]
  },
  {
   "cell_type": "code",
   "execution_count": null,
   "id": "b68f9950",
   "metadata": {},
   "outputs": [],
   "source": [
    "# HDF5_path = pathlib.Path(\"/Users/williamrigaut/Desktop/combinatorials/combinatorials-data/NdCeFeB/NdCeFeB_2-5.hdf5\")\n",
    "HDF5_path = pathlib.Path(\"./datasets/NdCeFeB_2-5.hdf5\")"
   ]
  },
  {
   "cell_type": "markdown",
   "id": "d7e81119",
   "metadata": {},
   "source": [
    "The package `read_hdf5` includes a function `get_full_dataset()` that will read inside the HDF5 file to retrieve results from <b>EDX</b>, <b>MOKE</b> and <b>XRD</b> for every position using an xarray.\n",
    "\n",
    "You can call it by using the following:\n"
   ]
  },
  {
   "cell_type": "code",
   "execution_count": null,
   "id": "4fc466fe",
   "metadata": {},
   "outputs": [],
   "source": [
    "data = read_hdf5.get_full_dataset(HDF5_path)\n",
    "data # To display the xarray in the notebook"
   ]
  },
  {
   "cell_type": "markdown",
   "id": "7f7d71c1",
   "metadata": {},
   "source": [
    " An interactive widget will allow you to see the content of the dataset. Currently this function returns an xarray.Dataset object with Coordinates (x,y) and the Data variables are :\n",
    " \n",
    " - `A_i Composition` (in at.%) is the compofrsition of A_i from EDX quantification.\n",
    " \n",
    " - `coercivity_dmdh` is the derivate coercivity dM/dH.\n",
    " - `coercivity_m0` (in T) is the coercivity when M = 0.\n",
    " - `intercept_field` (in T) is the intercept field.\n",
    " - `max_kerr_rotation` (in °) is the maximum signal from MOKE.\n",
    " - `reflectivity` (in V) is the MOKE reflectivity.\n",
    " - `P_i Phase Fraction` (in wt.%) is the weight phase fraction of P_i from XRD.\n",
    " - `(P_i)_j Lattice Parameter j` (in nm) is the lattice parameter j of the phase P_i obtained from XRD.\n",
    "\n",
    " Since the coordinate matrix is a 80x80mm square and the wafer sample is shape like a disk, some points are actually outside the wafer and does not have any values associated and are set to np.nan values instead."
   ]
  },
  {
   "cell_type": "markdown",
   "id": "cb2a3566",
   "metadata": {},
   "source": [
    "If you are only interested in one data variable, for example `Coercivity`, you can simply select this data with:"
   ]
  },
  {
   "cell_type": "code",
   "execution_count": null,
   "id": "7182464f",
   "metadata": {},
   "outputs": [],
   "source": [
    "coercivity = data[\"coercivity_m0\"] # Data variables can be selected using the dictionary syntax in python\n",
    "coercivity"
   ]
  },
  {
   "cell_type": "markdown",
   "id": "d2a517b7",
   "metadata": {},
   "source": [
    "Then if you want to only select a specific value for coercivity you can use the following:"
   ]
  },
  {
   "cell_type": "code",
   "execution_count": null,
   "id": "863ab216",
   "metadata": {},
   "outputs": [],
   "source": [
    "coercivity.sel(x=5, y=5)"
   ]
  },
  {
   "cell_type": "code",
   "execution_count": null,
   "id": "28f7aa90",
   "metadata": {},
   "outputs": [],
   "source": [
    "# If needed you can convert from T to A/m using:\n",
    "mu0 = 4 * 3.141592653589793 * 1e-7  # Vacuum permeability in T/(A/m)\n",
    "Hc_in_T = coercivity.sel(x=5, y=5)  # coercivity in T\n",
    "# Hc_in_T = 1.2  # coercivity in T\n",
    "Hc_in_APerm = Hc_in_T/mu0\n",
    "Hc_in_APerm.attrs['units'] = \"A/m\"\n",
    "Hc_in_APerm"
   ]
  },
  {
   "cell_type": "markdown",
   "id": "61b42e44",
   "metadata": {},
   "source": [
    "- To better visualize the data, you can plot the data in a 2D heatmap using `plot()` directly on the xarray. However for better consistancy with DaHU we choose to use the `plotly` library instead."
   ]
  },
  {
   "cell_type": "code",
   "execution_count": null,
   "id": "cebfa66b",
   "metadata": {},
   "outputs": [],
   "source": [
    "# Heatmap plot\n",
    "import plotly.express as px\n",
    "\n",
    "coercivity = data[\"coercivity_m0\"] # Getting all the coercivity values\n",
    "\n",
    "fig = px.imshow(coercivity, color_continuous_scale='rainbow') # using imshow from plotly\n",
    "fig.update_layout(title=\"Coercivity Heatmap\", xaxis_title=\"Position X (mm)\", yaxis_title=\"Position Y (mm)\", width=700, height=600) # Adding title, labels and figure \n",
    "fig.update_yaxes(autorange=True) # To have the y axis from -40 to 40\n",
    "\n",
    "fig.show()"
   ]
  },
  {
   "cell_type": "markdown",
   "id": "56be6bf0",
   "metadata": {},
   "source": [
    "You can also select subsets with the `sel()` function by specifiying in argument which values of x and y you need. For more advanced xarray operations you can directly check https://docs.xarray.dev/en/stable/getting-started-guide/quick-overview.html\n",
    "\n",
    "The following examples include a line selection for Nd composition."
   ]
  },
  {
   "cell_type": "code",
   "execution_count": null,
   "id": "3cf80789",
   "metadata": {},
   "outputs": [],
   "source": [
    "# Line x=0 selected for Nd composition\n",
    "import plotly.express as px\n",
    "\n",
    "composition_Nd = data[\"Nd Composition\"] # Nd composition data variable\n",
    "line_composition = composition_Nd.sel(y=0) # Selecting the line y=0\n",
    "coordinates = line_composition.coords[\"x\"] # Change .coords[\"x\"] to .coords[\"y\"] if you plot at x fixed\n",
    "\n",
    "fig = px.line(x=coordinates, y=line_composition, width=800, height=600) \n",
    "fig.update_layout(title=\"Nd Composition at line y=0\", xaxis_title=\"Position X (mm)\", yaxis_title=\"Nd Composition (at.%)\")\n",
    "\n",
    "fig.show()"
   ]
  },
  {
   "cell_type": "markdown",
   "id": "c6b05bf6",
   "metadata": {},
   "source": [
    "Here is another heatmap example with the lattice parameter C for NdFeB :"
   ]
  },
  {
   "cell_type": "code",
   "execution_count": null,
   "id": "04a98e53",
   "metadata": {},
   "outputs": [],
   "source": [
    "# Lattice parameter C for NdFeB (Not present in the currently provided dataset, will give an error)\n",
    "import plotly.express as px\n",
    "\n",
    "lattice_parameter_C_NdFeB = data[\"Nd2Fe14B Lattice Parameter C\"] #Lattice parameter C for NdFeB phase\n",
    "\n",
    "fig = px.imshow(lattice_parameter_C_NdFeB, color_continuous_scale='rainbow')\n",
    "fig.update_layout(title=\"Lattice parameter C for NdFeB phase\", xaxis_title=\"Position X (mm)\", yaxis_title=\"Position Y (mm)\", width=800, height=600)\n",
    "fig.update_yaxes(autorange=True)\n",
    "\n",
    "fig.show()"
   ]
  },
  {
   "cell_type": "markdown",
   "id": "12994ef8",
   "metadata": {},
   "source": [
    "You can then associate multiple datasets to plot for example c/a vs coercivity in a 1D plot. For this I recommand using the `pandas` module as well after reshaping our data:"
   ]
  },
  {
   "cell_type": "code",
   "execution_count": null,
   "id": "ce61b947",
   "metadata": {},
   "outputs": [],
   "source": [
    "# More manipulations\n",
    "import plotly.express as px\n",
    "import pandas as pd\n",
    "\n",
    "# If we want to do operations on the data, we reshape it to a 1D array first\n",
    "lattice_a = data[\"Nd2Fe14B Lattice Parameter A\"].values.reshape(-1) # .values.reshape(-1) converts an 2D xarray to a 1D numpy array\n",
    "lattice_c = data[\"Nd2Fe14B Lattice Parameter C\"].values.reshape(-1)\n",
    "coercivity = data[\"coercivity_m0\"].values.reshape(-1)\n",
    "\n",
    "# We can create a pandas dataframe with the reshaped 1D data, here we can directly do operations on 1D datasets if they are the same shape : lattice_c/lattice_a is valid here.\n",
    "df = pd.DataFrame({\"c/a\": lattice_c/lattice_a, \"Coercivity\": coercivity})\n",
    "\n",
    "fig = px.scatter(df, x= \"Coercivity\", y=\"c/a\")\n",
    "fig.update_layout(title=\"c/a vs coercivity\", xaxis_title=\"Coercivity (T)\", yaxis_title=\"c/a\", width=800, height=800)\n",
    "fig.update_traces(marker={'size': 10}) # To change the size of the markers\n",
    "\n",
    "fig.show()"
   ]
  },
  {
   "cell_type": "markdown",
   "id": "db27d6fb",
   "metadata": {},
   "source": [
    "Another example is a ternary plot for Nd, Ce and Fe composition vs coercivity. Here we are also using `pandas` so the data is reshaped to a 1D array first. You can then zoom on the plot with plotly using the zoom button on the top right corner of the figure."
   ]
  },
  {
   "cell_type": "code",
   "execution_count": null,
   "id": "6d2ef664",
   "metadata": {},
   "outputs": [],
   "source": [
    "# Ternary plot\n",
    "import plotly.express as px\n",
    "import pandas as pd\n",
    "\n",
    "# Rescaling of the composition to at.%\n",
    "Nd = (data[\"Nd Composition\"].values*100).reshape(-1)\n",
    "Ce = (data[\"Ce Composition\"].values*100).reshape(-1)\n",
    "Fe = (data[\"Fe Composition\"].values*100).reshape(-1)\n",
    "coercivity = data[\"coercivity_m0\"].values.reshape(-1)\n",
    "# Creating the dataframe from the data\n",
    "df = pd.DataFrame({\"Nd Composition\": Nd, \"Ce Composition\": Ce, \"Fe Composition\": Fe, \"Coercivity\": coercivity})\n",
    "\n",
    "fig = px.scatter_ternary(df, a='Nd Composition', b='Ce Composition', c='Fe Composition', color='Coercivity', color_continuous_scale='rainbow') # Using scatter_ternary from plotly\n",
    "fig.update_layout(title=\"Ternary plot for composition vs coercivity\", width=1000, height=800)\n",
    "fig.update_traces(marker={'size': 10})\n",
    "\n",
    "fig.show()"
   ]
  },
  {
   "cell_type": "markdown",
   "id": "0d7b549b",
   "metadata": {},
   "source": [
    "##### **3.2 Getting xarray datasets containing measurement data**"
   ]
  },
  {
   "cell_type": "markdown",
   "id": "7819ac79",
   "metadata": {},
   "source": [
    "If you need to work with the measurement readout instead, the function `get_measurement_data()` will return an xarray DataTree object containing all the scans of every experiment."
   ]
  },
  {
   "cell_type": "code",
   "execution_count": null,
   "id": "980bc0ff",
   "metadata": {},
   "outputs": [],
   "source": [
    "import packages.readers.read_hdf5 as read_hdf5\n",
    "import pathlib\n",
    "HDF5_path = pathlib.Path(\"/Users/williamrigaut/Desktop/combinatorials/combinatorials-data/NdCeFeB/NdCeFeB_2-5.hdf5\")\n",
    "\n",
    "all_scans = read_hdf5.get_measurement_data(HDF5_path, datatype=\"all\")"
   ]
  },
  {
   "cell_type": "code",
   "execution_count": null,
   "id": "28e2d71e",
   "metadata": {},
   "outputs": [],
   "source": [
    "all_scans # You can visualize its content in the notebook by calling the variable"
   ]
  },
  {
   "cell_type": "markdown",
   "id": "eed7056a",
   "metadata": {},
   "source": [
    "Before plotting, you need to select which dataset you want to plot as a function of another one, as an example :"
   ]
  },
  {
   "cell_type": "code",
   "execution_count": null,
   "id": "64a6a8b1",
   "metadata": {},
   "outputs": [],
   "source": [
    "# 1D pattern\n",
    "import plotly.express as px\n",
    "\n",
    "# Getting the angle and the intensity of the XRD pattern\n",
    "angle = all_scans[\"XRD\"][\"angle\"].sel(x=-15, y=-30)\n",
    "intensity = all_scans[\"XRD\"][\"intensity\"].sel(x=-15, y=-30)\n",
    "\n",
    "fig = px.line(x=angle, y=intensity, width=800, height=600)\n",
    "fig.update_layout(title=\"XRD Pattern at position x=-15, y=-30\", xaxis_title=\"Two Theta (°)\", yaxis_title=\"Intensity (a.u.)\")\n",
    "\n",
    "fig.show()"
   ]
  },
  {
   "cell_type": "markdown",
   "id": "64c6e4d5",
   "metadata": {},
   "source": [
    "One beautiful way to look at XRD patterns is with a waterfall plot. Here you select a line and you plot an image with the intensity on the color scale, the angle on the x axis and the position on the y axis."
   ]
  },
  {
   "cell_type": "code",
   "execution_count": null,
   "id": "be9df1b3",
   "metadata": {},
   "outputs": [],
   "source": [
    "# Waterfall pattern\n",
    "import plotly.express as px\n",
    "\n",
    "angle = all_scans[\"XRD\"][\"angle\"].sel(x=-15, y=-30).values\n",
    "intensity = all_scans[\"XRD\"][\"intensity\"].sel(x=0).values\n",
    "positions = all_scans[\"XRD\"][\"intensity\"].sel(x=0).coords[\"y\"] # Change to \"y\" if you plot at x fixed\n",
    "\n",
    "fig = px.imshow(intensity, x=angle, y=positions, aspect=\"auto\", color_continuous_scale='plasma')\n",
    "fig.update_layout(title=\"XRD Waterfall Pattern at line y=-15\", xaxis_title=\"Two Theta (°)\", yaxis_title=\"Position X (mm)\", width=800, height=600)\n",
    "fig.update_yaxes(autorange=True)\n",
    "\n",
    "fig.show()"
   ]
  },
  {
   "cell_type": "markdown",
   "id": "5f3777c7",
   "metadata": {},
   "source": [
    "### **4. Data export to HDF5 and other formats**"
   ]
  },
  {
   "cell_type": "markdown",
   "id": "e196e8ec",
   "metadata": {},
   "source": [
    "##### **4.1 Simplified HDF5 dataset for Machine Learning**"
   ]
  },
  {
   "cell_type": "markdown",
   "id": "760c8eaa",
   "metadata": {},
   "source": [
    "A simplified HDF5 dataset can be created from a full HDF5 dataset using the function `create_simplified_dataset()`. This will create a new dataset with a structure that is different from the default format, making it easier to use for ML.\n",
    "\n",
    "Part of the data will be copied and restructured as an hdf5 file containing 289 groups, one group for each position. In each group, datasets of different measurements will be directly created regardless of what instrument measured the data.\n",
    "\n",
    "<span style=\"color: red;\">Disclamer: The simplified HDF5 file can not be read by the current version of the reader since the structure is very different from the original file.</span>"
   ]
  },
  {
   "cell_type": "code",
   "execution_count": null,
   "id": "71777c38",
   "metadata": {},
   "outputs": [],
   "source": [
    "import packages.readers.read_hdf5 as read_hdf5\n",
    "import pathlib\n",
    "\n",
    "# Filepath for the HDF5 files\n",
    "foldername = None\n",
    "# HDF5_path = pathlib.Path(f\"/Users/williamrigaut/Desktop/combinatorials/combinatorials-data/{foldername}.hdf5\")\n",
    "HDF5_path = pathlib.Path(\"./datasets/NdCeFeB_2-5.hdf5\")\n",
    "#HDF5_simplified_path = pathlib.Path(f\"/Users/williamrigaut/Desktop/combinatorials/combinatorials-data/{foldername}_simplified.hdf5\")\n",
    "HDF5_path = pathlib.Path(\"./datasets/NdCeFeB_2-5_simplified.hdf5\")\n",
    "\n",
    "# read_hdf5.create_simplified_dataset(HDF5_path, HDF5_simplified_path) # Will return the datatypes found inside the default hdf5 file\n"
   ]
  },
  {
   "cell_type": "markdown",
   "id": "a9e708bf",
   "metadata": {},
   "source": [
    "### **Appendix A. CHADA Tables and Diagrams for High Throughput Experiments at Néel Institut**"
   ]
  },
  {
   "cell_type": "markdown",
   "id": "482eb15d",
   "metadata": {},
   "source": [
    "#### **A.1 CHADA Diagrams**"
   ]
  },
  {
   "cell_type": "markdown",
   "id": "19bee141",
   "metadata": {},
   "source": [
    "CHADA Diagrams are used to describe the flowchart of an experiment with a simple skematic. Each step is described with a short explanation and a color:\n",
    "\n",
    "- RED: Indicates what type of sample was used to start the experiment.\n",
    "\n",
    "- BLUE: Shows what needs to be done during the experiment to obtain the measured data.\n",
    "\n",
    "- DARK GREEN: Raw data measured directly from the experiment.\n",
    "\n",
    "- LIGHT GREEN: Treated data, usually extracted for the raw data using a software or a python code.\n",
    "\n",
    "- DARK BLUE CONTOUR: Final treated data, is the content that you obtain from the `get_full_dataset()` command."
   ]
  },
  {
   "cell_type": "markdown",
   "id": "c8ce7c98",
   "metadata": {},
   "source": [
    "##### **CHADA Diagram for EDX (click left to display):**"
   ]
  },
  {
   "cell_type": "markdown",
   "id": "45742b20",
   "metadata": {},
   "source": [
    "![EDX Diagram](examples/EDX.svg)"
   ]
  },
  {
   "cell_type": "markdown",
   "id": "2311c753",
   "metadata": {},
   "source": [
    "##### **CHADA Diagram for MOKE:**"
   ]
  },
  {
   "cell_type": "markdown",
   "id": "f8b2788b",
   "metadata": {},
   "source": [
    "![MOKE Diagram](examples/MOKE.svg)"
   ]
  },
  {
   "cell_type": "markdown",
   "id": "d0a65645",
   "metadata": {},
   "source": [
    "##### **CHADA Diagram for XRD:**"
   ]
  },
  {
   "cell_type": "markdown",
   "id": "f8e35690",
   "metadata": {},
   "source": [
    "![XRD Diagram](examples/XRD.svg)"
   ]
  },
  {
   "cell_type": "markdown",
   "id": "f9043457",
   "metadata": {},
   "source": [
    "#### **A.2 CHADA Tables**\n",
    "CHADA Tables are used to describe in details each experiment with a longer description that diagrams. Each important point about the experiment is described in a few lines. The color code is the same as for CHADA Tables."
   ]
  },
  {
   "cell_type": "markdown",
   "id": "a308e404",
   "metadata": {},
   "source": [
    "##### **CHADA Table for EDX:**"
   ]
  },
  {
   "cell_type": "markdown",
   "id": "c64ee627",
   "metadata": {},
   "source": [
    "![EDX Table](examples/CHADA_TABLES_EDX.svg)"
   ]
  },
  {
   "cell_type": "markdown",
   "id": "bc2300da",
   "metadata": {},
   "source": [
    "##### **CHADA Table for MOKE:**"
   ]
  },
  {
   "cell_type": "markdown",
   "id": "6b94bc08",
   "metadata": {},
   "source": [
    "![MOKE Table](examples/CHADA_TABLES_MOKE.svg)"
   ]
  },
  {
   "cell_type": "markdown",
   "id": "3d5f74c9",
   "metadata": {},
   "source": [
    "##### **CHADA Table for XRD:**"
   ]
  },
  {
   "cell_type": "markdown",
   "id": "6bfef6c5",
   "metadata": {},
   "source": [
    "![XRD Table](examples/CHADA_TABLES_XRD.svg)"
   ]
  },
  {
   "cell_type": "markdown",
   "id": "cddc3fbc-21f7-4e89-bf49-1bb99c134c76",
   "metadata": {},
   "source": [
    "### **@end-of-notebook**"
   ]
  }
 ],
 "metadata": {
  "kernelspec": {
   "display_name": "Python 3 (ipykernel)",
   "language": "python",
   "name": "python3"
  },
  "language_info": {
   "codemirror_mode": {
    "name": "ipython",
    "version": 3
   },
   "file_extension": ".py",
   "mimetype": "text/x-python",
   "name": "python",
   "nbconvert_exporter": "python",
   "pygments_lexer": "ipython3",
   "version": "3.12.8"
  }
 },
 "nbformat": 4,
 "nbformat_minor": 5
}
