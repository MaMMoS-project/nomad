{
 "cells": [
  {
   "cell_type": "markdown",
   "metadata": {},
   "source": [
    "# Importing Modules, defining functions"
   ]
  },
  {
   "cell_type": "code",
   "execution_count": 2,
   "metadata": {},
   "outputs": [
    {
     "name": "stdout",
     "output_type": "stream",
     "text": [
      "done\n"
     ]
    }
   ],
   "source": [
    "import numpy as np\n",
    "import pandas as pd\n",
    "import os, sys\n",
    "import dataTestsFunctions as dtf\n",
    "from functools import partial\n",
    "from scipy.optimize import curve_fit\n",
    "from scipy.constants import mu_0\n",
    "from scipy.constants import physical_constants\n",
    "import matplotlib\n",
    "import matplotlib.pyplot as plt\n",
    "matplotlib.rcParams.update({'font.size': 14})\n",
    "import dataTestsFunctions as dtf\n",
    "print('done')"
   ]
  },
  {
   "cell_type": "markdown",
   "metadata": {},
   "source": [
    "# Data directory input"
   ]
  },
  {
   "cell_type": "code",
   "execution_count": 3,
   "metadata": {},
   "outputs": [
    {
     "name": "stdout",
     "output_type": "stream",
     "text": [
      "/Users/santapile/Santas/Projects/MaMMoS/NOMAD/dataExamples/UU/UU-sets/Co2Fe2H4/GS\n",
      "/Users/santapile/Santas/Projects/MaMMoS/NOMAD/dataExamples/UU/UU-sets/Co2Fe2H4/MC\n",
      "['z', 'x', 'y']\n"
     ]
    }
   ],
   "source": [
    "dataDir = '/Users/santapile/Santas/Projects/MaMMoS/NOMAD/dataExamples/UU/UU-sets/Co2Fe2H4'\n",
    "\n",
    "dataDirGS = dataDir + \"/GS\"\n",
    "dataDirMC = dataDir + \"/MC\"\n",
    "\n",
    "xyz_dirs = [dirdir for dirdir in os.listdir(dataDirGS) if len(dirdir) == 1]\n",
    "\n",
    "print(dataDirGS)\n",
    "print(dataDirMC)\n",
    "print(xyz_dirs)"
   ]
  },
  {
   "cell_type": "markdown",
   "metadata": {},
   "source": [
    "# Magnetization calculation"
   ]
  },
  {
   "cell_type": "code",
   "execution_count": 4,
   "metadata": {},
   "outputs": [
    {
     "name": "stdout",
     "output_type": "stream",
     "text": [
      "/Users/santapile/Santas/Projects/MaMMoS/NOMAD/dataExamples/UU/UU-sets/Co2Fe2H4/GS/z/out_last\n"
     ]
    },
    {
     "data": {
      "text/html": [
       "<div>\n",
       "<style scoped>\n",
       "    .dataframe tbody tr th:only-of-type {\n",
       "        vertical-align: middle;\n",
       "    }\n",
       "\n",
       "    .dataframe tbody tr th {\n",
       "        vertical-align: top;\n",
       "    }\n",
       "\n",
       "    .dataframe thead th {\n",
       "        text-align: right;\n",
       "    }\n",
       "</style>\n",
       "<table border=\"1\" class=\"dataframe\">\n",
       "  <thead>\n",
       "    <tr style=\"text-align: right;\">\n",
       "      <th></th>\n",
       "      <th>J=L+S (Cartesian)</th>\n",
       "      <th>J=L+S (Spin axis)</th>\n",
       "      <th>Direction of J (x)</th>\n",
       "      <th>Direction of J (y)</th>\n",
       "      <th>Direction of J (z)</th>\n",
       "    </tr>\n",
       "  </thead>\n",
       "  <tbody>\n",
       "    <tr>\n",
       "      <th>ID:0102010100-o</th>\n",
       "      <td>1.110270</td>\n",
       "      <td>1.110270</td>\n",
       "      <td>1.900000e-07</td>\n",
       "      <td>8.521000e-05</td>\n",
       "      <td>1.0</td>\n",
       "    </tr>\n",
       "    <tr>\n",
       "      <th>ID:0101010100-o</th>\n",
       "      <td>0.005973</td>\n",
       "      <td>0.005973</td>\n",
       "      <td>-3.300000e-07</td>\n",
       "      <td>2.897700e-04</td>\n",
       "      <td>-1.0</td>\n",
       "    </tr>\n",
       "    <tr>\n",
       "      <th>ID:0100010100-o</th>\n",
       "      <td>0.002922</td>\n",
       "      <td>0.002922</td>\n",
       "      <td>3.500000e-07</td>\n",
       "      <td>-1.496200e-04</td>\n",
       "      <td>-1.0</td>\n",
       "    </tr>\n",
       "    <tr>\n",
       "      <th>ID:0202010100-o</th>\n",
       "      <td>1.110270</td>\n",
       "      <td>1.110270</td>\n",
       "      <td>-1.900000e-07</td>\n",
       "      <td>-8.521000e-05</td>\n",
       "      <td>1.0</td>\n",
       "    </tr>\n",
       "    <tr>\n",
       "      <th>ID:0201010100-o</th>\n",
       "      <td>0.005973</td>\n",
       "      <td>0.005973</td>\n",
       "      <td>3.300000e-07</td>\n",
       "      <td>-2.897700e-04</td>\n",
       "      <td>-1.0</td>\n",
       "    </tr>\n",
       "    <tr>\n",
       "      <th>ID:0200010100-o</th>\n",
       "      <td>0.002922</td>\n",
       "      <td>0.002922</td>\n",
       "      <td>-3.500000e-07</td>\n",
       "      <td>1.496200e-04</td>\n",
       "      <td>-1.0</td>\n",
       "    </tr>\n",
       "    <tr>\n",
       "      <th>ID:0302010100-o</th>\n",
       "      <td>2.297475</td>\n",
       "      <td>2.297475</td>\n",
       "      <td>0.000000e+00</td>\n",
       "      <td>0.000000e+00</td>\n",
       "      <td>1.0</td>\n",
       "    </tr>\n",
       "    <tr>\n",
       "      <th>ID:0301010100-o</th>\n",
       "      <td>0.038647</td>\n",
       "      <td>0.038647</td>\n",
       "      <td>0.000000e+00</td>\n",
       "      <td>1.000000e-08</td>\n",
       "      <td>-1.0</td>\n",
       "    </tr>\n",
       "    <tr>\n",
       "      <th>ID:0300010100-o</th>\n",
       "      <td>0.002926</td>\n",
       "      <td>0.002926</td>\n",
       "      <td>-0.000000e+00</td>\n",
       "      <td>-0.000000e+00</td>\n",
       "      <td>-1.0</td>\n",
       "    </tr>\n",
       "    <tr>\n",
       "      <th>ID:0402010100-o</th>\n",
       "      <td>2.297462</td>\n",
       "      <td>2.297462</td>\n",
       "      <td>-0.000000e+00</td>\n",
       "      <td>-0.000000e+00</td>\n",
       "      <td>1.0</td>\n",
       "    </tr>\n",
       "    <tr>\n",
       "      <th>ID:0401010100-o</th>\n",
       "      <td>0.038647</td>\n",
       "      <td>0.038647</td>\n",
       "      <td>-0.000000e+00</td>\n",
       "      <td>-0.000000e+00</td>\n",
       "      <td>-1.0</td>\n",
       "    </tr>\n",
       "    <tr>\n",
       "      <th>ID:0400010100-o</th>\n",
       "      <td>0.002926</td>\n",
       "      <td>0.002926</td>\n",
       "      <td>0.000000e+00</td>\n",
       "      <td>0.000000e+00</td>\n",
       "      <td>-1.0</td>\n",
       "    </tr>\n",
       "    <tr>\n",
       "      <th>ID:0500010100-o</th>\n",
       "      <td>0.018141</td>\n",
       "      <td>0.018141</td>\n",
       "      <td>-7.000000e-08</td>\n",
       "      <td>5.111000e-05</td>\n",
       "      <td>-1.0</td>\n",
       "    </tr>\n",
       "    <tr>\n",
       "      <th>ID:0600010100-o</th>\n",
       "      <td>0.018141</td>\n",
       "      <td>0.018141</td>\n",
       "      <td>-7.000000e-08</td>\n",
       "      <td>5.111000e-05</td>\n",
       "      <td>-1.0</td>\n",
       "    </tr>\n",
       "    <tr>\n",
       "      <th>ID:0700010100-o</th>\n",
       "      <td>0.018141</td>\n",
       "      <td>0.018141</td>\n",
       "      <td>7.000000e-08</td>\n",
       "      <td>-5.111000e-05</td>\n",
       "      <td>-1.0</td>\n",
       "    </tr>\n",
       "    <tr>\n",
       "      <th>ID:0800010100-o</th>\n",
       "      <td>0.018141</td>\n",
       "      <td>0.018141</td>\n",
       "      <td>7.000000e-08</td>\n",
       "      <td>-5.111000e-05</td>\n",
       "      <td>-1.0</td>\n",
       "    </tr>\n",
       "  </tbody>\n",
       "</table>\n",
       "</div>"
      ],
      "text/plain": [
       "                 J=L+S (Cartesian)  J=L+S (Spin axis)  Direction of J (x)  \\\n",
       "ID:0102010100-o           1.110270           1.110270        1.900000e-07   \n",
       "ID:0101010100-o           0.005973           0.005973       -3.300000e-07   \n",
       "ID:0100010100-o           0.002922           0.002922        3.500000e-07   \n",
       "ID:0202010100-o           1.110270           1.110270       -1.900000e-07   \n",
       "ID:0201010100-o           0.005973           0.005973        3.300000e-07   \n",
       "ID:0200010100-o           0.002922           0.002922       -3.500000e-07   \n",
       "ID:0302010100-o           2.297475           2.297475        0.000000e+00   \n",
       "ID:0301010100-o           0.038647           0.038647        0.000000e+00   \n",
       "ID:0300010100-o           0.002926           0.002926       -0.000000e+00   \n",
       "ID:0402010100-o           2.297462           2.297462       -0.000000e+00   \n",
       "ID:0401010100-o           0.038647           0.038647       -0.000000e+00   \n",
       "ID:0400010100-o           0.002926           0.002926        0.000000e+00   \n",
       "ID:0500010100-o           0.018141           0.018141       -7.000000e-08   \n",
       "ID:0600010100-o           0.018141           0.018141       -7.000000e-08   \n",
       "ID:0700010100-o           0.018141           0.018141        7.000000e-08   \n",
       "ID:0800010100-o           0.018141           0.018141        7.000000e-08   \n",
       "\n",
       "                 Direction of J (y)  Direction of J (z)  \n",
       "ID:0102010100-o        8.521000e-05                 1.0  \n",
       "ID:0101010100-o        2.897700e-04                -1.0  \n",
       "ID:0100010100-o       -1.496200e-04                -1.0  \n",
       "ID:0202010100-o       -8.521000e-05                 1.0  \n",
       "ID:0201010100-o       -2.897700e-04                -1.0  \n",
       "ID:0200010100-o        1.496200e-04                -1.0  \n",
       "ID:0302010100-o        0.000000e+00                 1.0  \n",
       "ID:0301010100-o        1.000000e-08                -1.0  \n",
       "ID:0300010100-o       -0.000000e+00                -1.0  \n",
       "ID:0402010100-o       -0.000000e+00                 1.0  \n",
       "ID:0401010100-o       -0.000000e+00                -1.0  \n",
       "ID:0400010100-o        0.000000e+00                -1.0  \n",
       "ID:0500010100-o        5.111000e-05                -1.0  \n",
       "ID:0600010100-o        5.111000e-05                -1.0  \n",
       "ID:0700010100-o       -5.111000e-05                -1.0  \n",
       "ID:0800010100-o       -5.111000e-05                -1.0  "
      ]
     },
     "execution_count": 4,
     "metadata": {},
     "output_type": "execute_result"
    }
   ],
   "source": [
    "# reading file into lines\n",
    "fileNameMs = dataDirGS + f\"/{xyz_dirs[0]}/out_last\"\n",
    "print(fileNameMs)\n",
    "\n",
    "# create dicts with orbital IDs and values of corresponding\n",
    "# total moment and its direction (+/-1)\n",
    "totmomentsD = dtf.findlinevaldict(fileNameMs, 'Total moment [J=L+S] (mu_B):')\n",
    "dirofJD = dtf.findlinevaldict(fileNameMs, 'Direction of J (Cartesian):')\n",
    "\n",
    "paramsmerged = {}\n",
    "for key in totmomentsD.keys():\n",
    "    paramsmerged[key] = totmomentsD[key] + dirofJD[key]\n",
    "\n",
    "# pretty table\n",
    "df = pd.DataFrame.from_dict(paramsmerged, orient='index',\n",
    "                            columns = ['J=L+S (Cartesian)',\n",
    "                                       'J=L+S (Spin axis)',\n",
    "                                       'Direction of J (x)',\n",
    "                                       'Direction of J (y)',\n",
    "                                       'Direction of J (z)'])\n",
    "df"
   ]
  },
  {
   "cell_type": "markdown",
   "metadata": {},
   "source": [
    "## Calculating magnetization\n",
    "**Use:** Cartesian (with direction) - we should use that</br>\n",
    "Spin axis coordinates we ignore"
   ]
  },
  {
   "cell_type": "code",
   "execution_count": 5,
   "metadata": {},
   "outputs": [
    {
     "name": "stdout",
     "output_type": "stream",
     "text": [
      "1.11027 * 1.0 = 1.11027\n",
      "0.005972917 * -0.99999996 = -0.0059729167610833205\n",
      "0.002921622 * -0.99999999 = -0.00292162197078378\n",
      "1.11027 * 1.0 = 1.11027\n",
      "0.005972917 * -0.99999996 = -0.0059729167610833205\n",
      "0.002921622 * -0.99999999 = -0.00292162197078378\n",
      "2.297475 * 1.0 = 2.297475\n",
      "0.03864668 * -1.0 = -0.03864668\n",
      "0.002926329 * -1.0 = -0.002926329\n",
      "2.297462 * 1.0 = 2.297462\n",
      "0.03864657 * -1.0 = -0.03864657\n",
      "0.002926296 * -1.0 = -0.002926296\n",
      "0.01814118 * -1.0 = -0.01814118\n",
      "0.01814101 * -1.0 = -0.01814101\n",
      "0.01814101 * -1.0 = -0.01814101\n",
      "0.01814118 * -1.0 = -0.01814118\n",
      "\n",
      "Total magnetic moment = 6.641977667536266\n",
      "Unit cell volume: 51.75113447103479 A³\n",
      "Magnetization: 1.495727746428278 T\n"
     ]
    }
   ],
   "source": [
    "# calculating total magnetic moment by summing all\n",
    "# (Total moment (of an orbital) * Direction of J (takes the one with abs value > 0.9, should be +/-1))\n",
    "totmagnmomC = 0\n",
    "for key in totmomentsD.keys():\n",
    "    totmagnmomC += totmomentsD[key][0]*[x for x in dirofJD[key] if abs(x) > 0.9][0]\n",
    "    print(totmomentsD[key][0], '*', \n",
    "          [x for x in dirofJD[key] if abs(x) > 0.9][0], '=', \n",
    "          totmomentsD[key][0]*[x for x in dirofJD[key] if abs(x) > 0.9][0])\n",
    "    #    total magnetic moment J=L+S * orientation +/-1, wherever it is\n",
    "\n",
    "print(f'\\nTotal magnetic moment = {totmagnmomC}')\n",
    "\n",
    "# getting unit cell volume in A^3 from the file\n",
    "ucv = dtf.findlinevaldict(fileNameMs, 'unit cell volume:')\n",
    "# print(ucv)\n",
    "# recalculating in=t in angstroms (should be transferred to m afterwards)\n",
    "ucvA = ucv[list(ucv.keys())[0]][0] / 1.8897259**3 # unit cell volume in A\n",
    "print(f'Unit cell volume: {ucvA} A\\N{SUPERSCRIPT THREE}')\n",
    "\n",
    "# calculating magnetization in Tesla\n",
    "magnetizationT = totmagnmomC/ucvA*11.654\n",
    "print(f'Magnetization: {magnetizationT} T')"
   ]
  },
  {
   "cell_type": "markdown",
   "metadata": {},
   "source": [
    "### Q&A\n",
    "**Question #1:** Why doubled data for each orbital? </br>\n",
    "<b>Answer #1:</b> because calculations may run several times, that's why we need to take the last one\n",
    "\n",
    "**Question #2:** How do we calculate total magnetic moment? (Does direction matter?) </br>\n",
    "<b>Answer #2:</b> the direction does matter. For testing approximate resulting value of Ms should be in the README file, our result should be in 2% range of it"
   ]
  },
  {
   "cell_type": "markdown",
   "metadata": {},
   "source": [
    "# Anisotropy"
   ]
  },
  {
   "cell_type": "code",
   "execution_count": 7,
   "metadata": {},
   "outputs": [
    {
     "name": "stdout",
     "output_type": "stream",
     "text": [
      "Anisotropy constant: 2815104.09991718 J/m³\n"
     ]
    }
   ],
   "source": [
    "energies = {}\n",
    "\n",
    "if f'out_MF_{xyz_dirs[0]}' in os.listdir(dataDirGS+f'/{xyz_dirs[0]}'):\n",
    "    for dirdir in xyz_dirs:\n",
    "        fileName = dataDirGS+f\"/{dirdir}/out_MF_{dirdir}\"\n",
    "        eigenvalue_sum = dtf.findlinevaldict(fileName, 'Eigenvalue sum:')\n",
    "        energies[dirdir] = eigenvalue_sum[list(eigenvalue_sum.keys())[0]][0]\n",
    "elif f'out_Etot_{xyz_dirs[0]}' in os.listdir(dataDirGS+f'/{xyz_dirs[0]}'):\n",
    "    for dirdir in xyz_dirs:\n",
    "        fileName = dataDirGS+f\"/{dirdir}/out_Etot_{dirdir}\"\n",
    "        energies[dirdir] = dtf.getEnergieFromFile(fileName)\n",
    "else:\n",
    "    print('no files for anisotropy')\n",
    "\n",
    "allKs = list()\n",
    "if 'z' in energies.keys():\n",
    "    if 'x' in energies.keys():\n",
    "        Kxz = (energies['x'] - energies['z'])/ucvA*2179874\n",
    "        allKs.append(Kxz)\n",
    "    if 'y' in energies.keys():    \n",
    "        Kyz = (energies['y'] - energies['z'])/ucvA*2179874\n",
    "        allKs.append(Kyz)\n",
    "\n",
    "K = max(allKs) * 1e6            # anisotrpy J/m³\n",
    "\n",
    "print(f'Anisotropy constant: {K} J/m\\N{SUPERSCRIPT THREE}')"
   ]
  },
  {
   "cell_type": "markdown",
   "metadata": {},
   "source": [
    "# Exchange"
   ]
  },
  {
   "cell_type": "code",
   "execution_count": 14,
   "metadata": {},
   "outputs": [
    {
     "name": "stdout",
     "output_type": "stream",
     "text": [
      "Number of atoms: 4\n",
      "Tc = 1080.0 K\n",
      "1.4417993390340271 1.8366897271301381\n",
      "spin wave stiffness constant  1.9952086399150396e-40\n",
      "exchange constant at T=0 6.171002475752816e-12\n",
      "Js_300 (T) 1.3187125147251344\n",
      "A_300 (J/m) 5.162336759682031e-12\n",
      "K_300 (MJ/m) 2.153924003676818\n",
      "5.162336759682031e-12\n",
      "1.3187125147251344\n",
      "Lex  1.9314255411550185\n"
     ]
    },
    {
     "data": {
      "image/png": "[encoded data removed]",
      "text/plain": [
       "<Figure size 640x480 with 1 Axes>"
      ]
     },
     "metadata": {},
     "output_type": "display_data"
    }
   ],
   "source": [
    "# define the form of the function you want to fit\n",
    "fn = dataDirMC + '/M(T)'  # magnetic polarization\n",
    "TK, Js = dtf.read2coldata(fn)\n",
    "\n",
    "with open(dataDirMC + '/momfile', 'rt') as f:\n",
    "    n_atoms = len(f.read().splitlines())\n",
    "print(f'Number of atoms: {n_atoms}')\n",
    "\n",
    "Js = [item*n_atoms/ucvA*11.654 for item in Js]\n",
    "\n",
    "poscut = np.argmin(np.diff(Js)/np.diff(TK))+2\n",
    "Tc = TK[poscut]\n",
    "print(f'Tc = {Tc} K')\n",
    "TKc = TK[:poscut].copy()\n",
    "Jsc = Js[:poscut].copy()\n",
    "\n",
    "xfine = np.linspace(0, Tc, 500)\n",
    "p    = 5.0 / 2\n",
    "beta = 1. / 3\n",
    "m_s = partial(dtf.spontaneous_magnetization, p=p, beta=beta, T_C=Tc)\n",
    "\n",
    "popt, pcov = curve_fit(m_s, TKc, Jsc)\n",
    "Js_0, s = popt\n",
    "print(Js_0, s)\n",
    "T_fit = np.linspace(min(TKc), max(TKc), 500)\n",
    "Js_fit = m_s(T_fit, Js_0, s)\n",
    "\n",
    "g = 2\n",
    "k_b = physical_constants[\"Boltzmann constant\"][0]\n",
    "mu_b = physical_constants[\"Bohr magneton\"][0]\n",
    "\n",
    "M_0 = Js_0/mu_0\n",
    "D = (0.1509\n",
    "     * ((g * mu_b) / (s * beta * M_0)) ** (2. / 3)\n",
    "     * k_b\n",
    "     * Tc\n",
    "     )\n",
    "print(\"spin wave stiffness constant \",D)\n",
    "A_0 = M_0 * D / (2 * g * mu_b)\n",
    "print(\"exchange constant at T=0\",A_0)\n",
    "\n",
    "Js_300 = m_s(300., Js_0, s)\n",
    "print(\"Js_300 (T)\",Js_300)\n",
    "\n",
    "A_300 = A_0*(Js_300/Js_0)**2\n",
    "print(\"A_300 (J/m)\",A_300)\n",
    "\n",
    "K_300 = K*(Js_300/Js_0)**3\n",
    "print(\"K_300 (MJ/m)\",K_300/1e6)\n",
    "\n",
    "# A = A_0*(Js/Js0)^2\n",
    "print(A_300)\n",
    "print(Js_300)\n",
    "print('Lex ',np.sqrt(mu_0*A_300/(Js_300*Js_300))/1e-9)\n",
    "\n",
    "\n",
    "plt.scatter(TK, Js, marker=\"o\", label=\"data points\", facecolors='none', edgecolors='#4575b4')\n",
    "label = \"Kuz'min's fit\"  # fr\"fit $f(x) = ax^2 + bx + c$ with {a=:.3} {b=:.3} {c=:.3}\"\n",
    "plt.plot(xfine, m_s(xfine, Js_0, s), label=label, color='#f46d43')\n",
    "plt.legend()\n",
    "plt.xlabel(\"Temperature (K)\")\n",
    "plt.ylabel(\"J (T)\")\n",
    "# plt.style.use('seaborn-v0_8')\n",
    "plt.show()\n",
    "plt.close()"
   ]
  },
  {
   "cell_type": "code",
   "execution_count": null,
   "metadata": {},
   "outputs": [],
   "source": []
  }
 ],
 "metadata": {
  "kernelspec": {
   "display_name": "Python 3 (ipykernel)",
   "language": "python",
   "name": "python3"
  },
  "language_info": {
   "codemirror_mode": {
    "name": "ipython",
    "version": 3
   },
   "file_extension": ".py",
   "mimetype": "text/x-python",
   "name": "python",
   "nbconvert_exporter": "python",
   "pygments_lexer": "ipython3",
   "version": "3.12.8"
  }
 },
 "nbformat": 4,
 "nbformat_minor": 4
}
