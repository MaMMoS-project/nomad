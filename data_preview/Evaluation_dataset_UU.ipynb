{
 "cells": [
  {
   "cell_type": "markdown",
   "metadata": {},
   "source": [
    "# Importing Modules"
   ]
  },
  {
   "cell_type": "code",
   "execution_count": 1,
   "metadata": {},
   "outputs": [
    {
     "name": "stdout",
     "output_type": "stream",
     "text": [
      "Importing done.\n"
     ]
    }
   ],
   "source": [
    "import os\n",
    "from functools import partial\n",
    "import numpy as np\n",
    "import pandas as pd\n",
    "from scipy.optimize import curve_fit\n",
    "from scipy.constants import mu_0\n",
    "from scipy.constants import physical_constants\n",
    "import matplotlib\n",
    "import matplotlib.pyplot as plt\n",
    "\n",
    "import data_tests_functions as dtf\n",
    "\n",
    "matplotlib.rcParams.update({'font.size': 14})\n",
    "\n",
    "print('Importing done.')"
   ]
  },
  {
   "cell_type": "code",
   "execution_count": 2,
   "metadata": {},
   "outputs": [],
   "source": [
    "def round_to_significant_digits(value, sig_digits):\n",
    "    \"\"\"\n",
    "    Rounds a value to a specified number of significant digits.\n",
    "    :param value: The value to round.\n",
    "    :param sig_digits: The number of significant digits to round to.\n",
    "    :return: The rounded value.\n",
    "    \"\"\"\n",
    "    if value == 0:\n",
    "        raise ValueError(\"Cannot round a value of 0 to significant digits.\")\n",
    "    digits = -int(np.floor(np.log10(abs(value))) - (sig_digits - 1))\n",
    "    value_rounded = round(value, digits)\n",
    "    return value_rounded"
   ]
  },
  {
   "cell_type": "markdown",
   "metadata": {},
   "source": [
    "# Data directory input"
   ]
  },
  {
   "cell_type": "code",
   "execution_count": 3,
   "metadata": {},
   "outputs": [],
   "source": [
    "data_dir = '/Users/santapile/Santas/Projects/MaMMoS/NOMAD/dataExamples/UU/UU-sets/Fe3-xTaxY_x0_22'"
   ]
  },
  {
   "cell_type": "code",
   "execution_count": 4,
   "metadata": {},
   "outputs": [
    {
     "data": {
      "text/plain": [
       "False"
      ]
     },
     "execution_count": 4,
     "metadata": {},
     "output_type": "execute_result"
    }
   ],
   "source": [
    "import check_file_and_folder_structure as cffs\n",
    "cffs.check_structure(data_dir, check_README=True, verbose=True)"
   ]
  },
  {
   "cell_type": "code",
   "execution_count": 5,
   "metadata": {},
   "outputs": [
    {
     "name": "stdout",
     "output_type": "stream",
     "text": [
      "/Users/santapile/Santas/Projects/MaMMoS/NOMAD/dataExamples/UU/UU-sets/Fe3-xTaxY_x0_22/GS\n",
      "/Users/santapile/Santas/Projects/MaMMoS/NOMAD/dataExamples/UU/UU-sets/Fe3-xTaxY_x0_22/MC\n",
      "['z', 'x']\n"
     ]
    }
   ],
   "source": [
    "data_dir_GS = data_dir + \"/GS\"\n",
    "data_dir_MC = data_dir + \"/MC\"\n",
    "\n",
    "xyz_dirs = [dirdir for dirdir in os.listdir(data_dir_GS) if len(dirdir) == 1]\n",
    "\n",
    "print(data_dir_GS)\n",
    "print(data_dir_MC)\n",
    "print(xyz_dirs)"
   ]
  },
  {
   "cell_type": "markdown",
   "metadata": {},
   "source": [
    "# Magnetization"
   ]
  },
  {
   "cell_type": "code",
   "execution_count": 6,
   "metadata": {},
   "outputs": [
    {
     "name": "stdout",
     "output_type": "stream",
     "text": [
      "/Users/santapile/Santas/Projects/MaMMoS/NOMAD/dataExamples/UU/UU-sets/Fe3-xTaxY_x0_22/GS/z/out_last\n"
     ]
    },
    {
     "data": {
      "text/html": [
       "<div>\n",
       "<style scoped>\n",
       "    .dataframe tbody tr th:only-of-type {\n",
       "        vertical-align: middle;\n",
       "    }\n",
       "\n",
       "    .dataframe tbody tr th {\n",
       "        vertical-align: top;\n",
       "    }\n",
       "\n",
       "    .dataframe thead th {\n",
       "        text-align: right;\n",
       "    }\n",
       "</style>\n",
       "<table border=\"1\" class=\"dataframe\">\n",
       "  <thead>\n",
       "    <tr style=\"text-align: right;\">\n",
       "      <th></th>\n",
       "      <th>J=L+S (Cartesian)</th>\n",
       "      <th>J=L+S (Spin axis)</th>\n",
       "      <th>Direction of J (x)</th>\n",
       "      <th>Direction of J (y)</th>\n",
       "      <th>Direction of J (z)</th>\n",
       "    </tr>\n",
       "  </thead>\n",
       "  <tbody>\n",
       "    <tr>\n",
       "      <th>ID:0102010100-o</th>\n",
       "      <td>0.239113</td>\n",
       "      <td>0.239113</td>\n",
       "      <td>4.400000e-07</td>\n",
       "      <td>-2.700000e-07</td>\n",
       "      <td>-1.000000</td>\n",
       "    </tr>\n",
       "    <tr>\n",
       "      <th>ID:0101010100-o</th>\n",
       "      <td>0.020878</td>\n",
       "      <td>0.020878</td>\n",
       "      <td>-2.100000e-07</td>\n",
       "      <td>1.100000e-07</td>\n",
       "      <td>-1.000000</td>\n",
       "    </tr>\n",
       "    <tr>\n",
       "      <th>ID:0100010100-o</th>\n",
       "      <td>0.009247</td>\n",
       "      <td>0.009247</td>\n",
       "      <td>-3.000000e-08</td>\n",
       "      <td>0.000000e+00</td>\n",
       "      <td>-1.000000</td>\n",
       "    </tr>\n",
       "    <tr>\n",
       "      <th>ID:0202010100-o</th>\n",
       "      <td>0.239113</td>\n",
       "      <td>0.239113</td>\n",
       "      <td>4.500000e-07</td>\n",
       "      <td>-2.700000e-07</td>\n",
       "      <td>-1.000000</td>\n",
       "    </tr>\n",
       "    <tr>\n",
       "      <th>ID:0201010100-o</th>\n",
       "      <td>0.020878</td>\n",
       "      <td>0.020878</td>\n",
       "      <td>-2.000000e-07</td>\n",
       "      <td>1.200000e-07</td>\n",
       "      <td>-1.000000</td>\n",
       "    </tr>\n",
       "    <tr>\n",
       "      <th>...</th>\n",
       "      <td>...</td>\n",
       "      <td>...</td>\n",
       "      <td>...</td>\n",
       "      <td>...</td>\n",
       "      <td>...</td>\n",
       "    </tr>\n",
       "    <tr>\n",
       "      <th>ID:3501010100-o</th>\n",
       "      <td>0.022594</td>\n",
       "      <td>0.022594</td>\n",
       "      <td>-1.195028e-02</td>\n",
       "      <td>-6.899670e-03</td>\n",
       "      <td>-0.999905</td>\n",
       "    </tr>\n",
       "    <tr>\n",
       "      <th>ID:3500010100-o</th>\n",
       "      <td>0.002232</td>\n",
       "      <td>0.002232</td>\n",
       "      <td>-1.762899e-02</td>\n",
       "      <td>-1.017728e-02</td>\n",
       "      <td>0.999793</td>\n",
       "    </tr>\n",
       "    <tr>\n",
       "      <th>ID:3602010100-o</th>\n",
       "      <td>1.652269</td>\n",
       "      <td>1.652269</td>\n",
       "      <td>2.927250e-03</td>\n",
       "      <td>1.689930e-03</td>\n",
       "      <td>0.999994</td>\n",
       "    </tr>\n",
       "    <tr>\n",
       "      <th>ID:3601010100-o</th>\n",
       "      <td>0.022594</td>\n",
       "      <td>0.022594</td>\n",
       "      <td>-1.195102e-02</td>\n",
       "      <td>-6.899810e-03</td>\n",
       "      <td>-0.999905</td>\n",
       "    </tr>\n",
       "    <tr>\n",
       "      <th>ID:3600010100-o</th>\n",
       "      <td>0.002232</td>\n",
       "      <td>0.002232</td>\n",
       "      <td>-1.762773e-02</td>\n",
       "      <td>-1.017688e-02</td>\n",
       "      <td>0.999793</td>\n",
       "    </tr>\n",
       "  </tbody>\n",
       "</table>\n",
       "<p>108 rows × 5 columns</p>\n",
       "</div>"
      ],
      "text/plain": [
       "                 J=L+S (Cartesian)  J=L+S (Spin axis)  Direction of J (x)  \\\n",
       "ID:0102010100-o           0.239113           0.239113        4.400000e-07   \n",
       "ID:0101010100-o           0.020878           0.020878       -2.100000e-07   \n",
       "ID:0100010100-o           0.009247           0.009247       -3.000000e-08   \n",
       "ID:0202010100-o           0.239113           0.239113        4.500000e-07   \n",
       "ID:0201010100-o           0.020878           0.020878       -2.000000e-07   \n",
       "...                            ...                ...                 ...   \n",
       "ID:3501010100-o           0.022594           0.022594       -1.195028e-02   \n",
       "ID:3500010100-o           0.002232           0.002232       -1.762899e-02   \n",
       "ID:3602010100-o           1.652269           1.652269        2.927250e-03   \n",
       "ID:3601010100-o           0.022594           0.022594       -1.195102e-02   \n",
       "ID:3600010100-o           0.002232           0.002232       -1.762773e-02   \n",
       "\n",
       "                 Direction of J (y)  Direction of J (z)  \n",
       "ID:0102010100-o       -2.700000e-07           -1.000000  \n",
       "ID:0101010100-o        1.100000e-07           -1.000000  \n",
       "ID:0100010100-o        0.000000e+00           -1.000000  \n",
       "ID:0202010100-o       -2.700000e-07           -1.000000  \n",
       "ID:0201010100-o        1.200000e-07           -1.000000  \n",
       "...                             ...                 ...  \n",
       "ID:3501010100-o       -6.899670e-03           -0.999905  \n",
       "ID:3500010100-o       -1.017728e-02            0.999793  \n",
       "ID:3602010100-o        1.689930e-03            0.999994  \n",
       "ID:3601010100-o       -6.899810e-03           -0.999905  \n",
       "ID:3600010100-o       -1.017688e-02            0.999793  \n",
       "\n",
       "[108 rows x 5 columns]"
      ]
     },
     "execution_count": 6,
     "metadata": {},
     "output_type": "execute_result"
    }
   ],
   "source": [
    "# Reading file into lines; all folders are equivalent according to UU-colleagues, so we can use the first one\n",
    "file_Name_Ms = data_dir_GS + f\"/{xyz_dirs[0]}/out_last\"\n",
    "print(file_Name_Ms)\n",
    "\n",
    "# Create dicts with orbital IDs and values of corresponding\n",
    "# Total moment and its direction (+/-1)\n",
    "tot_moments_D = dtf.find_line_val_dict(file_Name_Ms, 'Total moment [J=L+S] (mu_B):')\n",
    "dir_of_JD = dtf.find_line_val_dict(file_Name_Ms, 'Direction of J (Cartesian):')\n",
    "# print(\"tot_moments_D:\"+str(tot_moments_D))\n",
    "# print(\"dir_of_JD:\"+str(dir_of_JD))\n",
    "params_merged = {}\n",
    "for key in tot_moments_D.keys():\n",
    "    params_merged[key] = tot_moments_D[key] + dir_of_JD[key]\n",
    "\n",
    "# Pretty table for checking the entries for magnetic moments and directions\n",
    "df = pd.DataFrame.from_dict(params_merged, orient='index',\n",
    "                            columns = ['J=L+S (Cartesian)',\n",
    "                                       'J=L+S (Spin axis)',\n",
    "                                       'Direction of J (x)',\n",
    "                                       'Direction of J (y)',\n",
    "                                       'Direction of J (z)'])\n",
    "df"
   ]
  },
  {
   "cell_type": "markdown",
   "metadata": {},
   "source": [
    "## Calculating magnetization\n",
    "**Use:** Cartesian (with direction) - we should use that</br>\n",
    "Spin axis coordinates we ignore"
   ]
  },
  {
   "cell_type": "code",
   "execution_count": 7,
   "metadata": {},
   "outputs": [
    {
     "name": "stdout",
     "output_type": "stream",
     "text": [
      "ID:0102010100-o :  0.2391128 * -1.0 = -0.2391128\n",
      "ID:0101010100-o :  0.02087817 * -1.0 = -0.02087817\n",
      "ID:0100010100-o :  0.009247159 * -1.0 = -0.009247159\n",
      "ID:0202010100-o :  0.2391127 * -1.0 = -0.2391127\n",
      "ID:0201010100-o :  0.02087818 * -1.0 = -0.02087818\n",
      "ID:0200010100-o :  0.009247152 * -1.0 = -0.009247152\n",
      "ID:0302010100-o :  0.2391099 * -1.0 = -0.2391099\n",
      "ID:0301010100-o :  0.02087817 * -1.0 = -0.02087817\n",
      "ID:0300010100-o :  0.009247143 * -1.0 = -0.009247143\n",
      "ID:0402010100-o :  0.2391097 * -1.0 = -0.2391097\n",
      "ID:0401010100-o :  0.02087793 * -1.0 = -0.02087793\n",
      "ID:0400010100-o :  0.009247167 * -1.0 = -0.009247167\n",
      "ID:0502010100-o :  0.2391095 * -1.0 = -0.2391095\n",
      "ID:0501010100-o :  0.02087793 * -1.0 = -0.02087793\n",
      "ID:0500010100-o :  0.009247153 * -1.0 = -0.009247153\n",
      "ID:0602010100-o :  0.2391098 * -1.0 = -0.2391098\n",
      "ID:0601010100-o :  0.02087817 * -1.0 = -0.02087817\n",
      "ID:0600010100-o :  0.009247133 * -1.0 = -0.009247133\n",
      "ID:0702010100-o :  0.06836692 * -1.0 = -0.06836692\n",
      "ID:0701010100-o :  0.00723947 * -1.0 = -0.00723947\n",
      "ID:0700010100-o :  0.0005559312 * -1.0 = -0.0005559312\n",
      "ID:0802010100-o :  0.06836696 * -1.0 = -0.06836696\n",
      "ID:0801010100-o :  0.007239513 * -1.0 = -0.007239513\n",
      "ID:0800010100-o :  0.0005560466 * -1.0 = -0.0005560466\n",
      "ID:0902010100-o :  0.06836702 * -1.0 = -0.06836702\n",
      "ID:0901010100-o :  0.007239514 * -1.0 = -0.007239514\n",
      "ID:0900010100-o :  0.0005560467 * -1.0 = -0.0005560467\n",
      "ID:1002010100-o :  0.1364665 * -1.0 = -0.1364665\n",
      "ID:1001010100-o :  0.00845174 * -1.0 = -0.00845174\n",
      "ID:1000010100-o :  0.007458314 * -1.0 = -0.007458314\n",
      "ID:1102010100-o :  0.1364664 * -1.0 = -0.1364664\n",
      "ID:1101010100-o :  0.008451738 * -1.0 = -0.008451738\n",
      "ID:1100010100-o :  0.007458312 * -1.0 = -0.007458312\n",
      "ID:1202010100-o :  0.1364666 * -1.0 = -0.1364666\n",
      "ID:1201010100-o :  0.008451693 * -1.0 = -0.008451693\n",
      "ID:1200010100-o :  0.007458276 * -1.0 = -0.007458276\n",
      "ID:1302010100-o :  0.1364672 * -1.0 = -0.1364672\n",
      "ID:1301010100-o :  0.008451741 * -1.0 = -0.008451741\n",
      "ID:1300010100-o :  0.007458317 * -1.0 = -0.007458317\n",
      "ID:1402010100-o :  0.1364671 * -1.0 = -0.1364671\n",
      "ID:1401010100-o :  0.008451739 * -1.0 = -0.008451739\n",
      "ID:1400010100-o :  0.007458313 * -1.0 = -0.007458313\n",
      "ID:1502010100-o :  0.1364668 * -1.0 = -0.1364668\n",
      "ID:1501010100-o :  0.008451697 * -1.0 = -0.008451697\n",
      "ID:1500010100-o :  0.007458279 * -1.0 = -0.007458279\n",
      "ID:1602010100-o :  2.124742 * 1.0 = 2.124742\n",
      "ID:1601010100-o :  0.031276 * -1.0 = -0.031276\n",
      "ID:1600010100-o :  0.005401111 * 1.0 = 0.005401111\n",
      "ID:1702010100-o :  2.124721 * 1.0 = 2.124721\n",
      "ID:1701010100-o :  0.0312765 * -1.0 = -0.0312765\n",
      "ID:1700010100-o :  0.0054009 * 1.0 = 0.0054009\n",
      "ID:1802010100-o :  2.124721 * 1.0 = 2.124721\n",
      "ID:1801010100-o :  0.03127651 * -1.0 = -0.03127651\n",
      "ID:1800010100-o :  0.005400899 * 1.0 = 0.005400899\n",
      "ID:1902010100-o :  1.652287 * 0.99999429 = 1.65227756544123\n",
      "ID:1901010100-o :  0.02259405 * -0.99990479 = -0.0225918988204995\n",
      "ID:1900010100-o :  0.002232473 * 0.99979294 = 0.0022320107441406198\n",
      "ID:2002010100-o :  1.652286 * 0.99999429 = 1.6522765654469398\n",
      "ID:2001010100-o :  0.02259405 * -0.99990479 = -0.0225918988204995\n",
      "ID:2000010100-o :  0.002232473 * 0.99979294 = 0.0022320107441406198\n",
      "ID:2102010100-o :  1.652282 * 0.99999429 = 1.6522725654697799\n",
      "ID:2101010100-o :  0.02259393 * -0.99990478 = -0.022591778605985404\n",
      "ID:2100010100-o :  0.002232112 * 0.99979284 = 0.0022316495956780803\n",
      "ID:2202010100-o :  1.652281 * 0.99999429 = 1.65227156547549\n",
      "ID:2201010100-o :  0.02259393 * -0.99990479 = -0.022591778831924703\n",
      "ID:2200010100-o :  0.002232112 * 0.99979284 = 0.0022316495956780803\n",
      "ID:2302010100-o :  1.652282 * 0.99999429 = 1.6522725654697799\n",
      "ID:2301010100-o :  0.02259392 * -0.99990479 = -0.0225917688328768\n",
      "ID:2300010100-o :  0.002232111 * 0.99979284 = 0.00223164859588524\n",
      "ID:2402010100-o :  1.652281 * 0.99999429 = 1.65227156547549\n",
      "ID:2401010100-o :  0.02259392 * -0.99990478 = -0.022591768606937603\n",
      "ID:2400010100-o :  0.002232111 * 0.99979284 = 0.00223164859588524\n",
      "ID:2502010100-o :  1.652276 * 0.99999429 = 1.65226656550404\n",
      "ID:2501010100-o :  0.0225941 * -0.99990479 = -0.022591948815738998\n",
      "ID:2500010100-o :  0.002232506 * 0.99979294 = 0.00223204373730764\n",
      "ID:2602010100-o :  1.652302 * 0.99999429 = 1.6522925653555798\n",
      "ID:2601010100-o :  0.02259434 * -0.9999048 = -0.022592189018832\n",
      "ID:2600010100-o :  0.002232518 * 0.9997929 = 0.0022320556455222\n",
      "ID:2702010100-o :  1.652269 * 0.99999429 = 1.65225956554401\n",
      "ID:2701010100-o :  0.02259399 * -0.99990478 = -0.022591838600272203\n",
      "ID:2700010100-o :  0.00223213 * 0.99979282 = 0.0022316675473066003\n",
      "ID:2802010100-o :  1.652297 * 0.99999429 = 1.6522875653841298\n",
      "ID:2801010100-o :  0.02259423 * -0.99990479 = -0.022592078803361698\n",
      "ID:2800010100-o :  0.002232156 * 0.9997928 = 0.0022316934972768\n",
      "ID:2902010100-o :  1.652269 * 0.99999429 = 1.65225956554401\n",
      "ID:2901010100-o :  0.02259398 * -0.99990478 = -0.0225918286012244\n",
      "ID:2900010100-o :  0.002232129 * 0.99979282 = 0.0022316665475137797\n",
      "ID:3002010100-o :  1.652297 * 0.99999429 = 1.6522875653841298\n",
      "ID:3001010100-o :  0.02259422 * -0.99990479 = -0.022592068804313803\n",
      "ID:3000010100-o :  0.002232155 * 0.9997928 = 0.002231692497484\n",
      "ID:3102010100-o :  1.652302 * 0.99999429 = 1.6522925653555798\n",
      "ID:3101010100-o :  0.02259435 * -0.9999048 = -0.02259219901788\n",
      "ID:3100010100-o :  0.002232513 * 0.9997929 = 0.0022320506465577004\n",
      "ID:3202010100-o :  1.652276 * 0.99999429 = 1.65226656550404\n",
      "ID:3201010100-o :  0.0225941 * -0.99990479 = -0.022591948815738998\n",
      "ID:3200010100-o :  0.002232512 * 0.99979295 = 0.0022320497583904\n",
      "ID:3302010100-o :  1.652297 * 0.99999429 = 1.6522875653841298\n",
      "ID:3301010100-o :  0.02259423 * -0.99990479 = -0.022592078803361698\n",
      "ID:3300010100-o :  0.002232151 * 0.9997928 = 0.0022316884983128\n",
      "ID:3402010100-o :  1.652269 * 0.99999429 = 1.65225956554401\n",
      "ID:3401010100-o :  0.02259399 * -0.99990478 = -0.022591838600272203\n",
      "ID:3400010100-o :  0.002232136 * 0.99979283 = 0.00223167356838488\n",
      "ID:3502010100-o :  1.652297 * 0.99999429 = 1.6522875653841298\n",
      "ID:3501010100-o :  0.02259423 * -0.99990479 = -0.022592078803361698\n",
      "ID:3500010100-o :  0.00223215 * 0.9997928 = 0.00223168749852\n",
      "ID:3602010100-o :  1.652269 * 0.99999429 = 1.65225956554401\n",
      "ID:3601010100-o :  0.02259398 * -0.99990478 = -0.0225918286012244\n",
      "ID:3600010100-o :  0.002232135 * 0.99979283 = 0.00223167256859205\n",
      "\n",
      "Total magnetic moment = 32.912860482788766\n",
      "{'unit': [3996.1854691814]}\n",
      "Unit cell volume: 592.1738019093533 A³\n",
      "Magnetization Ms: 0.6477261824648138 T\n"
     ]
    }
   ],
   "source": [
    "# Calculating total magnetic moment by summing all\n",
    "# (Total moment (of an orbital) * Direction of J (takes the one with abs value > 0.9, should be +/-1))\n",
    "tot_magn_mom_C = 0\n",
    "for key in tot_moments_D.keys():\n",
    "    tot_magn_mom_C += tot_moments_D[key][0]*[x for x in dir_of_JD[key] if abs(x) > 0.9][0]\n",
    "    print(key, ': ', tot_moments_D[key][0], '*', \n",
    "          [x for x in dir_of_JD[key] if abs(x) > 0.9][0], '=', \n",
    "          tot_moments_D[key][0]*[x for x in dir_of_JD[key] if abs(x) > 0.9][0])\n",
    "    #    total magnetic moment J=L+S * orientation, wherever +/-1 is\n",
    "\n",
    "print(f'\\nTotal magnetic moment = {tot_magn_mom_C}')\n",
    "\n",
    "# Getting unit cell volume in A^3 from the file\n",
    "ucv = dtf.find_line_val_dict(file_Name_Ms, 'unit cell volume:')\n",
    "print(ucv)\n",
    "# Recalculating in=t in angstroms (should be transferred to m afterwards)\n",
    "ucvA = ucv[list(ucv.keys())[0]][0] / 1.8897259**3 # unit cell volume in A\n",
    "print(f'Unit cell volume: {ucvA} A\\N{SUPERSCRIPT THREE}')\n",
    "\n",
    "# Calculating magnetization in Tesla\n",
    "magnetization_in_T = tot_magn_mom_C/ucvA*11.654\n",
    "print(f'Magnetization Ms: {magnetization_in_T} T')"
   ]
  },
  {
   "cell_type": "markdown",
   "metadata": {},
   "source": [
    "### Q&A\n",
    "**Question #1:** Why doubled data for each orbital? </br>\n",
    "<b>Answer #1:</b> because calculations may run several times, that's why we need to take the last one\n",
    "\n",
    "**Question #2:** How do we calculate total magnetic moment? (Does direction matter?) </br>\n",
    "<b>Answer #2:</b> the direction does matter. For testing approximate resulting value of Ms should be in the README file, our result should be in 2% range of it"
   ]
  },
  {
   "cell_type": "markdown",
   "metadata": {},
   "source": [
    "# Anisotropy"
   ]
  },
  {
   "cell_type": "code",
   "execution_count": 8,
   "metadata": {},
   "outputs": [
    {
     "name": "stdout",
     "output_type": "stream",
     "text": [
      "Anisotropy constant (max of all): 2173977.8944626446 J/m³\n"
     ]
    }
   ],
   "source": [
    "energies = {}\n",
    "\n",
    "if f'out_MF_{xyz_dirs[0]}' in os.listdir(data_dir_GS+f'/{xyz_dirs[0]}'):\n",
    "    for dirdir in xyz_dirs:\n",
    "        fileName = data_dir_GS+f\"/{dirdir}/out_MF_{dirdir}\"\n",
    "        eigenvalue_sum = dtf.find_line_val_dict(fileName, 'Eigenvalue sum:')\n",
    "        energies[dirdir] = eigenvalue_sum[list(eigenvalue_sum.keys())[0]][0]\n",
    "elif f'out_Etot_{xyz_dirs[0]}' in os.listdir(data_dir_GS+f'/{xyz_dirs[0]}'):\n",
    "    for dirdir in xyz_dirs:\n",
    "        fileName = data_dir_GS+f\"/{dirdir}/out_Etot_{dirdir}\"\n",
    "        energies[dirdir] = dtf.get_energy_from_file(fileName)\n",
    "else:\n",
    "    print('no files for anisotropy')\n",
    "\n",
    "allKs = list()\n",
    "if 'z' in energies.keys():\n",
    "    if 'x' in energies.keys():\n",
    "        Kxz = (energies['x'] - energies['z'])/ucvA*2179874\n",
    "        allKs.append(Kxz)\n",
    "    if 'y' in energies.keys():    \n",
    "        Kyz = (energies['y'] - energies['z'])/ucvA*2179874\n",
    "        allKs.append(Kyz)\n",
    "\n",
    "K = max(allKs) * 1e6            # anisotropy J/m³\n",
    "\n",
    "print(f'Anisotropy constant (max of all): {K} J/m\\N{SUPERSCRIPT THREE}')"
   ]
  },
  {
   "cell_type": "markdown",
   "metadata": {},
   "source": [
    "# Exchange"
   ]
  },
  {
   "cell_type": "code",
   "execution_count": 9,
   "metadata": {},
   "outputs": [
    {
     "name": "stdout",
     "output_type": "stream",
     "text": [
      "[ 10.  20.  40.  60.  80. 100. 120. 140. 160. 180. 200. 220. 240. 260.\n",
      " 280. 300. 320. 340. 360. 380. 400. 420. 440. 460. 480. 500. 520. 540.\n",
      " 560. 580. 600. 620. 640. 660. 680. 700. 720. 740. 760. 780. 800.]\n",
      "There seem to be NO momfile and no posfile :( Getting n_atoms from GS/out_last\n",
      "Number of atoms: 36\n",
      "Tc = 560.0 K\n",
      "1.1525681415599256 2.125209440498841\n",
      "spin wave stiffness constant  1.0897681294693933e-40\n",
      "exchange constant at T=0 2.6944076039194074e-12\n",
      "Js_300 (T) 0.8513763223383353\n",
      "A_300 (J/m) 1.4701891359415733e-12\n",
      "K_300 (MJ/m) 0.8762337851418068\n",
      "1.4701891359415733e-12\n",
      "0.8513763223383353\n",
      "Lex  1.5965038446976825\n"
     ]
    },
    {
     "name": "stderr",
     "output_type": "stream",
     "text": [
      "/Users/santapile/Santas/DataAnalysis/nomad/data_preview/data_tests_functions.py:34: RuntimeWarning: invalid value encountered in power\n",
      "  return M_0 * (1 - s * (T / T_C) ** (3 / 2) - (1 - s) * (T / T_C) ** p) ** beta\n"
     ]
    },
    {
     "data": {
      "image/png": "[encoded data removed]",
      "text/plain": [
       "<Figure size 640x480 with 1 Axes>"
      ]
     },
     "metadata": {},
     "output_type": "display_data"
    }
   ],
   "source": [
    "# Define the form of the function you want to fit\n",
    "fn = data_dir_MC + '/M(T)'  # magnetic polarization\n",
    "TK, Js = dtf.read_2_col_data(fn)\n",
    "print(TK)\n",
    "\n",
    "mc_dirs = [dirdir for dirdir in os.listdir(data_dir_MC) if dirdir in ['momfile', 'posfile']]\n",
    "\n",
    "if len(mc_dirs) > 0:\n",
    "    with open(data_dir_MC + '/' + mc_dirs[0], 'rt') as f:\n",
    "        n_atoms = len(f.read().splitlines())\n",
    "    print(f'Number of atoms: {n_atoms}')\n",
    "else:\n",
    "    print('There seem to be NO momfile and no posfile :( Getting n_atoms from GS/out_last')\n",
    "    atoms_Ns = set([int(key[key.find(':')+1:key.find(':') + 3]) for key in tot_moments_D.keys()])\n",
    "    n_atoms = len(atoms_Ns)\n",
    "print(f'Number of atoms: {n_atoms}')\n",
    "    \n",
    "Js = [item*n_atoms/ucvA*11.654 for item in Js]\n",
    "\n",
    "poscut = np.argmin(np.diff(Js)/np.diff(TK))+2\n",
    "Tc = TK[poscut]\n",
    "print(f'Tc = {Tc} K')\n",
    "TKc = TK[:poscut].copy()\n",
    "Jsc = Js[:poscut].copy()\n",
    "\n",
    "xfine = np.linspace(0, Tc, 500)\n",
    "p    = 5.0 / 2\n",
    "beta = 1. / 3\n",
    "m_s = partial(dtf.spontaneous_magnetization, p=p, beta=beta, T_C=Tc)\n",
    "\n",
    "popt, pcov = curve_fit(m_s, TKc, Jsc)\n",
    "Js_0, s = popt\n",
    "print(Js_0, s)\n",
    "T_fit = np.linspace(min(TKc), max(TKc), 500)\n",
    "Js_fit = m_s(T_fit, Js_0, s)\n",
    "\n",
    "g = 2\n",
    "k_b = physical_constants[\"Boltzmann constant\"][0]\n",
    "mu_b = physical_constants[\"Bohr magneton\"][0]\n",
    "\n",
    "M_0 = Js_0/mu_0\n",
    "D = (0.1509\n",
    "     * ((g * mu_b) / (s * beta * M_0)) ** (2. / 3)\n",
    "     * k_b\n",
    "     * Tc\n",
    "     )\n",
    "print(\"spin wave stiffness constant \",D)\n",
    "A_0 = M_0 * D / (2 * g * mu_b)\n",
    "print(\"exchange constant at T=0\",A_0)\n",
    "\n",
    "Js_300 = m_s(300., Js_0, s)\n",
    "print(\"Js_300 (T)\",Js_300)\n",
    "\n",
    "A_300 = A_0*(Js_300/Js_0)**2\n",
    "print(\"A_300 (J/m)\",A_300)\n",
    "\n",
    "K_300 = K*(Js_300/Js_0)**3\n",
    "print(\"K_300 (MJ/m)\",K_300/1e6)\n",
    "\n",
    "# A = A_0*(Js/Js0)^2\n",
    "print(A_300)\n",
    "print(Js_300)\n",
    "print('Lex ',np.sqrt(mu_0*A_300/(Js_300*Js_300))/1e-9)\n",
    "\n",
    "fig, ax = plt.subplots()\n",
    "ax.scatter(TK, Js, marker=\"o\", label=\"data points\", facecolors='none', edgecolors='#4575b4')\n",
    "label = \"Kuz'min's fit\"\n",
    "ax.plot(xfine, m_s(xfine, Js_0, s), label=label, color='#f46d43')\n",
    "ax.legend()\n",
    "ax.set_xlabel(\"Temperature (K)\")\n",
    "ax.set_ylabel(\"J (T)\")\n",
    "ax.grid()"
   ]
  },
  {
   "cell_type": "markdown",
   "metadata": {},
   "source": [
    "### Data from README file for doublechecking"
   ]
  },
  {
   "cell_type": "code",
   "execution_count": 10,
   "metadata": {},
   "outputs": [
    {
     "name": "stdout",
     "output_type": "stream",
     "text": [
      "### README:\n",
      "Ms = 0.6477 T\n",
      "MAE= 2.17 MJ/m³\n",
      "\n",
      "### End of README\n",
      "\n",
      "Extracted Ms value from README: 0.6477 T\n",
      "MAE values not found in README\n"
     ]
    }
   ],
   "source": [
    "import re\n",
    "\n",
    "# Ms - Saturation Magnetization\n",
    "# MAE - Magnetic Anisotropy Energy\n",
    "with open(data_dir + '/README', 'rt') as f:\n",
    "    print(\"### README:\")\n",
    "    print(f.read())\n",
    "    print(\"### End of README\\n\")\n",
    "    # Extract the value for Ms from README\n",
    "    with open(data_dir + '/README', 'rt') as f:\n",
    "        readme_content = f.read()\n",
    "\n",
    "    ms_match = re.search(r'Ms\\s*=\\s*([\\d.]+)\\s*T', readme_content)\n",
    "    if ms_match:\n",
    "        ms_value_in_T = float(ms_match.group(1))\n",
    "        print(f\"Extracted Ms value from README: {ms_value_in_T} T\")\n",
    "    else:\n",
    "        print(\"Ms value not found in README\")\n",
    "\n",
    "    mae_matches = re.findall(r'([xyz])\\s*-\\s*([xyz])\\s*=\\s*([\\d.]+)\\s*MJ/m³', readme_content)\n",
    "    if mae_matches:\n",
    "        mae_values_in_MJPerCubicm = [float(match[2]) for match in mae_matches]\n",
    "        max_mae_value_in_MJPerCubicm = max(mae_values_in_MJPerCubicm)\n",
    "        print(f\"Extracted maximum MAE value from README: {max_mae_value_in_MJPerCubicm} MJ/m³\")\n",
    "    else:\n",
    "        print(\"MAE values not found in README\")"
   ]
  },
  {
   "cell_type": "markdown",
   "metadata": {},
   "source": [
    "### Summary of values computed from the dataset"
   ]
  },
  {
   "cell_type": "code",
   "execution_count": 11,
   "metadata": {},
   "outputs": [
    {
     "name": "stdout",
     "output_type": "stream",
     "text": [
      " Ms = 0.6477 T\n",
      " K = 2.174 MJ/m^3\n"
     ]
    }
   ],
   "source": [
    "print(\" Ms = \"+str(round_to_significant_digits(magnetization_in_T, 4)) + \" T\")\n",
    "print(\" K = \" + str(round_to_significant_digits(K/1e6, 4)) + \" MJ/m^3\")"
   ]
  },
  {
   "cell_type": "markdown",
   "metadata": {},
   "source": [
    "### Computing deviations between computed values and given values from the README"
   ]
  },
  {
   "cell_type": "code",
   "execution_count": 12,
   "metadata": {},
   "outputs": [
    {
     "name": "stdout",
     "output_type": "stream",
     "text": [
      " Deviation for magnetization in percent = -0.004042 %\n"
     ]
    }
   ],
   "source": [
    "deviation_in_percent = 100 - (magnetization_in_T/ ms_value_in_T) * 100\n",
    "print(\" Deviation for magnetization in percent = \"+str(round_to_significant_digits(deviation_in_percent, 4)) + \" %\")"
   ]
  },
  {
   "cell_type": "code",
   "execution_count": 13,
   "metadata": {},
   "outputs": [
    {
     "ename": "NameError",
     "evalue": "name 'max_mae_value_in_MJPerCubicm' is not defined",
     "output_type": "error",
     "traceback": [
      "\u001b[0;31m---------------------------------------------------------------------------\u001b[0m",
      "\u001b[0;31mNameError\u001b[0m                                 Traceback (most recent call last)",
      "Cell \u001b[0;32mIn[13], line 1\u001b[0m\n\u001b[0;32m----> 1\u001b[0m deviation_mae_percent \u001b[38;5;241m=\u001b[39m \u001b[38;5;241m100\u001b[39m \u001b[38;5;241m-\u001b[39m ((K\u001b[38;5;241m/\u001b[39m\u001b[38;5;241m1e6\u001b[39m) \u001b[38;5;241m/\u001b[39m \u001b[43mmax_mae_value_in_MJPerCubicm\u001b[49m) \u001b[38;5;241m*\u001b[39m \u001b[38;5;241m100\u001b[39m\n\u001b[1;32m      2\u001b[0m \u001b[38;5;28mprint\u001b[39m(\u001b[38;5;124m\"\u001b[39m\u001b[38;5;124m Deviation for anisotropy energy/constant in percent = \u001b[39m\u001b[38;5;124m\"\u001b[39m \u001b[38;5;241m+\u001b[39m \u001b[38;5;28mstr\u001b[39m(round_to_significant_digits(deviation_mae_percent, \u001b[38;5;241m4\u001b[39m)) \u001b[38;5;241m+\u001b[39m \u001b[38;5;124m\"\u001b[39m\u001b[38;5;124m \u001b[39m\u001b[38;5;124m%\u001b[39m\u001b[38;5;124m\"\u001b[39m)\n",
      "\u001b[0;31mNameError\u001b[0m: name 'max_mae_value_in_MJPerCubicm' is not defined"
     ]
    }
   ],
   "source": [
    "deviation_mae_percent = 100 - ((K/1e6) / max_mae_value_in_MJPerCubicm) * 100\n",
    "print(\" Deviation for anisotropy energy/constant in percent = \" + str(round_to_significant_digits(deviation_mae_percent, 4)) + \" %\")"
   ]
  },
  {
   "cell_type": "code",
   "execution_count": null,
   "metadata": {},
   "outputs": [],
   "source": [
    "atoms_Ns = set([int(key[key.find(':')+1:key.find(':') + 3]) for key in tot_moments_D.keys()])\n",
    "len(atoms_Ns)"
   ]
  },
  {
   "cell_type": "code",
   "execution_count": null,
   "metadata": {},
   "outputs": [],
   "source": [
    "set([1,1,2,3])"
   ]
  },
  {
   "cell_type": "code",
   "execution_count": null,
   "metadata": {},
   "outputs": [],
   "source": [
    "np.loadtxt(fn)"
   ]
  },
  {
   "cell_type": "code",
   "execution_count": null,
   "metadata": {},
   "outputs": [],
   "source": []
  }
 ],
 "metadata": {
  "kernelspec": {
   "display_name": "Python 3 (ipykernel)",
   "language": "python",
   "name": "python3"
  },
  "language_info": {
   "codemirror_mode": {
    "name": "ipython",
    "version": 3
   },
   "file_extension": ".py",
   "mimetype": "text/x-python",
   "name": "python",
   "nbconvert_exporter": "python",
   "pygments_lexer": "ipython3",
   "version": "3.12.8"
  }
 },
 "nbformat": 4,
 "nbformat_minor": 4
}
