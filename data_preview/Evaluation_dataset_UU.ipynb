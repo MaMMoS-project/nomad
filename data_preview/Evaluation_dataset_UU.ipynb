{
 "cells": [
  {
   "cell_type": "markdown",
   "metadata": {},
   "source": [
    "# Importing Modules"
   ]
  },
  {
   "cell_type": "code",
   "execution_count": 246,
   "metadata": {},
   "outputs": [
    {
     "name": "stdout",
     "output_type": "stream",
     "text": [
      "Importing done.\n"
     ]
    }
   ],
   "source": [
    "import os\n",
    "from functools import partial\n",
    "import numpy as np\n",
    "import pandas as pd\n",
    "from scipy.optimize import curve_fit\n",
    "from scipy.constants import mu_0\n",
    "from scipy.constants import physical_constants\n",
    "import matplotlib\n",
    "import matplotlib.pyplot as plt\n",
    "\n",
    "import data_tests_functions as dtf\n",
    "\n",
    "matplotlib.rcParams.update({'font.size': 14})\n",
    "\n",
    "print('Importing done.')"
   ]
  },
  {
   "cell_type": "code",
   "execution_count": 247,
   "metadata": {},
   "outputs": [],
   "source": [
    "def round_to_significant_digits(value, sig_digits):\n",
    "    \"\"\"\n",
    "    Rounds a value to a specified number of significant digits.\n",
    "    :param value: The value to round.\n",
    "    :param sig_digits: The number of significant digits to round to.\n",
    "    :return: The rounded value.\n",
    "    \"\"\"\n",
    "    if value == 0:\n",
    "        raise ValueError(\"Cannot round a value of 0 to significant digits.\")\n",
    "    digits = -int(np.floor(np.log10(abs(value))) - (sig_digits - 1))\n",
    "    value_rounded = round(value, digits)\n",
    "    return value_rounded"
   ]
  },
  {
   "cell_type": "markdown",
   "metadata": {},
   "source": [
    "# Data directory input"
   ]
  },
  {
   "cell_type": "code",
   "execution_count": 248,
   "metadata": {},
   "outputs": [],
   "source": [
    "# data_dir = '/Users/santapile/Santas/Projects/MaMMoS/NOMAD/dataExamples/UU/UU-sets/Fe3-xZnxY(x=0.22)'\n",
    "\n",
    "# data_dir = 'Co2Fe2H4'\n",
    "# data_dir = 'Co2Fe16Y6'\n",
    "# data_dir = 'Fe3-xTaxY(x=0.22)'\n",
    "# data_dir = 'Fe3-xVxY(x=0.22)'\n",
    "data_dir = 'Fe3-xZnxY(x=0.22)'"
   ]
  },
  {
   "cell_type": "code",
   "execution_count": 249,
   "metadata": {},
   "outputs": [
    {
     "data": {
      "text/plain": [
       "True"
      ]
     },
     "execution_count": 249,
     "metadata": {},
     "output_type": "execute_result"
    }
   ],
   "source": [
    "import check_file_and_folder_structure as cffs\n",
    "cffs.check_structure(data_dir, check_README=True, verbose=True)"
   ]
  },
  {
   "cell_type": "code",
   "execution_count": 250,
   "metadata": {},
   "outputs": [
    {
     "name": "stdout",
     "output_type": "stream",
     "text": [
      "Fe3-xZnxY(x=0.22)/GS\n",
      "Fe3-xZnxY(x=0.22)/MC\n",
      "['x', 'z']\n"
     ]
    }
   ],
   "source": [
    "data_dir_GS = data_dir + \"/GS\"\n",
    "data_dir_MC = data_dir + \"/MC\"\n",
    "\n",
    "xyz_dirs = [dirdir for dirdir in os.listdir(data_dir_GS) if len(dirdir) == 1]\n",
    "\n",
    "print(data_dir_GS)\n",
    "print(data_dir_MC)\n",
    "print(xyz_dirs)"
   ]
  },
  {
   "cell_type": "markdown",
   "metadata": {},
   "source": [
    "# Magnetization"
   ]
  },
  {
   "cell_type": "code",
   "execution_count": 251,
   "metadata": {},
   "outputs": [
    {
     "name": "stdout",
     "output_type": "stream",
     "text": [
      "Fe3-xZnxY(x=0.22)/GS/x/out_last\n"
     ]
    },
    {
     "data": {
      "text/html": [
       "<div>\n",
       "<style scoped>\n",
       "    .dataframe tbody tr th:only-of-type {\n",
       "        vertical-align: middle;\n",
       "    }\n",
       "\n",
       "    .dataframe tbody tr th {\n",
       "        vertical-align: top;\n",
       "    }\n",
       "\n",
       "    .dataframe thead th {\n",
       "        text-align: right;\n",
       "    }\n",
       "</style>\n",
       "<table border=\"1\" class=\"dataframe\">\n",
       "  <thead>\n",
       "    <tr style=\"text-align: right;\">\n",
       "      <th></th>\n",
       "      <th>J=L+S (Cartesian)</th>\n",
       "      <th>J=L+S (Spin axis)</th>\n",
       "      <th>Direction of J (x)</th>\n",
       "      <th>Direction of J (y)</th>\n",
       "      <th>Direction of J (z)</th>\n",
       "    </tr>\n",
       "  </thead>\n",
       "  <tbody>\n",
       "    <tr>\n",
       "      <th>ID:0102010100-o</th>\n",
       "      <td>0.166008</td>\n",
       "      <td>0.166008</td>\n",
       "      <td>-1.000000</td>\n",
       "      <td>-5.300000e-07</td>\n",
       "      <td>1.300000e-07</td>\n",
       "    </tr>\n",
       "    <tr>\n",
       "      <th>ID:0101010100-o</th>\n",
       "      <td>0.010042</td>\n",
       "      <td>0.010042</td>\n",
       "      <td>-1.000000</td>\n",
       "      <td>-2.300000e-07</td>\n",
       "      <td>-2.500000e-07</td>\n",
       "    </tr>\n",
       "    <tr>\n",
       "      <th>ID:0100010100-o</th>\n",
       "      <td>0.005576</td>\n",
       "      <td>0.005576</td>\n",
       "      <td>-1.000000</td>\n",
       "      <td>8.000000e-08</td>\n",
       "      <td>-2.600000e-07</td>\n",
       "    </tr>\n",
       "    <tr>\n",
       "      <th>ID:0202010100-o</th>\n",
       "      <td>0.166006</td>\n",
       "      <td>0.166006</td>\n",
       "      <td>-1.000000</td>\n",
       "      <td>-8.900000e-07</td>\n",
       "      <td>-1.060000e-06</td>\n",
       "    </tr>\n",
       "    <tr>\n",
       "      <th>ID:0201010100-o</th>\n",
       "      <td>0.010041</td>\n",
       "      <td>0.010041</td>\n",
       "      <td>-1.000000</td>\n",
       "      <td>-5.300000e-07</td>\n",
       "      <td>-3.000000e-07</td>\n",
       "    </tr>\n",
       "    <tr>\n",
       "      <th>...</th>\n",
       "      <td>...</td>\n",
       "      <td>...</td>\n",
       "      <td>...</td>\n",
       "      <td>...</td>\n",
       "      <td>...</td>\n",
       "    </tr>\n",
       "    <tr>\n",
       "      <th>ID:3501010100-o</th>\n",
       "      <td>0.023727</td>\n",
       "      <td>0.023727</td>\n",
       "      <td>-0.999990</td>\n",
       "      <td>-2.119470e-03</td>\n",
       "      <td>3.838400e-03</td>\n",
       "    </tr>\n",
       "    <tr>\n",
       "      <th>ID:3500010100-o</th>\n",
       "      <td>0.000262</td>\n",
       "      <td>0.000262</td>\n",
       "      <td>0.986778</td>\n",
       "      <td>-3.282260e-03</td>\n",
       "      <td>1.620441e-01</td>\n",
       "    </tr>\n",
       "    <tr>\n",
       "      <th>ID:3602010100-o</th>\n",
       "      <td>2.053579</td>\n",
       "      <td>2.053579</td>\n",
       "      <td>0.999999</td>\n",
       "      <td>-4.410800e-04</td>\n",
       "      <td>-9.818400e-04</td>\n",
       "    </tr>\n",
       "    <tr>\n",
       "      <th>ID:3601010100-o</th>\n",
       "      <td>0.023729</td>\n",
       "      <td>0.023729</td>\n",
       "      <td>-0.999990</td>\n",
       "      <td>-2.121290e-03</td>\n",
       "      <td>3.845660e-03</td>\n",
       "    </tr>\n",
       "    <tr>\n",
       "      <th>ID:3600010100-o</th>\n",
       "      <td>0.000264</td>\n",
       "      <td>0.000264</td>\n",
       "      <td>0.986986</td>\n",
       "      <td>-3.252600e-03</td>\n",
       "      <td>1.607743e-01</td>\n",
       "    </tr>\n",
       "  </tbody>\n",
       "</table>\n",
       "<p>108 rows × 5 columns</p>\n",
       "</div>"
      ],
      "text/plain": [
       "                 J=L+S (Cartesian)  J=L+S (Spin axis)  Direction of J (x)  \\\n",
       "ID:0102010100-o           0.166008           0.166008           -1.000000   \n",
       "ID:0101010100-o           0.010042           0.010042           -1.000000   \n",
       "ID:0100010100-o           0.005576           0.005576           -1.000000   \n",
       "ID:0202010100-o           0.166006           0.166006           -1.000000   \n",
       "ID:0201010100-o           0.010041           0.010041           -1.000000   \n",
       "...                            ...                ...                 ...   \n",
       "ID:3501010100-o           0.023727           0.023727           -0.999990   \n",
       "ID:3500010100-o           0.000262           0.000262            0.986778   \n",
       "ID:3602010100-o           2.053579           2.053579            0.999999   \n",
       "ID:3601010100-o           0.023729           0.023729           -0.999990   \n",
       "ID:3600010100-o           0.000264           0.000264            0.986986   \n",
       "\n",
       "                 Direction of J (y)  Direction of J (z)  \n",
       "ID:0102010100-o       -5.300000e-07        1.300000e-07  \n",
       "ID:0101010100-o       -2.300000e-07       -2.500000e-07  \n",
       "ID:0100010100-o        8.000000e-08       -2.600000e-07  \n",
       "ID:0202010100-o       -8.900000e-07       -1.060000e-06  \n",
       "ID:0201010100-o       -5.300000e-07       -3.000000e-07  \n",
       "...                             ...                 ...  \n",
       "ID:3501010100-o       -2.119470e-03        3.838400e-03  \n",
       "ID:3500010100-o       -3.282260e-03        1.620441e-01  \n",
       "ID:3602010100-o       -4.410800e-04       -9.818400e-04  \n",
       "ID:3601010100-o       -2.121290e-03        3.845660e-03  \n",
       "ID:3600010100-o       -3.252600e-03        1.607743e-01  \n",
       "\n",
       "[108 rows x 5 columns]"
      ]
     },
     "execution_count": 251,
     "metadata": {},
     "output_type": "execute_result"
    }
   ],
   "source": [
    "# Reading file into lines; all folders are equivalent according to UU-colleagues, so we can use the first one\n",
    "file_Name_Ms = data_dir_GS + f\"/{xyz_dirs[0]}/out_last\"\n",
    "print(file_Name_Ms)\n",
    "\n",
    "# Create dicts with orbital IDs and values of corresponding\n",
    "# Total moment and its direction (+/-1)\n",
    "tot_moments_D = dtf.find_line_val_dict(file_Name_Ms, 'Total moment [J=L+S] (mu_B):')\n",
    "dir_of_JD = dtf.find_line_val_dict(file_Name_Ms, 'Direction of J (Cartesian):')\n",
    "# print(\"tot_moments_D:\"+str(tot_moments_D))\n",
    "# print(\"dir_of_JD:\"+str(dir_of_JD))\n",
    "params_merged = {}\n",
    "for key in tot_moments_D.keys():\n",
    "    params_merged[key] = tot_moments_D[key] + dir_of_JD[key]\n",
    "\n",
    "# Pretty table for checking the entries for magnetic moments and directions\n",
    "df = pd.DataFrame.from_dict(params_merged, orient='index',\n",
    "                            columns = ['J=L+S (Cartesian)',\n",
    "                                       'J=L+S (Spin axis)',\n",
    "                                       'Direction of J (x)',\n",
    "                                       'Direction of J (y)',\n",
    "                                       'Direction of J (z)'])\n",
    "df"
   ]
  },
  {
   "cell_type": "markdown",
   "metadata": {},
   "source": [
    "## Calculating magnetization\n",
    "**Use:** Cartesian (with direction) - we should use that</br>\n",
    "Spin axis coordinates we ignore"
   ]
  },
  {
   "cell_type": "code",
   "execution_count": 252,
   "metadata": {},
   "outputs": [
    {
     "name": "stdout",
     "output_type": "stream",
     "text": [
      "ID:0102010100-o :  0.1660076 * -1.0 = -0.1660076\n",
      "ID:0101010100-o :  0.01004174 * -1.0 = -0.01004174\n",
      "ID:0100010100-o :  0.005576038 * -1.0 = -0.005576038\n",
      "ID:0202010100-o :  0.1660062 * -1.0 = -0.1660062\n",
      "ID:0201010100-o :  0.01004093 * -1.0 = -0.01004093\n",
      "ID:0200010100-o :  0.005577483 * -1.0 = -0.005577483\n",
      "ID:0302010100-o :  0.1660062 * -1.0 = -0.1660062\n",
      "ID:0301010100-o :  0.01004093 * -1.0 = -0.01004093\n",
      "ID:0300010100-o :  0.005577484 * -1.0 = -0.005577484\n",
      "ID:0402010100-o :  0.1734643 * -1.0 = -0.1734643\n",
      "ID:0401010100-o :  0.01254973 * -1.0 = -0.01254973\n",
      "ID:0400010100-o :  0.009062757 * -1.0 = -0.009062757\n",
      "ID:0502010100-o :  0.1734643 * -1.0 = -0.1734643\n",
      "ID:0501010100-o :  0.01254973 * -1.0 = -0.01254973\n",
      "ID:0500010100-o :  0.009062758 * -1.0 = -0.009062758\n",
      "ID:0602010100-o :  0.1734467 * -1.0 = -0.1734467\n",
      "ID:0601010100-o :  0.01254888 * -1.0 = -0.01254888\n",
      "ID:0600010100-o :  0.009061636 * -1.0 = -0.009061636\n",
      "ID:0702010100-o :  0.1734741 * -1.0 = -0.1734741\n",
      "ID:0701010100-o :  0.01254836 * -1.0 = -0.01254836\n",
      "ID:0700010100-o :  0.00906461 * -1.0 = -0.00906461\n",
      "ID:0802010100-o :  0.1734742 * -1.0 = -0.1734742\n",
      "ID:0801010100-o :  0.01254836 * -1.0 = -0.01254836\n",
      "ID:0800010100-o :  0.00906461 * -1.0 = -0.00906461\n",
      "ID:0902010100-o :  0.1734467 * -1.0 = -0.1734467\n",
      "ID:0901010100-o :  0.01254888 * -1.0 = -0.01254888\n",
      "ID:0900010100-o :  0.009061637 * -1.0 = -0.009061637\n",
      "ID:1002010100-o :  0.01250308 * 1.0 = 0.01250308\n",
      "ID:1001010100-o :  0.05010088 * -1.0 = -0.05010088\n",
      "ID:1000010100-o :  0.01603868 * -1.0 = -0.01603868\n",
      "ID:1102010100-o :  0.01250308 * 1.0 = 0.01250308\n",
      "ID:1101010100-o :  0.05010088 * -1.0 = -0.05010088\n",
      "ID:1100010100-o :  0.01603868 * -1.0 = -0.01603868\n",
      "ID:1202010100-o :  0.01249819 * 1.0 = 0.01249819\n",
      "ID:1201010100-o :  0.05009512 * -1.0 = -0.05009512\n",
      "ID:1200010100-o :  0.01603648 * -1.0 = -0.01603648\n",
      "ID:1302010100-o :  0.01249428 * 1.0 = 0.01249428\n",
      "ID:1301010100-o :  0.05013202 * -1.0 = -0.05013202\n",
      "ID:1300010100-o :  0.01601141 * -1.0 = -0.01601141\n",
      "ID:1402010100-o :  0.01249428 * 1.0 = 0.01249428\n",
      "ID:1401010100-o :  0.05013202 * -1.0 = -0.05013202\n",
      "ID:1400010100-o :  0.01601141 * -1.0 = -0.01601141\n",
      "ID:1502010100-o :  0.01249819 * 1.0 = 0.01249819\n",
      "ID:1501010100-o :  0.05009512 * -1.0 = -0.05009512\n",
      "ID:1500010100-o :  0.01603648 * -1.0 = -0.01603648\n",
      "ID:1602010100-o :  1.983334 * 1.0 = 1.983334\n",
      "ID:1601010100-o :  0.03509669 * -1.0 = -0.03509669\n",
      "ID:1600010100-o :  0.001758107 * 1.0 = 0.001758107\n",
      "ID:1702010100-o :  1.983757 * 1.0 = 1.983757\n",
      "ID:1701010100-o :  0.03511318 * -1.0 = -0.03511318\n",
      "ID:1700010100-o :  0.001764887 * 1.0 = 0.001764887\n",
      "ID:1802010100-o :  1.983757 * 1.0 = 1.983757\n",
      "ID:1801010100-o :  0.03511319 * -1.0 = -0.03511319\n",
      "ID:1800010100-o :  0.001764881 * 1.0 = 0.001764881\n",
      "ID:1902010100-o :  2.053668 * 0.99999942 = 2.05366680887256\n",
      "ID:1901010100-o :  0.02372512 * -0.99999028 = -0.0237248893918336\n",
      "ID:1900010100-o :  0.0002675312 * 0.98733394 = 0.000264142633768928\n",
      "ID:2002010100-o :  2.053669 * 0.99999942 = 2.05366780887198\n",
      "ID:2001010100-o :  0.02372512 * -0.99999028 = -0.0237248893918336\n",
      "ID:2000010100-o :  0.0002675288 * 0.98733374 = 0.000264140210661712\n",
      "ID:2102010100-o :  2.054929 * 1.0 = 2.054929\n",
      "ID:2101010100-o :  0.02362161 * -1.0 = -0.02362161\n",
      "ID:2100010100-o :  0.0002636155 * 1.0 = 0.0002636155\n",
      "ID:2202010100-o :  2.054929 * 1.0 = 2.054929\n",
      "ID:2201010100-o :  0.02362162 * -1.0 = -0.02362162\n",
      "ID:2200010100-o :  0.0002636121 * 1.0 = 0.0002636121\n",
      "ID:2302010100-o :  2.053675 * 0.99999942 = 2.0536738088685\n",
      "ID:2301010100-o :  0.02372489 * -0.99999028 = -0.0237246593940692\n",
      "ID:2300010100-o :  0.0002675397 * 0.98733327 = 0.000264150846855819\n",
      "ID:2402010100-o :  2.053675 * 0.99999942 = 2.0536738088685\n",
      "ID:2401010100-o :  0.0237249 * -0.99999028 = -0.023724669393972\n",
      "ID:2400010100-o :  0.0002675373 * 0.98733309 = 0.00026414842909925696\n",
      "ID:2502010100-o :  2.053637 * 0.99999942 = 2.05363580889054\n",
      "ID:2501010100-o :  0.02372871 * -0.99999035 = -0.0237284810179485\n",
      "ID:2500010100-o :  0.0002644069 * 0.98698369 = 0.000260965297823461\n",
      "ID:2602010100-o :  2.053641 * 0.99999942 = 2.05363980888822\n",
      "ID:2601010100-o :  0.02372693 * -0.99999038 = -0.0237267017469334\n",
      "ID:2600010100-o :  0.0002626695 * 0.98679843 = 0.000259201850208885\n",
      "ID:2702010100-o :  2.054837 * 1.0 = 2.054837\n",
      "ID:2701010100-o :  0.02362607 * -1.0 = -0.02362607\n",
      "ID:2700010100-o :  0.0002604769 * 1.0 = 0.0002604769\n",
      "ID:2802010100-o :  2.05484 * 1.0 = 2.05484\n",
      "ID:2801010100-o :  0.02362387 * -1.0 = -0.02362387\n",
      "ID:2800010100-o :  0.0002584338 * 1.0 = 0.0002584338\n",
      "ID:2902010100-o :  2.05358 * 0.99999942 = 2.0535788089236\n",
      "ID:2901010100-o :  0.02372933 * -0.99999036 = -0.0237291012492588\n",
      "ID:2900010100-o :  0.0002644714 * 0.98698574 = 0.00026102950043783594\n",
      "ID:3002010100-o :  2.053579 * 0.99999942 = 2.05357780892418\n",
      "ID:3001010100-o :  0.02372709 * -0.99999039 = -0.0237268619826651\n",
      "ID:3000010100-o :  0.0002624693 * 0.98677871 = 0.00025899911726860297\n",
      "ID:3102010100-o :  2.053641 * 0.99999942 = 2.05363980888822\n",
      "ID:3101010100-o :  0.02372694 * -0.99999038 = -0.023726711746837197\n",
      "ID:3100010100-o :  0.000262667 * 0.9867982 = 0.0002591993227994\n",
      "ID:3202010100-o :  2.053637 * 0.99999942 = 2.05363580889054\n",
      "ID:3201010100-o :  0.02372871 * -0.99999035 = -0.0237284810179485\n",
      "ID:3200010100-o :  0.0002644042 * 0.98698342 = 0.000260962561578364\n",
      "ID:3302010100-o :  2.05484 * 1.0 = 2.05484\n",
      "ID:3301010100-o :  0.02362387 * -1.0 = -0.02362387\n",
      "ID:3300010100-o :  0.0002584286 * 1.0 = 0.0002584286\n",
      "ID:3402010100-o :  2.054837 * 1.0 = 2.054837\n",
      "ID:3401010100-o :  0.02362608 * -1.0 = -0.02362608\n",
      "ID:3400010100-o :  0.0002604767 * 1.0 = 0.0002604767\n",
      "ID:3502010100-o :  2.053579 * 0.99999942 = 2.05357780892418\n",
      "ID:3501010100-o :  0.02372709 * -0.99999039 = -0.0237268619826651\n",
      "ID:3500010100-o :  0.0002624634 * 0.98677806 = 0.000258993124673004\n",
      "ID:3602010100-o :  2.053579 * 0.99999942 = 2.05357780892418\n",
      "ID:3601010100-o :  0.02372933 * -0.99999036 = -0.0237291012492588\n",
      "ID:3600010100-o :  0.0002644721 * 0.98698584 = 0.000261030217775064\n",
      "\n",
      "Total magnetic moment = 40.364653065882926\n",
      "{'unit': [3806.92534729177]}\n",
      "Unit cell volume: 564.1283353529254 A³\n",
      "Magnetization Ms: 0.8338699500628801 T\n"
     ]
    }
   ],
   "source": [
    "# Calculating total magnetic moment by summing all\n",
    "# (Total moment (of an orbital) * Direction of J (takes the one with abs value > 0.9, should be +/-1))\n",
    "tot_magn_mom_C = 0\n",
    "for key in tot_moments_D.keys():\n",
    "    tot_magn_mom_C += tot_moments_D[key][0]*[x for x in dir_of_JD[key] if abs(x) > 0.9][0]\n",
    "    print(key, ': ', tot_moments_D[key][0], '*', \n",
    "          [x for x in dir_of_JD[key] if abs(x) > 0.9][0], '=', \n",
    "          tot_moments_D[key][0]*[x for x in dir_of_JD[key] if abs(x) > 0.9][0])\n",
    "    #    total magnetic moment J=L+S * orientation, wherever +/-1 is\n",
    "\n",
    "print(f'\\nTotal magnetic moment = {tot_magn_mom_C}')\n",
    "\n",
    "# Getting unit cell volume in A^3 from the file\n",
    "ucv = dtf.find_line_val_dict(file_Name_Ms, 'unit cell volume:')\n",
    "print(ucv)\n",
    "# Recalculating in=t in angstroms (should be transferred to m afterwards)\n",
    "ucvA = ucv[list(ucv.keys())[0]][0] / 1.8897259**3 # unit cell volume in A\n",
    "print(f'Unit cell volume: {ucvA} A\\N{SUPERSCRIPT THREE}')\n",
    "\n",
    "# Calculating magnetization in Tesla\n",
    "magnetization_in_T = tot_magn_mom_C/ucvA*11.654\n",
    "print(f'Magnetization Ms: {magnetization_in_T} T')"
   ]
  },
  {
   "cell_type": "markdown",
   "metadata": {},
   "source": [
    "### Q&A\n",
    "**Question #1:** Why doubled data for each orbital? </br>\n",
    "<b>Answer #1:</b> because calculations may run several times, that's why we need to take the last one\n",
    "\n",
    "**Question #2:** How do we calculate total magnetic moment? (Does direction matter?) </br>\n",
    "<b>Answer #2:</b> the direction does matter. For testing approximate resulting value of Ms should be in the README file, our result should be in 2% range of it"
   ]
  },
  {
   "cell_type": "markdown",
   "metadata": {},
   "source": [
    "# Anisotropy"
   ]
  },
  {
   "cell_type": "code",
   "execution_count": 253,
   "metadata": {},
   "outputs": [
    {
     "name": "stdout",
     "output_type": "stream",
     "text": [
      "Anisotropy constant (max of all): 702428.239045374 J/m³\n"
     ]
    }
   ],
   "source": [
    "energies = {}\n",
    "\n",
    "if f'out_MF_{xyz_dirs[0]}' in os.listdir(data_dir_GS+f'/{xyz_dirs[0]}'):\n",
    "    for dirdir in xyz_dirs:\n",
    "        fileName = data_dir_GS+f\"/{dirdir}/out_MF_{dirdir}\"\n",
    "        eigenvalue_sum = dtf.find_line_val_dict(fileName, 'Eigenvalue sum:')\n",
    "        energies[dirdir] = eigenvalue_sum[list(eigenvalue_sum.keys())[0]][0]\n",
    "elif f'out_Etot_{xyz_dirs[0]}' in os.listdir(data_dir_GS+f'/{xyz_dirs[0]}'):\n",
    "    for dirdir in xyz_dirs:\n",
    "        fileName = data_dir_GS+f\"/{dirdir}/out_Etot_{dirdir}\"\n",
    "        energies[dirdir] = dtf.get_energy_from_file(fileName)\n",
    "else:\n",
    "    print('no files for anisotropy')\n",
    "\n",
    "allKs = list()\n",
    "if 'z' in energies.keys():\n",
    "    if 'x' in energies.keys():\n",
    "        Kxz = (energies['x'] - energies['z'])/ucvA*2179874\n",
    "        allKs.append(Kxz)\n",
    "    if 'y' in energies.keys():    \n",
    "        Kyz = (energies['y'] - energies['z'])/ucvA*2179874\n",
    "        allKs.append(Kyz)\n",
    "\n",
    "K1_in_JPerCubibm = max(allKs) * 1e6            # anisotropy J/m³; MagnetocrystallineAnisotropyConstantK1\n",
    "\n",
    "print(f'Anisotropy constant (max of all): {K1_in_JPerCubibm} J/m\\N{SUPERSCRIPT THREE}')"
   ]
  },
  {
   "cell_type": "markdown",
   "metadata": {},
   "source": [
    "# Exchange"
   ]
  },
  {
   "cell_type": "code",
   "execution_count": 254,
   "metadata": {},
   "outputs": [
    {
     "name": "stdout",
     "output_type": "stream",
     "text": [
      "[ 10.  20.  40.  60.  80. 100. 120. 140. 160. 180. 200. 220. 240. 260.\n",
      " 280. 300. 320. 340. 360. 380. 400. 420. 440. 460. 480. 500. 520. 540.\n",
      " 560. 580. 600. 620. 640. 660. 680. 700. 720. 740. 760. 780. 800.]\n",
      "Number of atoms: 21\n",
      "Number of atoms: 21\n",
      "Tc = 580.0 K\n",
      "0.824794857678079 1.9035982476581121\n",
      "Spin wave stiffness constant  1.5182343304124646e-40\n",
      "Exchange constant A at T=0 (J/m) :  2.6862555945830924e-12\n",
      "Js_300 (T) : 0.639328413299147\n",
      "A_300 (J/m) : 1.6139997224596779e-12\n",
      "K_300 (MJ/m^3) : 0.3271418812892556\n",
      "Lex  2.227576635444023\n"
     ]
    },
    {
     "data": {
      "image/png": "[encoded data removed]",
      "text/plain": [
       "<Figure size 640x480 with 1 Axes>"
      ]
     },
     "metadata": {},
     "output_type": "display_data"
    }
   ],
   "source": [
    "# Define the form of the function you want to fit\n",
    "fn = data_dir_MC + '/M(T)'  # magnetic polarization\n",
    "TK, Js = dtf.read_2_col_data(fn)\n",
    "print(TK)\n",
    "\n",
    "mc_dirs = [dirdir for dirdir in os.listdir(data_dir_MC) if dirdir in ['momfile', 'posfile']]\n",
    "\n",
    "if len(mc_dirs) > 0:\n",
    "    with open(data_dir_MC + '/' + mc_dirs[0], 'rt') as f:\n",
    "        n_atoms = len(f.read().splitlines())\n",
    "    print(f'Number of atoms: {n_atoms}')\n",
    "else:\n",
    "    print('There seem to be NO momfile and no posfile :( Getting n_atoms from GS/out_last')\n",
    "    atoms_Ns = set([int(key[key.find(':')+1:key.find(':') + 3]) for key in tot_moments_D.keys()])\n",
    "    n_atoms = len(atoms_Ns)\n",
    "print(f'Number of atoms: {n_atoms}')\n",
    "    \n",
    "Js = [item*n_atoms/ucvA*11.654 for item in Js]\n",
    "\n",
    "poscut = np.argmin(np.diff(Js)/np.diff(TK))+2\n",
    "Tc = TK[poscut]\n",
    "print(f'Tc = {Tc} K')\n",
    "TKc = TK[:poscut].copy()\n",
    "Jsc = Js[:poscut].copy()\n",
    "\n",
    "xfine = np.linspace(0, Tc, 500)\n",
    "p    = 5.0 / 2\n",
    "beta = 1. / 3\n",
    "m_s = partial(dtf.spontaneous_magnetization, p=p, beta=beta, T_C=Tc)\n",
    "\n",
    "popt, pcov = curve_fit(m_s, TKc, Jsc)\n",
    "Js_0, s = popt\n",
    "print(Js_0, s)\n",
    "T_fit = np.linspace(min(TKc), max(TKc), 500)\n",
    "Js_fit = m_s(T_fit, Js_0, s)\n",
    "\n",
    "g = 2\n",
    "k_b = physical_constants[\"Boltzmann constant\"][0]\n",
    "mu_b = physical_constants[\"Bohr magneton\"][0]\n",
    "\n",
    "M_0 = Js_0/mu_0\n",
    "D = (0.1509\n",
    "     * ((g * mu_b) / (s * beta * M_0)) ** (2. / 3)\n",
    "     * k_b\n",
    "     * Tc\n",
    "     )\n",
    "print(\"Spin wave stiffness constant \", D)\n",
    "A_0 = M_0 * D / (2 * g * mu_b)\n",
    "print(\"Exchange constant A at T=0 (J/m) : \", A_0)\n",
    "\n",
    "# Magnetic polarization at 300 K\n",
    "Js_300 = m_s(300., Js_0, s)\n",
    "print(\"Js_300 (T) :\", Js_300)\n",
    "\n",
    "A_300 = A_0*(Js_300/Js_0)**2\n",
    "print(\"A_300 (J/m) :\", A_300)\n",
    "\n",
    "K_300 = K1_in_JPerCubibm*(Js_300/Js_0)**3\n",
    "print(\"K_300 (MJ/m^3) :\", K_300/1e6)\n",
    "\n",
    "# A = A_0*(Js/Js0)^2\n",
    "\n",
    "# exchange length in nm; see eq. 96 in book chapter of Exl2016 etal. where for Ms = spontaneous magnetization since there is only one phase/material\n",
    "print('Lex ', np.sqrt(mu_0*A_300/(Js_300*Js_300))/1e-9)\n",
    "\n",
    "fig, ax = plt.subplots()\n",
    "ax.scatter(TK, Js, marker=\"o\", label=\"data points\", facecolors='none', edgecolors='#4575b4')\n",
    "label = \"Kuz'min's fit\"\n",
    "ax.plot(xfine, m_s(xfine, Js_0, s), label=label, color='#f46d43')\n",
    "ax.legend()\n",
    "ax.set_xlabel(\"Temperature (K)\")\n",
    "ax.set_ylabel(\"Magnetic polarization J (T)\")\n",
    "ax.grid()"
   ]
  },
  {
   "cell_type": "markdown",
   "metadata": {},
   "source": [
    "### Data from README file for doublechecking"
   ]
  },
  {
   "cell_type": "code",
   "execution_count": 255,
   "metadata": {},
   "outputs": [
    {
     "name": "stdout",
     "output_type": "stream",
     "text": [
      "### README:\n",
      "Ms = 0.8342 T\n",
      "MAE= 0.70 MJ/m³\n",
      "\n",
      "### End of README\n",
      "\n",
      "Extracted Ms value from README: 0.8342 T\n",
      "Extracted MAE value from README: 0.7 MJ/m³\n"
     ]
    }
   ],
   "source": [
    "import re\n",
    "\n",
    "# Ms - Ontology entry: SpontaneousMagneticPolarisation when given in T\n",
    "# MAE - Ontology entry: MagnetocrystallineAnisotropyEnergy\n",
    "with open(data_dir + '/README', 'rt') as f:\n",
    "    print(\"### README:\")\n",
    "    print(f.read())\n",
    "    print(\"### End of README\\n\")\n",
    "    # Extract the value for Ms from README\n",
    "    with open(data_dir + '/README', 'rt') as f:\n",
    "        readme_content = f.read()\n",
    "\n",
    "    ms_match = re.search(r'Ms\\s*=\\s*([\\d.]+)\\s*T', readme_content)\n",
    "    if ms_match:\n",
    "        Ms_README_in_T = float(ms_match.group(1))\n",
    "        print(f\"Extracted Ms value from README: {Ms_README_in_T} T\")\n",
    "    else:\n",
    "        print(\"Ms value not found in README\")\n",
    "\n",
    "    mae_matches = re.findall(r'([xyz])\\s*-\\s*([xyz])\\s*=\\s*([-+]?\\d*\\.\\d+|\\d+)\\s*MJ/m³', readme_content)\n",
    "    if mae_matches:\n",
    "        mae_values_in_MJPerCubicm = [float(match[2]) for match in mae_matches]\n",
    "        max_MAE_README_in_MJPerCubicm = max(mae_values_in_MJPerCubicm)\n",
    "        print(f\"Extracted maximum MAE value from README: {max_MAE_README_in_MJPerCubicm} MJ/m³\")\n",
    "    else:\n",
    "        mae_match = re.search(r'MAE\\s*=\\s*([\\d.]+)\\s*MJ/m³', readme_content)\n",
    "        if mae_match:\n",
    "            max_MAE_README_in_MJPerCubicm = float(mae_match.group(1))\n",
    "            print(f\"Extracted MAE value from README: {max_MAE_README_in_MJPerCubicm} MJ/m³\")\n",
    "        else:\n",
    "            print(\"MAE values not found in README\")"
   ]
  },
  {
   "cell_type": "markdown",
   "metadata": {},
   "source": [
    "### Summary of values computed from the dataset"
   ]
  },
  {
   "cell_type": "markdown",
   "metadata": {},
   "source": [
    "#### Computation of anisotropy energy from the MagnetocrystallineAnisotropyConstantK1 \n",
    "From Koys book, chapter 5.5.2, page171 anisotropy energy Ea = K1 sin2 θ + K2 sin4 θ where K2 is negelcted and θ≈0"
   ]
  },
  {
   "cell_type": "code",
   "execution_count": 256,
   "metadata": {},
   "outputs": [],
   "source": [
    "MAE_in_MJPerCubicm = K1_in_JPerCubibm /1e6"
   ]
  },
  {
   "cell_type": "code",
   "execution_count": 257,
   "metadata": {},
   "outputs": [],
   "source": [
    "Ms_in_T = magnetization_in_T    \n",
    "# TODO: magnetization_in_T should be renamed polarisation_in_T or Js_in_T (SpontaneousMagneticPolarisation)"
   ]
  },
  {
   "cell_type": "code",
   "execution_count": 258,
   "metadata": {},
   "outputs": [
    {
     "name": "stdout",
     "output_type": "stream",
     "text": [
      " Ms_in_T = 0.8339 T\n",
      " MAE_in_MJPerCubicm = 0.7024 MJ/m^3\n"
     ]
    }
   ],
   "source": [
    "print(\" Ms_in_T = \"+str(round_to_significant_digits(Ms_in_T, 4)) + \" T\")\n",
    "print(\" MAE_in_MJPerCubicm = \" + str(round_to_significant_digits(MAE_in_MJPerCubicm, 4)) + \" MJ/m^3\")"
   ]
  },
  {
   "cell_type": "markdown",
   "metadata": {},
   "source": [
    "### Computing deviations between computed values and given values from the README"
   ]
  },
  {
   "cell_type": "code",
   "execution_count": 259,
   "metadata": {},
   "outputs": [
    {
     "name": "stdout",
     "output_type": "stream",
     "text": [
      " Deviation for magnetization in percent = 0.03956 %\n"
     ]
    }
   ],
   "source": [
    "deviation_Ms_in_percent = 100 - (Ms_in_T/ Ms_README_in_T) * 100\n",
    "print(\" Deviation for magnetization in percent = \"+str(round_to_significant_digits(deviation_Ms_in_percent, 4)) + \" %\")"
   ]
  },
  {
   "cell_type": "code",
   "execution_count": 260,
   "metadata": {},
   "outputs": [
    {
     "name": "stdout",
     "output_type": "stream",
     "text": [
      " Deviation for anisotropy energy/constant in percent = -0.3469 %\n"
     ]
    }
   ],
   "source": [
    "try:\n",
    "    deviation_mae_percent = 100 - ((MAE_in_MJPerCubicm) / max_MAE_README_in_MJPerCubicm) * 100\n",
    "    print(\" Deviation for anisotropy energy/constant in percent = \" + str(round_to_significant_digits(deviation_mae_percent, 4)) + \" %\")\n",
    "except NameError:\n",
    "    print(\"MAE values not found in README\")"
   ]
  },
  {
   "cell_type": "code",
   "execution_count": null,
   "metadata": {},
   "outputs": [
    {
     "name": "stdout",
     "output_type": "stream",
     "text": [
      "The deviation for magnetization and anisotropy in dataset Fe3-xZnxY(x=0.22) is\n",
      " **less** than 2% compared to the provided values.\n"
     ]
    }
   ],
   "source": [
    "if (abs(deviation_Ms_in_percent)<2.) and (abs(deviation_mae_percent)<2.):\n",
    "    print('The deviation for magnetization and anisotropy in dataset '+data_dir+' is\\n **less** than 2% compared to the provided values.')\n",
    "else:\n",
    "    print('The deviation for magnetization and anisotropy in dataset '+data_dir+' is\\n **more** than 2% compared to the provided values.')"
   ]
  },
  {
   "cell_type": "code",
   "execution_count": null,
   "metadata": {},
   "outputs": [],
   "source": []
  }
 ],
 "metadata": {
  "kernelspec": {
   "display_name": "Python 3",
   "language": "python",
   "name": "python3"
  },
  "language_info": {
   "codemirror_mode": {
    "name": "ipython",
    "version": 3
   },
   "file_extension": ".py",
   "mimetype": "text/x-python",
   "name": "python",
   "nbconvert_exporter": "python",
   "pygments_lexer": "ipython3",
   "version": "3.10.12"
  }
 },
 "nbformat": 4,
 "nbformat_minor": 4
}
