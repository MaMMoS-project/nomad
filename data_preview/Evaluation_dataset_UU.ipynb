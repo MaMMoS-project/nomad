{
 "cells": [
  {
   "cell_type": "markdown",
   "metadata": {},
   "source": [
    "# Importing Modules"
   ]
  },
  {
   "cell_type": "code",
   "execution_count": 27,
   "metadata": {},
   "outputs": [
    {
     "name": "stdout",
     "output_type": "stream",
     "text": [
      "Importing done.\n"
     ]
    }
   ],
   "source": [
    "import os\n",
    "from functools import partial\n",
    "import numpy as np\n",
    "import pandas as pd\n",
    "from scipy.optimize import curve_fit\n",
    "from scipy.constants import mu_0\n",
    "from scipy.constants import physical_constants\n",
    "import matplotlib\n",
    "import matplotlib.pyplot as plt\n",
    "\n",
    "import data_tests_functions as dtf\n",
    "\n",
    "matplotlib.rcParams.update({'font.size': 14})\n",
    "\n",
    "print('Importing done.')"
   ]
  },
  {
   "cell_type": "code",
   "execution_count": 28,
   "metadata": {},
   "outputs": [],
   "source": [
    "def round_to_significant_digits(value, sig_digits):\n",
    "    \"\"\"\n",
    "    Rounds a value to a specified number of significant digits.\n",
    "    :param value: The value to round.\n",
    "    :param sig_digits: The number of significant digits to round to.\n",
    "    :return: The rounded value.\n",
    "    \"\"\"\n",
    "    if value == 0:\n",
    "        raise ValueError(\"Cannot round a value of 0 to significant digits.\")\n",
    "    digits = -int(np.floor(np.log10(abs(value))) - (sig_digits - 1))\n",
    "    value_rounded = round(value, digits)\n",
    "    return value_rounded"
   ]
  },
  {
   "cell_type": "markdown",
   "metadata": {},
   "source": [
    "# Data directory input"
   ]
  },
  {
   "cell_type": "code",
   "execution_count": 29,
   "metadata": {},
   "outputs": [],
   "source": [
    "data_dir = '/Users/santapile/Santas/Projects/MaMMoS/NOMAD/dataExamples/UU/UU-sets/Fe3-xZnxY(x=0.22)'"
   ]
  },
  {
   "cell_type": "code",
   "execution_count": 30,
   "metadata": {},
   "outputs": [
    {
     "data": {
      "text/plain": [
       "False"
      ]
     },
     "execution_count": 30,
     "metadata": {},
     "output_type": "execute_result"
    }
   ],
   "source": [
    "import check_file_and_folder_structure as cffs\n",
    "cffs.check_structure(data_dir, check_README=True, verbose=True)"
   ]
  },
  {
   "cell_type": "code",
   "execution_count": 31,
   "metadata": {},
   "outputs": [
    {
     "name": "stdout",
     "output_type": "stream",
     "text": [
      "/Users/santapile/Santas/Projects/MaMMoS/NOMAD/dataExamples/UU/UU-sets/Fe3-xZnxY(x=0.22)/GS\n",
      "/Users/santapile/Santas/Projects/MaMMoS/NOMAD/dataExamples/UU/UU-sets/Fe3-xZnxY(x=0.22)/MC\n",
      "['z', 'x']\n"
     ]
    }
   ],
   "source": [
    "data_dir_GS = data_dir + \"/GS\"\n",
    "data_dir_MC = data_dir + \"/MC\"\n",
    "\n",
    "xyz_dirs = [dirdir for dirdir in os.listdir(data_dir_GS) if len(dirdir) == 1]\n",
    "\n",
    "print(data_dir_GS)\n",
    "print(data_dir_MC)\n",
    "print(xyz_dirs)"
   ]
  },
  {
   "cell_type": "markdown",
   "metadata": {},
   "source": [
    "# Magnetization"
   ]
  },
  {
   "cell_type": "code",
   "execution_count": 32,
   "metadata": {},
   "outputs": [
    {
     "name": "stdout",
     "output_type": "stream",
     "text": [
      "/Users/santapile/Santas/Projects/MaMMoS/NOMAD/dataExamples/UU/UU-sets/Fe3-xZnxY(x=0.22)/GS/z/out_last\n"
     ]
    },
    {
     "data": {
      "text/html": [
       "<div>\n",
       "<style scoped>\n",
       "    .dataframe tbody tr th:only-of-type {\n",
       "        vertical-align: middle;\n",
       "    }\n",
       "\n",
       "    .dataframe tbody tr th {\n",
       "        vertical-align: top;\n",
       "    }\n",
       "\n",
       "    .dataframe thead th {\n",
       "        text-align: right;\n",
       "    }\n",
       "</style>\n",
       "<table border=\"1\" class=\"dataframe\">\n",
       "  <thead>\n",
       "    <tr style=\"text-align: right;\">\n",
       "      <th></th>\n",
       "      <th>J=L+S (Cartesian)</th>\n",
       "      <th>J=L+S (Spin axis)</th>\n",
       "      <th>Direction of J (x)</th>\n",
       "      <th>Direction of J (y)</th>\n",
       "      <th>Direction of J (z)</th>\n",
       "    </tr>\n",
       "  </thead>\n",
       "  <tbody>\n",
       "    <tr>\n",
       "      <th>ID:0102010100-o</th>\n",
       "      <td>0.170774</td>\n",
       "      <td>0.170774</td>\n",
       "      <td>-2.500000e-07</td>\n",
       "      <td>1.400000e-07</td>\n",
       "      <td>-1.000000</td>\n",
       "    </tr>\n",
       "    <tr>\n",
       "      <th>ID:0101010100-o</th>\n",
       "      <td>0.010164</td>\n",
       "      <td>0.010164</td>\n",
       "      <td>8.000000e-08</td>\n",
       "      <td>-5.000000e-08</td>\n",
       "      <td>-1.000000</td>\n",
       "    </tr>\n",
       "    <tr>\n",
       "      <th>ID:0100010100-o</th>\n",
       "      <td>0.005562</td>\n",
       "      <td>0.005562</td>\n",
       "      <td>4.800000e-07</td>\n",
       "      <td>-2.800000e-07</td>\n",
       "      <td>-1.000000</td>\n",
       "    </tr>\n",
       "    <tr>\n",
       "      <th>ID:0202010100-o</th>\n",
       "      <td>0.170769</td>\n",
       "      <td>0.170769</td>\n",
       "      <td>-3.700000e-07</td>\n",
       "      <td>2.100000e-07</td>\n",
       "      <td>-1.000000</td>\n",
       "    </tr>\n",
       "    <tr>\n",
       "      <th>ID:0201010100-o</th>\n",
       "      <td>0.010164</td>\n",
       "      <td>0.010164</td>\n",
       "      <td>2.510000e-06</td>\n",
       "      <td>-1.450000e-06</td>\n",
       "      <td>-1.000000</td>\n",
       "    </tr>\n",
       "    <tr>\n",
       "      <th>...</th>\n",
       "      <td>...</td>\n",
       "      <td>...</td>\n",
       "      <td>...</td>\n",
       "      <td>...</td>\n",
       "      <td>...</td>\n",
       "    </tr>\n",
       "    <tr>\n",
       "      <th>ID:3501010100-o</th>\n",
       "      <td>0.023676</td>\n",
       "      <td>0.023676</td>\n",
       "      <td>-2.821740e-03</td>\n",
       "      <td>-1.630020e-03</td>\n",
       "      <td>-0.999995</td>\n",
       "    </tr>\n",
       "    <tr>\n",
       "      <th>ID:3500010100-o</th>\n",
       "      <td>0.000259</td>\n",
       "      <td>0.000259</td>\n",
       "      <td>-1.616793e-01</td>\n",
       "      <td>-9.339300e-02</td>\n",
       "      <td>0.982414</td>\n",
       "    </tr>\n",
       "    <tr>\n",
       "      <th>ID:3602010100-o</th>\n",
       "      <td>2.057837</td>\n",
       "      <td>2.057837</td>\n",
       "      <td>-1.326040e-03</td>\n",
       "      <td>-7.653800e-04</td>\n",
       "      <td>0.999999</td>\n",
       "    </tr>\n",
       "    <tr>\n",
       "      <th>ID:3601010100-o</th>\n",
       "      <td>0.023678</td>\n",
       "      <td>0.023678</td>\n",
       "      <td>-2.826450e-03</td>\n",
       "      <td>-1.634190e-03</td>\n",
       "      <td>-0.999995</td>\n",
       "    </tr>\n",
       "    <tr>\n",
       "      <th>ID:3600010100-o</th>\n",
       "      <td>0.000261</td>\n",
       "      <td>0.000261</td>\n",
       "      <td>-1.604184e-01</td>\n",
       "      <td>-9.266579e-02</td>\n",
       "      <td>0.982690</td>\n",
       "    </tr>\n",
       "  </tbody>\n",
       "</table>\n",
       "<p>108 rows × 5 columns</p>\n",
       "</div>"
      ],
      "text/plain": [
       "                 J=L+S (Cartesian)  J=L+S (Spin axis)  Direction of J (x)  \\\n",
       "ID:0102010100-o           0.170774           0.170774       -2.500000e-07   \n",
       "ID:0101010100-o           0.010164           0.010164        8.000000e-08   \n",
       "ID:0100010100-o           0.005562           0.005562        4.800000e-07   \n",
       "ID:0202010100-o           0.170769           0.170769       -3.700000e-07   \n",
       "ID:0201010100-o           0.010164           0.010164        2.510000e-06   \n",
       "...                            ...                ...                 ...   \n",
       "ID:3501010100-o           0.023676           0.023676       -2.821740e-03   \n",
       "ID:3500010100-o           0.000259           0.000259       -1.616793e-01   \n",
       "ID:3602010100-o           2.057837           2.057837       -1.326040e-03   \n",
       "ID:3601010100-o           0.023678           0.023678       -2.826450e-03   \n",
       "ID:3600010100-o           0.000261           0.000261       -1.604184e-01   \n",
       "\n",
       "                 Direction of J (y)  Direction of J (z)  \n",
       "ID:0102010100-o        1.400000e-07           -1.000000  \n",
       "ID:0101010100-o       -5.000000e-08           -1.000000  \n",
       "ID:0100010100-o       -2.800000e-07           -1.000000  \n",
       "ID:0202010100-o        2.100000e-07           -1.000000  \n",
       "ID:0201010100-o       -1.450000e-06           -1.000000  \n",
       "...                             ...                 ...  \n",
       "ID:3501010100-o       -1.630020e-03           -0.999995  \n",
       "ID:3500010100-o       -9.339300e-02            0.982414  \n",
       "ID:3602010100-o       -7.653800e-04            0.999999  \n",
       "ID:3601010100-o       -1.634190e-03           -0.999995  \n",
       "ID:3600010100-o       -9.266579e-02            0.982690  \n",
       "\n",
       "[108 rows x 5 columns]"
      ]
     },
     "execution_count": 32,
     "metadata": {},
     "output_type": "execute_result"
    }
   ],
   "source": [
    "# Reading file into lines; all folders are equivalent according to UU-colleagues, so we can use the first one\n",
    "file_Name_Ms = data_dir_GS + f\"/{xyz_dirs[0]}/out_last\"\n",
    "print(file_Name_Ms)\n",
    "\n",
    "# Create dicts with orbital IDs and values of corresponding\n",
    "# Total moment and its direction (+/-1)\n",
    "tot_moments_D = dtf.find_line_val_dict(file_Name_Ms, 'Total moment [J=L+S] (mu_B):')\n",
    "dir_of_JD = dtf.find_line_val_dict(file_Name_Ms, 'Direction of J (Cartesian):')\n",
    "# print(\"tot_moments_D:\"+str(tot_moments_D))\n",
    "# print(\"dir_of_JD:\"+str(dir_of_JD))\n",
    "params_merged = {}\n",
    "for key in tot_moments_D.keys():\n",
    "    params_merged[key] = tot_moments_D[key] + dir_of_JD[key]\n",
    "\n",
    "# Pretty table for checking the entries for magnetic moments and directions\n",
    "df = pd.DataFrame.from_dict(params_merged, orient='index',\n",
    "                            columns = ['J=L+S (Cartesian)',\n",
    "                                       'J=L+S (Spin axis)',\n",
    "                                       'Direction of J (x)',\n",
    "                                       'Direction of J (y)',\n",
    "                                       'Direction of J (z)'])\n",
    "df"
   ]
  },
  {
   "cell_type": "markdown",
   "metadata": {},
   "source": [
    "## Calculating magnetization\n",
    "**Use:** Cartesian (with direction) - we should use that</br>\n",
    "Spin axis coordinates we ignore"
   ]
  },
  {
   "cell_type": "code",
   "execution_count": 33,
   "metadata": {},
   "outputs": [
    {
     "name": "stdout",
     "output_type": "stream",
     "text": [
      "ID:0102010100-o :  0.1707744 * -1.0 = -0.1707744\n",
      "ID:0101010100-o :  0.01016415 * -1.0 = -0.01016415\n",
      "ID:0100010100-o :  0.005562015 * -1.0 = -0.005562015\n",
      "ID:0202010100-o :  0.1707688 * -1.0 = -0.1707688\n",
      "ID:0201010100-o :  0.01016362 * -1.0 = -0.01016362\n",
      "ID:0200010100-o :  0.005563531 * -1.0 = -0.005563531\n",
      "ID:0302010100-o :  0.1707688 * -1.0 = -0.1707688\n",
      "ID:0301010100-o :  0.01016362 * -1.0 = -0.01016362\n",
      "ID:0300010100-o :  0.005563532 * -1.0 = -0.005563532\n",
      "ID:0402010100-o :  0.173968 * -1.0 = -0.173968\n",
      "ID:0401010100-o :  0.01251386 * -1.0 = -0.01251386\n",
      "ID:0400010100-o :  0.009064861 * -1.0 = -0.009064861\n",
      "ID:0502010100-o :  0.173968 * -1.0 = -0.173968\n",
      "ID:0501010100-o :  0.01251386 * -1.0 = -0.01251386\n",
      "ID:0500010100-o :  0.009064862 * -1.0 = -0.009064862\n",
      "ID:0602010100-o :  0.1739507 * -1.0 = -0.1739507\n",
      "ID:0601010100-o :  0.01251264 * -1.0 = -0.01251264\n",
      "ID:0600010100-o :  0.009063743 * -1.0 = -0.009063743\n",
      "ID:0702010100-o :  0.1739741 * -1.0 = -0.1739741\n",
      "ID:0701010100-o :  0.01251214 * -1.0 = -0.01251214\n",
      "ID:0700010100-o :  0.00906672 * -1.0 = -0.00906672\n",
      "ID:0802010100-o :  0.1739742 * -1.0 = -0.1739742\n",
      "ID:0801010100-o :  0.01251214 * -1.0 = -0.01251214\n",
      "ID:0800010100-o :  0.00906672 * -1.0 = -0.00906672\n",
      "ID:0902010100-o :  0.1739507 * -1.0 = -0.1739507\n",
      "ID:0901010100-o :  0.01251264 * -1.0 = -0.01251264\n",
      "ID:0900010100-o :  0.009063744 * -1.0 = -0.009063744\n",
      "ID:1002010100-o :  0.01312031 * 1.0 = 0.01312031\n",
      "ID:1001010100-o :  0.05073248 * -1.0 = -0.05073248\n",
      "ID:1000010100-o :  0.01604173 * -1.0 = -0.01604173\n",
      "ID:1102010100-o :  0.01312031 * 1.0 = 0.01312031\n",
      "ID:1101010100-o :  0.05073248 * -1.0 = -0.05073248\n",
      "ID:1100010100-o :  0.01604172 * -1.0 = -0.01604172\n",
      "ID:1202010100-o :  0.01311601 * 1.0 = 0.01311601\n",
      "ID:1201010100-o :  0.05072698 * -1.0 = -0.05072698\n",
      "ID:1200010100-o :  0.01603952 * -1.0 = -0.01603952\n",
      "ID:1302010100-o :  0.01311079 * 1.0 = 0.01311079\n",
      "ID:1301010100-o :  0.05076347 * -1.0 = -0.05076347\n",
      "ID:1300010100-o :  0.01601437 * -1.0 = -0.01601437\n",
      "ID:1402010100-o :  0.01311079 * 1.0 = 0.01311079\n",
      "ID:1401010100-o :  0.05076347 * -1.0 = -0.05076347\n",
      "ID:1400010100-o :  0.01601438 * -1.0 = -0.01601438\n",
      "ID:1502010100-o :  0.01311602 * 1.0 = 0.01311602\n",
      "ID:1501010100-o :  0.05072698 * -1.0 = -0.05072698\n",
      "ID:1500010100-o :  0.01603953 * -1.0 = -0.01603953\n",
      "ID:1602010100-o :  1.972198 * 1.0 = 1.972198\n",
      "ID:1601010100-o :  0.03563931 * -1.0 = -0.03563931\n",
      "ID:1600010100-o :  0.001758116 * 1.0 = 0.001758116\n",
      "ID:1702010100-o :  1.972622 * 1.0 = 1.972622\n",
      "ID:1701010100-o :  0.03565538 * -1.0 = -0.03565538\n",
      "ID:1700010100-o :  0.001764955 * 1.0 = 0.001764955\n",
      "ID:1802010100-o :  1.972622 * 1.0 = 1.972622\n",
      "ID:1801010100-o :  0.03565539 * -1.0 = -0.03565539\n",
      "ID:1800010100-o :  0.00176495 * 1.0 = 0.00176495\n",
      "ID:1902010100-o :  2.057931 * 0.99999885 = 2.05792863337935\n",
      "ID:1901010100-o :  0.02367293 * -0.9999944 = -0.023672797431591997\n",
      "ID:1900010100-o :  0.0002638665 * 0.98316106 = 0.00025942326783849\n",
      "ID:2002010100-o :  2.057931 * 0.99999885 = 2.05792863337935\n",
      "ID:2001010100-o :  0.02367294 * -0.9999944 = -0.023672807431536\n",
      "ID:2000010100-o :  0.0002638642 * 0.98316079 = 0.000259420935324718\n",
      "ID:2102010100-o :  2.057937 * 0.99999885 = 2.05793463337245\n",
      "ID:2101010100-o :  0.02367272 * -0.99999441 = -0.0236725876694952\n",
      "ID:2100010100-o :  0.0002638734 * 0.98315797 = 0.000259429236280998\n",
      "ID:2202010100-o :  2.057937 * 0.99999885 = 2.05793463337245\n",
      "ID:2201010100-o :  0.02367273 * -0.99999441 = -0.0236725976694393\n",
      "ID:2200010100-o :  0.0002638703 * 0.98315762 = 0.00025942609613668595\n",
      "ID:2302010100-o :  2.057937 * 0.99999885 = 2.05793463337245\n",
      "ID:2301010100-o :  0.02367271 * -0.99999441 = -0.0236725776695511\n",
      "ID:2300010100-o :  0.0002638763 * 0.98315842 = 0.000259432206183446\n",
      "ID:2402010100-o :  2.057937 * 0.99999885 = 2.05793463337245\n",
      "ID:2401010100-o :  0.02367271 * -0.99999441 = -0.0236725776695511\n",
      "ID:2400010100-o :  0.0002638738 * 0.98315805 = 0.00025942965065409\n",
      "ID:2502010100-o :  2.057894 * 0.99999883 = 2.05789159226402\n",
      "ID:2501010100-o :  0.02367745 * -0.99999465 = -0.0236773233256425\n",
      "ID:2500010100-o :  0.0002607538 * 0.98269048 = 0.000256240276883824\n",
      "ID:2602010100-o :  2.057896 * 0.99999883 = 2.05789359226168\n",
      "ID:2601010100-o :  0.02367597 * -0.99999468 = -0.0236758440438396\n",
      "ID:2600010100-o :  0.0002590053 * 0.98244348 = 0.00025445806827044404\n",
      "ID:2702010100-o :  2.057837 * 0.99999883 = 2.05783459233071\n",
      "ID:2701010100-o :  0.02367805 * -0.99999467 = -0.023677923795993497\n",
      "ID:2700010100-o :  0.000260816 * 0.98268926 = 0.00025630108203616\n",
      "ID:2802010100-o :  2.057835 * 0.99999883 = 2.05783259233305\n",
      "ID:2801010100-o :  0.02367608 * -0.99999469 = -0.023675954280015198\n",
      "ID:2800010100-o :  0.0002588026 * 0.98241444 = 0.00025425141134954404\n",
      "ID:2902010100-o :  2.057837 * 0.99999883 = 2.05783459233071\n",
      "ID:2901010100-o :  0.02367804 * -0.99999467 = -0.0236779137960468\n",
      "ID:2900010100-o :  0.0002608186 * 0.98268967 = 0.00025630374396386197\n",
      "ID:3002010100-o :  2.057835 * 0.99999883 = 2.05783259233305\n",
      "ID:3001010100-o :  0.02367607 * -0.99999469 = -0.0236759442800683\n",
      "ID:3000010100-o :  0.000258806 * 0.98241489 = 0.00025425486802134\n",
      "ID:3102010100-o :  2.057896 * 0.99999883 = 2.05789359226168\n",
      "ID:3101010100-o :  0.02367597 * -0.99999468 = -0.0236758440438396\n",
      "ID:3100010100-o :  0.0002590029 * 0.98244317 = 0.00025445563011519304\n",
      "ID:3202010100-o :  2.057894 * 0.99999883 = 2.05789159226402\n",
      "ID:3201010100-o :  0.02367745 * -0.99999465 = -0.0236773233256425\n",
      "ID:3200010100-o :  0.0002607511 * 0.9826901 = 0.00025623752453411003\n",
      "ID:3302010100-o :  2.057835 * 0.99999883 = 2.05783259233305\n",
      "ID:3301010100-o :  0.02367609 * -0.99999469 = -0.0236759642799621\n",
      "ID:3300010100-o :  0.0002587973 * 0.98241365 = 0.000254246000103145\n",
      "ID:3402010100-o :  2.057837 * 0.99999883 = 2.05783459233071\n",
      "ID:3401010100-o :  0.02367806 * -0.99999467 = -0.0236779337959402\n",
      "ID:3400010100-o :  0.0002608161 * 0.98268928 = 0.00025630118552140803\n",
      "ID:3502010100-o :  2.057835 * 0.99999883 = 2.05783259233305\n",
      "ID:3501010100-o :  0.02367608 * -0.99999469 = -0.023675954280015198\n",
      "ID:3500010100-o :  0.0002588002 * 0.98241414 = 0.000254248975914828\n",
      "ID:3602010100-o :  2.057837 * 0.99999883 = 2.05783459233071\n",
      "ID:3601010100-o :  0.02367805 * -0.99999467 = -0.023677923795993497\n",
      "ID:3600010100-o :  0.0002608191 * 0.98268968 = 0.000256304237916888\n",
      "\n",
      "Total magnetic moment = 40.38138824276782\n",
      "{'unit': [3806.92534729177]}\n",
      "Unit cell volume: 564.1283353529254 A³\n",
      "Magnetization Ms: 0.8342156723732026 T\n"
     ]
    }
   ],
   "source": [
    "# Calculating total magnetic moment by summing all\n",
    "# (Total moment (of an orbital) * Direction of J (takes the one with abs value > 0.9, should be +/-1))\n",
    "tot_magn_mom_C = 0\n",
    "for key in tot_moments_D.keys():\n",
    "    tot_magn_mom_C += tot_moments_D[key][0]*[x for x in dir_of_JD[key] if abs(x) > 0.9][0]\n",
    "    print(key, ': ', tot_moments_D[key][0], '*', \n",
    "          [x for x in dir_of_JD[key] if abs(x) > 0.9][0], '=', \n",
    "          tot_moments_D[key][0]*[x for x in dir_of_JD[key] if abs(x) > 0.9][0])\n",
    "    #    total magnetic moment J=L+S * orientation, wherever +/-1 is\n",
    "\n",
    "print(f'\\nTotal magnetic moment = {tot_magn_mom_C}')\n",
    "\n",
    "# Getting unit cell volume in A^3 from the file\n",
    "ucv = dtf.find_line_val_dict(file_Name_Ms, 'unit cell volume:')\n",
    "print(ucv)\n",
    "# Recalculating in=t in angstroms (should be transferred to m afterwards)\n",
    "ucvA = ucv[list(ucv.keys())[0]][0] / 1.8897259**3 # unit cell volume in A\n",
    "print(f'Unit cell volume: {ucvA} A\\N{SUPERSCRIPT THREE}')\n",
    "\n",
    "# Calculating magnetization in Tesla\n",
    "magnetization_in_T = tot_magn_mom_C/ucvA*11.654\n",
    "print(f'Magnetization Ms: {magnetization_in_T} T')"
   ]
  },
  {
   "cell_type": "markdown",
   "metadata": {},
   "source": [
    "### Q&A\n",
    "**Question #1:** Why doubled data for each orbital? </br>\n",
    "<b>Answer #1:</b> because calculations may run several times, that's why we need to take the last one\n",
    "\n",
    "**Question #2:** How do we calculate total magnetic moment? (Does direction matter?) </br>\n",
    "<b>Answer #2:</b> the direction does matter. For testing approximate resulting value of Ms should be in the README file, our result should be in 2% range of it"
   ]
  },
  {
   "cell_type": "markdown",
   "metadata": {},
   "source": [
    "# Anisotropy"
   ]
  },
  {
   "cell_type": "code",
   "execution_count": 34,
   "metadata": {},
   "outputs": [
    {
     "name": "stdout",
     "output_type": "stream",
     "text": [
      "Anisotropy constant (max of all): 702428.239045374 J/m³\n"
     ]
    }
   ],
   "source": [
    "energies = {}\n",
    "\n",
    "if f'out_MF_{xyz_dirs[0]}' in os.listdir(data_dir_GS+f'/{xyz_dirs[0]}'):\n",
    "    for dirdir in xyz_dirs:\n",
    "        fileName = data_dir_GS+f\"/{dirdir}/out_MF_{dirdir}\"\n",
    "        eigenvalue_sum = dtf.find_line_val_dict(fileName, 'Eigenvalue sum:')\n",
    "        energies[dirdir] = eigenvalue_sum[list(eigenvalue_sum.keys())[0]][0]\n",
    "elif f'out_Etot_{xyz_dirs[0]}' in os.listdir(data_dir_GS+f'/{xyz_dirs[0]}'):\n",
    "    for dirdir in xyz_dirs:\n",
    "        fileName = data_dir_GS+f\"/{dirdir}/out_Etot_{dirdir}\"\n",
    "        energies[dirdir] = dtf.get_energy_from_file(fileName)\n",
    "else:\n",
    "    print('no files for anisotropy')\n",
    "\n",
    "allKs = list()\n",
    "if 'z' in energies.keys():\n",
    "    if 'x' in energies.keys():\n",
    "        Kxz = (energies['x'] - energies['z'])/ucvA*2179874\n",
    "        allKs.append(Kxz)\n",
    "    if 'y' in energies.keys():    \n",
    "        Kyz = (energies['y'] - energies['z'])/ucvA*2179874\n",
    "        allKs.append(Kyz)\n",
    "\n",
    "K = max(allKs) * 1e6            # anisotropy J/m³\n",
    "\n",
    "print(f'Anisotropy constant (max of all): {K} J/m\\N{SUPERSCRIPT THREE}')"
   ]
  },
  {
   "cell_type": "markdown",
   "metadata": {},
   "source": [
    "# Exchange"
   ]
  },
  {
   "cell_type": "code",
   "execution_count": 35,
   "metadata": {},
   "outputs": [
    {
     "name": "stdout",
     "output_type": "stream",
     "text": [
      "[ 10.  20.  40.  60.  80. 100. 120. 140. 160. 180. 200. 220. 240. 260.\n",
      " 280. 300. 320. 340. 360. 380. 400. 420. 440. 460. 480. 500. 520. 540.\n",
      " 560. 580. 600. 620. 640. 660. 680. 700. 720. 740. 760. 780. 800.]\n",
      "There seem to be NO momfile and no posfile :( Getting n_atoms from GS/out_last\n",
      "Number of atoms: 36\n",
      "Tc = 580.0 K\n",
      "1.4139342235906116 1.9035996406663855\n",
      "spin wave stiffness constant  1.0599444058949386e-40\n",
      "exchange constant at T=0 3.214954829249676e-12\n",
      "Js_300 (T) 1.095991510384877\n",
      "A_300 (J/m) 1.931660693219606e-12\n",
      "K_300 (MJ/m) 0.32714170556747774\n",
      "1.931660693219606e-12\n",
      "1.095991510384877\n",
      "Lex  1.4215533501598827\n"
     ]
    },
    {
     "data": {
      "image/png": "[encoded data removed]",
      "text/plain": [
       "<Figure size 640x480 with 1 Axes>"
      ]
     },
     "metadata": {},
     "output_type": "display_data"
    }
   ],
   "source": [
    "# Define the form of the function you want to fit\n",
    "fn = data_dir_MC + '/M(T)'  # magnetic polarization\n",
    "TK, Js = dtf.read_2_col_data(fn)\n",
    "print(TK)\n",
    "\n",
    "mc_dirs = [dirdir for dirdir in os.listdir(data_dir_MC) if dirdir in ['momfile', 'posfile']]\n",
    "\n",
    "if len(mc_dirs) > 0:\n",
    "    with open(data_dir_MC + '/' + mc_dirs[0], 'rt') as f:\n",
    "        n_atoms = len(f.read().splitlines())\n",
    "    print(f'Number of atoms: {n_atoms}')\n",
    "else:\n",
    "    print('There seem to be NO momfile and no posfile :( Getting n_atoms from GS/out_last')\n",
    "    atoms_Ns = set([int(key[key.find(':')+1:key.find(':') + 3]) for key in tot_moments_D.keys()])\n",
    "    n_atoms = len(atoms_Ns)\n",
    "print(f'Number of atoms: {n_atoms}')\n",
    "    \n",
    "Js = [item*n_atoms/ucvA*11.654 for item in Js]\n",
    "\n",
    "poscut = np.argmin(np.diff(Js)/np.diff(TK))+2\n",
    "Tc = TK[poscut]\n",
    "print(f'Tc = {Tc} K')\n",
    "TKc = TK[:poscut].copy()\n",
    "Jsc = Js[:poscut].copy()\n",
    "\n",
    "xfine = np.linspace(0, Tc, 500)\n",
    "p    = 5.0 / 2\n",
    "beta = 1. / 3\n",
    "m_s = partial(dtf.spontaneous_magnetization, p=p, beta=beta, T_C=Tc)\n",
    "\n",
    "popt, pcov = curve_fit(m_s, TKc, Jsc)\n",
    "Js_0, s = popt\n",
    "print(Js_0, s)\n",
    "T_fit = np.linspace(min(TKc), max(TKc), 500)\n",
    "Js_fit = m_s(T_fit, Js_0, s)\n",
    "\n",
    "g = 2\n",
    "k_b = physical_constants[\"Boltzmann constant\"][0]\n",
    "mu_b = physical_constants[\"Bohr magneton\"][0]\n",
    "\n",
    "M_0 = Js_0/mu_0\n",
    "D = (0.1509\n",
    "     * ((g * mu_b) / (s * beta * M_0)) ** (2. / 3)\n",
    "     * k_b\n",
    "     * Tc\n",
    "     )\n",
    "print(\"spin wave stiffness constant \",D)\n",
    "A_0 = M_0 * D / (2 * g * mu_b)\n",
    "print(\"exchange constant at T=0\",A_0)\n",
    "\n",
    "Js_300 = m_s(300., Js_0, s)\n",
    "print(\"Js_300 (T)\",Js_300)\n",
    "\n",
    "A_300 = A_0*(Js_300/Js_0)**2\n",
    "print(\"A_300 (J/m)\",A_300)\n",
    "\n",
    "K_300 = K*(Js_300/Js_0)**3\n",
    "print(\"K_300 (MJ/m)\",K_300/1e6)\n",
    "\n",
    "# A = A_0*(Js/Js0)^2\n",
    "print(A_300)\n",
    "print(Js_300)\n",
    "print('Lex ',np.sqrt(mu_0*A_300/(Js_300*Js_300))/1e-9)\n",
    "\n",
    "fig, ax = plt.subplots()\n",
    "ax.scatter(TK, Js, marker=\"o\", label=\"data points\", facecolors='none', edgecolors='#4575b4')\n",
    "label = \"Kuz'min's fit\"\n",
    "ax.plot(xfine, m_s(xfine, Js_0, s), label=label, color='#f46d43')\n",
    "ax.legend()\n",
    "ax.set_xlabel(\"Temperature (K)\")\n",
    "ax.set_ylabel(\"J (T)\")\n",
    "ax.grid()"
   ]
  },
  {
   "cell_type": "markdown",
   "metadata": {},
   "source": [
    "### Data from README file for doublechecking"
   ]
  },
  {
   "cell_type": "code",
   "execution_count": 36,
   "metadata": {},
   "outputs": [
    {
     "name": "stdout",
     "output_type": "stream",
     "text": [
      "### README:\n",
      "Ms = 0.8342 T\n",
      "MAE= 0.70 MJ/m³\n",
      "\n",
      "### End of README\n",
      "\n",
      "Extracted Ms value from README: 0.8342 T\n",
      "MAE values not found in README\n"
     ]
    }
   ],
   "source": [
    "import re\n",
    "\n",
    "# Ms - Saturation Magnetization\n",
    "# MAE - Magnetic Anisotropy Energy\n",
    "with open(data_dir + '/README', 'rt') as f:\n",
    "    print(\"### README:\")\n",
    "    print(f.read())\n",
    "    print(\"### End of README\\n\")\n",
    "    # Extract the value for Ms from README\n",
    "    with open(data_dir + '/README', 'rt') as f:\n",
    "        readme_content = f.read()\n",
    "\n",
    "    ms_match = re.search(r'Ms\\s*=\\s*([\\d.]+)\\s*T', readme_content)\n",
    "    if ms_match:\n",
    "        ms_value_in_T = float(ms_match.group(1))\n",
    "        print(f\"Extracted Ms value from README: {ms_value_in_T} T\")\n",
    "    else:\n",
    "        print(\"Ms value not found in README\")\n",
    "\n",
    "    mae_matches = re.findall(r'([xyz])\\s*-\\s*([xyz])\\s*=\\s*([\\d.]+)\\s*MJ/m³', readme_content)\n",
    "    if mae_matches:\n",
    "        mae_values_in_MJPerCubicm = [float(match[2]) for match in mae_matches]\n",
    "        max_mae_value_in_MJPerCubicm = max(mae_values_in_MJPerCubicm)\n",
    "        print(f\"Extracted maximum MAE value from README: {max_mae_value_in_MJPerCubicm} MJ/m³\")\n",
    "    else:\n",
    "        print(\"MAE values not found in README\")"
   ]
  },
  {
   "cell_type": "markdown",
   "metadata": {},
   "source": [
    "### Summary of values computed from the dataset"
   ]
  },
  {
   "cell_type": "code",
   "execution_count": 37,
   "metadata": {},
   "outputs": [
    {
     "name": "stdout",
     "output_type": "stream",
     "text": [
      " Ms = 0.8342 T\n",
      " K = 0.7024 MJ/m^3\n"
     ]
    }
   ],
   "source": [
    "print(\" Ms = \"+str(round_to_significant_digits(magnetization_in_T, 4)) + \" T\")\n",
    "print(\" K = \" + str(round_to_significant_digits(K/1e6, 4)) + \" MJ/m^3\")"
   ]
  },
  {
   "cell_type": "markdown",
   "metadata": {},
   "source": [
    "### Computing deviations between computed values and given values from the README"
   ]
  },
  {
   "cell_type": "code",
   "execution_count": 38,
   "metadata": {},
   "outputs": [
    {
     "name": "stdout",
     "output_type": "stream",
     "text": [
      " Deviation for magnetization in percent = -0.001879 %\n"
     ]
    }
   ],
   "source": [
    "deviation_in_percent = 100 - (magnetization_in_T/ ms_value_in_T) * 100\n",
    "print(\" Deviation for magnetization in percent = \"+str(round_to_significant_digits(deviation_in_percent, 4)) + \" %\")"
   ]
  },
  {
   "cell_type": "code",
   "execution_count": 42,
   "metadata": {},
   "outputs": [
    {
     "name": "stdout",
     "output_type": "stream",
     "text": [
      "MAE values not found in README\n"
     ]
    }
   ],
   "source": [
    "try:\n",
    "    deviation_mae_percent = 100 - ((K/1e6) / max_mae_value_in_MJPerCubicm) * 100\n",
    "    print(\" Deviation for anisotropy energy/constant in percent = \" + str(round_to_significant_digits(deviation_mae_percent, 4)) + \" %\")\n",
    "except NameError:\n",
    "    print(\"MAE values not found in README\")"
   ]
  },
  {
   "cell_type": "code",
   "execution_count": null,
   "metadata": {},
   "outputs": [],
   "source": []
  }
 ],
 "metadata": {
  "kernelspec": {
   "display_name": "Python 3 (ipykernel)",
   "language": "python",
   "name": "python3"
  },
  "language_info": {
   "codemirror_mode": {
    "name": "ipython",
    "version": 3
   },
   "file_extension": ".py",
   "mimetype": "text/x-python",
   "name": "python",
   "nbconvert_exporter": "python",
   "pygments_lexer": "ipython3",
   "version": "3.12.8"
  }
 },
 "nbformat": 4,
 "nbformat_minor": 4
}
