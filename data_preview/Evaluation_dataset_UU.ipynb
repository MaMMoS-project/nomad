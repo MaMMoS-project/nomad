{
 "cells": [
  {
   "cell_type": "markdown",
   "metadata": {},
   "source": [
    "# Importing Modules"
   ]
  },
  {
   "cell_type": "code",
   "execution_count": 230,
   "metadata": {},
   "outputs": [
    {
     "name": "stdout",
     "output_type": "stream",
     "text": [
      "Importing done.\n"
     ]
    }
   ],
   "source": [
    "import os\n",
    "from functools import partial\n",
    "import numpy as np\n",
    "import pandas as pd\n",
    "from scipy.optimize import curve_fit\n",
    "from scipy.constants import mu_0\n",
    "from scipy.constants import physical_constants\n",
    "import matplotlib\n",
    "import matplotlib.pyplot as plt\n",
    "\n",
    "import data_tests_functions as dtf\n",
    "\n",
    "matplotlib.rcParams.update({'font.size': 14})\n",
    "\n",
    "print('Importing done.')"
   ]
  },
  {
   "cell_type": "code",
   "execution_count": 231,
   "metadata": {},
   "outputs": [],
   "source": [
    "def round_to_significant_digits(value, sig_digits):\n",
    "    \"\"\"\n",
    "    Rounds a value to a specified number of significant digits.\n",
    "    :param value: The value to round.\n",
    "    :param sig_digits: The number of significant digits to round to.\n",
    "    :return: The rounded value.\n",
    "    \"\"\"\n",
    "    if value == 0:\n",
    "        raise ValueError(\"Cannot round a value of 0 to significant digits.\")\n",
    "    digits = -int(np.floor(np.log10(abs(value))) - (sig_digits - 1))\n",
    "    value_rounded = round(value, digits)\n",
    "    return value_rounded"
   ]
  },
  {
   "cell_type": "markdown",
   "metadata": {},
   "source": [
    "# Data directory input"
   ]
  },
  {
   "cell_type": "code",
   "execution_count": null,
   "metadata": {},
   "outputs": [],
   "source": [
    "# data_dir = '/Users/santapile/Santas/Projects/MaMMoS/NOMAD/dataExamples/UU/UU-sets/Fe3-xZnxY(x=0.22)'\n",
    "\n",
    "# data_dir = 'Co2Fe2H4'\n",
    "# data_dir = 'Co2Fe16Y6'\n",
    "# data_dir = 'Fe3-xTaxY(x=0.22)'\n",
    "# data_dir = 'Fe3-xVxY(x=0.22)'\n",
    "data_dir = 'Fe3-xZnxY(x=0.22)'"
   ]
  },
  {
   "cell_type": "code",
   "execution_count": 233,
   "metadata": {},
   "outputs": [
    {
     "data": {
      "text/plain": [
       "True"
      ]
     },
     "execution_count": 233,
     "metadata": {},
     "output_type": "execute_result"
    }
   ],
   "source": [
    "import check_file_and_folder_structure as cffs\n",
    "cffs.check_structure(data_dir, check_README=True, verbose=True)"
   ]
  },
  {
   "cell_type": "code",
   "execution_count": 234,
   "metadata": {},
   "outputs": [
    {
     "name": "stdout",
     "output_type": "stream",
     "text": [
      "Fe3-xVxY(x=0.22)/GS\n",
      "Fe3-xVxY(x=0.22)/MC\n",
      "['x', 'z']\n"
     ]
    }
   ],
   "source": [
    "data_dir_GS = data_dir + \"/GS\"\n",
    "data_dir_MC = data_dir + \"/MC\"\n",
    "\n",
    "xyz_dirs = [dirdir for dirdir in os.listdir(data_dir_GS) if len(dirdir) == 1]\n",
    "\n",
    "print(data_dir_GS)\n",
    "print(data_dir_MC)\n",
    "print(xyz_dirs)"
   ]
  },
  {
   "cell_type": "markdown",
   "metadata": {},
   "source": [
    "# Magnetization"
   ]
  },
  {
   "cell_type": "code",
   "execution_count": 235,
   "metadata": {},
   "outputs": [
    {
     "name": "stdout",
     "output_type": "stream",
     "text": [
      "Fe3-xVxY(x=0.22)/GS/x/out_last\n"
     ]
    },
    {
     "data": {
      "text/html": [
       "<div>\n",
       "<style scoped>\n",
       "    .dataframe tbody tr th:only-of-type {\n",
       "        vertical-align: middle;\n",
       "    }\n",
       "\n",
       "    .dataframe tbody tr th {\n",
       "        vertical-align: top;\n",
       "    }\n",
       "\n",
       "    .dataframe thead th {\n",
       "        text-align: right;\n",
       "    }\n",
       "</style>\n",
       "<table border=\"1\" class=\"dataframe\">\n",
       "  <thead>\n",
       "    <tr style=\"text-align: right;\">\n",
       "      <th></th>\n",
       "      <th>J=L+S (Cartesian)</th>\n",
       "      <th>J=L+S (Spin axis)</th>\n",
       "      <th>Direction of J (x)</th>\n",
       "      <th>Direction of J (y)</th>\n",
       "      <th>Direction of J (z)</th>\n",
       "    </tr>\n",
       "  </thead>\n",
       "  <tbody>\n",
       "    <tr>\n",
       "      <th>ID:0102010100-o</th>\n",
       "      <td>0.086861</td>\n",
       "      <td>0.086861</td>\n",
       "      <td>-1.0</td>\n",
       "      <td>-2.000000e-07</td>\n",
       "      <td>1.700000e-07</td>\n",
       "    </tr>\n",
       "    <tr>\n",
       "      <th>ID:0101010100-o</th>\n",
       "      <td>0.008648</td>\n",
       "      <td>0.008648</td>\n",
       "      <td>-1.0</td>\n",
       "      <td>-6.000000e-07</td>\n",
       "      <td>2.000000e-08</td>\n",
       "    </tr>\n",
       "    <tr>\n",
       "      <th>ID:0100010100-o</th>\n",
       "      <td>0.001487</td>\n",
       "      <td>0.001487</td>\n",
       "      <td>-1.0</td>\n",
       "      <td>3.000000e-08</td>\n",
       "      <td>3.400000e-07</td>\n",
       "    </tr>\n",
       "    <tr>\n",
       "      <th>ID:0202010100-o</th>\n",
       "      <td>0.086861</td>\n",
       "      <td>0.086861</td>\n",
       "      <td>-1.0</td>\n",
       "      <td>-1.900000e-07</td>\n",
       "      <td>-2.000000e-08</td>\n",
       "    </tr>\n",
       "    <tr>\n",
       "      <th>ID:0201010100-o</th>\n",
       "      <td>0.008648</td>\n",
       "      <td>0.008648</td>\n",
       "      <td>-1.0</td>\n",
       "      <td>-6.000000e-07</td>\n",
       "      <td>4.000000e-08</td>\n",
       "    </tr>\n",
       "    <tr>\n",
       "      <th>...</th>\n",
       "      <td>...</td>\n",
       "      <td>...</td>\n",
       "      <td>...</td>\n",
       "      <td>...</td>\n",
       "      <td>...</td>\n",
       "    </tr>\n",
       "    <tr>\n",
       "      <th>ID:3501010100-o</th>\n",
       "      <td>0.008533</td>\n",
       "      <td>0.008533</td>\n",
       "      <td>1.0</td>\n",
       "      <td>1.300000e-07</td>\n",
       "      <td>-1.900000e-07</td>\n",
       "    </tr>\n",
       "    <tr>\n",
       "      <th>ID:3500010100-o</th>\n",
       "      <td>0.007851</td>\n",
       "      <td>0.007851</td>\n",
       "      <td>-1.0</td>\n",
       "      <td>-2.000000e-08</td>\n",
       "      <td>3.000000e-08</td>\n",
       "    </tr>\n",
       "    <tr>\n",
       "      <th>ID:3602010100-o</th>\n",
       "      <td>0.580452</td>\n",
       "      <td>0.580452</td>\n",
       "      <td>-1.0</td>\n",
       "      <td>-5.000000e-08</td>\n",
       "      <td>0.000000e+00</td>\n",
       "    </tr>\n",
       "    <tr>\n",
       "      <th>ID:3601010100-o</th>\n",
       "      <td>0.008533</td>\n",
       "      <td>0.008533</td>\n",
       "      <td>1.0</td>\n",
       "      <td>2.300000e-07</td>\n",
       "      <td>-3.600000e-07</td>\n",
       "    </tr>\n",
       "    <tr>\n",
       "      <th>ID:3600010100-o</th>\n",
       "      <td>0.007851</td>\n",
       "      <td>0.007851</td>\n",
       "      <td>-1.0</td>\n",
       "      <td>-2.000000e-08</td>\n",
       "      <td>0.000000e+00</td>\n",
       "    </tr>\n",
       "  </tbody>\n",
       "</table>\n",
       "<p>108 rows × 5 columns</p>\n",
       "</div>"
      ],
      "text/plain": [
       "                 J=L+S (Cartesian)  J=L+S (Spin axis)  Direction of J (x)  \\\n",
       "ID:0102010100-o           0.086861           0.086861                -1.0   \n",
       "ID:0101010100-o           0.008648           0.008648                -1.0   \n",
       "ID:0100010100-o           0.001487           0.001487                -1.0   \n",
       "ID:0202010100-o           0.086861           0.086861                -1.0   \n",
       "ID:0201010100-o           0.008648           0.008648                -1.0   \n",
       "...                            ...                ...                 ...   \n",
       "ID:3501010100-o           0.008533           0.008533                 1.0   \n",
       "ID:3500010100-o           0.007851           0.007851                -1.0   \n",
       "ID:3602010100-o           0.580452           0.580452                -1.0   \n",
       "ID:3601010100-o           0.008533           0.008533                 1.0   \n",
       "ID:3600010100-o           0.007851           0.007851                -1.0   \n",
       "\n",
       "                 Direction of J (y)  Direction of J (z)  \n",
       "ID:0102010100-o       -2.000000e-07        1.700000e-07  \n",
       "ID:0101010100-o       -6.000000e-07        2.000000e-08  \n",
       "ID:0100010100-o        3.000000e-08        3.400000e-07  \n",
       "ID:0202010100-o       -1.900000e-07       -2.000000e-08  \n",
       "ID:0201010100-o       -6.000000e-07        4.000000e-08  \n",
       "...                             ...                 ...  \n",
       "ID:3501010100-o        1.300000e-07       -1.900000e-07  \n",
       "ID:3500010100-o       -2.000000e-08        3.000000e-08  \n",
       "ID:3602010100-o       -5.000000e-08        0.000000e+00  \n",
       "ID:3601010100-o        2.300000e-07       -3.600000e-07  \n",
       "ID:3600010100-o       -2.000000e-08        0.000000e+00  \n",
       "\n",
       "[108 rows x 5 columns]"
      ]
     },
     "execution_count": 235,
     "metadata": {},
     "output_type": "execute_result"
    }
   ],
   "source": [
    "# Reading file into lines; all folders are equivalent according to UU-colleagues, so we can use the first one\n",
    "file_Name_Ms = data_dir_GS + f\"/{xyz_dirs[0]}/out_last\"\n",
    "print(file_Name_Ms)\n",
    "\n",
    "# Create dicts with orbital IDs and values of corresponding\n",
    "# Total moment and its direction (+/-1)\n",
    "tot_moments_D = dtf.find_line_val_dict(file_Name_Ms, 'Total moment [J=L+S] (mu_B):')\n",
    "dir_of_JD = dtf.find_line_val_dict(file_Name_Ms, 'Direction of J (Cartesian):')\n",
    "# print(\"tot_moments_D:\"+str(tot_moments_D))\n",
    "# print(\"dir_of_JD:\"+str(dir_of_JD))\n",
    "params_merged = {}\n",
    "for key in tot_moments_D.keys():\n",
    "    params_merged[key] = tot_moments_D[key] + dir_of_JD[key]\n",
    "\n",
    "# Pretty table for checking the entries for magnetic moments and directions\n",
    "df = pd.DataFrame.from_dict(params_merged, orient='index',\n",
    "                            columns = ['J=L+S (Cartesian)',\n",
    "                                       'J=L+S (Spin axis)',\n",
    "                                       'Direction of J (x)',\n",
    "                                       'Direction of J (y)',\n",
    "                                       'Direction of J (z)'])\n",
    "df"
   ]
  },
  {
   "cell_type": "markdown",
   "metadata": {},
   "source": [
    "## Calculating magnetization\n",
    "**Use:** Cartesian (with direction) - we should use that</br>\n",
    "Spin axis coordinates we ignore"
   ]
  },
  {
   "cell_type": "code",
   "execution_count": 236,
   "metadata": {},
   "outputs": [
    {
     "name": "stdout",
     "output_type": "stream",
     "text": [
      "ID:0102010100-o :  0.08686067 * -1.0 = -0.08686067\n",
      "ID:0101010100-o :  0.008647941 * -1.0 = -0.008647941\n",
      "ID:0100010100-o :  0.00148746 * -1.0 = -0.00148746\n",
      "ID:0202010100-o :  0.08686057 * -1.0 = -0.08686057\n",
      "ID:0201010100-o :  0.008647997 * -1.0 = -0.008647997\n",
      "ID:0200010100-o :  0.001487601 * -1.0 = -0.001487601\n",
      "ID:0302010100-o :  0.08686049 * -1.0 = -0.08686049\n",
      "ID:0301010100-o :  0.00864799 * -1.0 = -0.00864799\n",
      "ID:0300010100-o :  0.001487604 * -1.0 = -0.001487604\n",
      "ID:0402010100-o :  0.1441238 * -1.0 = -0.1441238\n",
      "ID:0401010100-o :  0.009922495 * -1.0 = -0.009922495\n",
      "ID:0400010100-o :  0.008173983 * -1.0 = -0.008173983\n",
      "ID:0502010100-o :  0.1441237 * -1.0 = -0.1441237\n",
      "ID:0501010100-o :  0.009922489 * -1.0 = -0.009922489\n",
      "ID:0500010100-o :  0.00817398 * -1.0 = -0.00817398\n",
      "ID:0602010100-o :  0.1441259 * -1.0 = -0.1441259\n",
      "ID:0601010100-o :  0.009922551 * -1.0 = -0.009922551\n",
      "ID:0600010100-o :  0.008174045 * -1.0 = -0.008174045\n",
      "ID:0702010100-o :  0.1441243 * -1.0 = -0.1441243\n",
      "ID:0701010100-o :  0.009922506 * -1.0 = -0.009922506\n",
      "ID:0700010100-o :  0.008173933 * -1.0 = -0.008173933\n",
      "ID:0802010100-o :  0.1441242 * -1.0 = -0.1441242\n",
      "ID:0801010100-o :  0.0099225 * -1.0 = -0.0099225\n",
      "ID:0800010100-o :  0.008173928 * -1.0 = -0.008173928\n",
      "ID:0902010100-o :  0.1441259 * -1.0 = -0.1441259\n",
      "ID:0901010100-o :  0.00992255 * -1.0 = -0.00992255\n",
      "ID:0900010100-o :  0.008174044 * -1.0 = -0.008174044\n",
      "ID:1002010100-o :  2.124313 * 1.0 = 2.124313\n",
      "ID:1001010100-o :  0.03085354 * -1.0 = -0.03085354\n",
      "ID:1000010100-o :  0.00685078 * 1.0 = 0.00685078\n",
      "ID:1102010100-o :  2.124306 * 1.0 = 2.124306\n",
      "ID:1101010100-o :  0.03085361 * -1.0 = -0.03085361\n",
      "ID:1100010100-o :  0.006850684 * 1.0 = 0.006850684\n",
      "ID:1202010100-o :  2.124306 * 1.0 = 2.124306\n",
      "ID:1201010100-o :  0.03085363 * -1.0 = -0.03085363\n",
      "ID:1200010100-o :  0.006850689 * 1.0 = 0.006850689\n",
      "ID:1302010100-o :  1.618312 * 0.99999363 = 1.6183016913525599\n",
      "ID:1301010100-o :  0.02006833 * -0.99995908 = -0.020067508803936398\n",
      "ID:1300010100-o :  0.003159643 * 0.99999925 = 0.0031596406302677503\n",
      "ID:1402010100-o :  1.618312 * 0.99999363 = 1.6183016913525599\n",
      "ID:1401010100-o :  0.02006833 * -0.99995909 = -0.0200675090046197\n",
      "ID:1400010100-o :  0.003159641 * 0.99999925 = 0.0031596386302692498\n",
      "ID:1502010100-o :  1.627721 * 1.0 = 1.627721\n",
      "ID:1501010100-o :  0.01977379 * -1.0 = -0.01977379\n",
      "ID:1500010100-o :  0.003156222 * 1.0 = 0.003156222\n",
      "ID:1602010100-o :  1.627721 * 1.0 = 1.627721\n",
      "ID:1601010100-o :  0.01977378 * -1.0 = -0.01977378\n",
      "ID:1600010100-o :  0.003156221 * 1.0 = 0.003156221\n",
      "ID:1702010100-o :  1.618309 * 0.99999363 = 1.61829869137167\n",
      "ID:1701010100-o :  0.02006842 * -0.99995908 = -0.0200675988002536\n",
      "ID:1700010100-o :  0.003159432 * 0.99999925 = 0.003159429630426\n",
      "ID:1802010100-o :  1.618309 * 0.99999363 = 1.61829869137167\n",
      "ID:1801010100-o :  0.02006842 * -0.99995908 = -0.0200675988002536\n",
      "ID:1800010100-o :  0.003159436 * 0.99999925 = 0.003159433630423\n",
      "ID:1902010100-o :  1.618319 * 0.99999363 = 1.61830869130797\n",
      "ID:1901010100-o :  0.02006854 * -0.99995909 = -0.0200677189960286\n",
      "ID:1900010100-o :  0.003159689 * 0.99999925 = 0.00315968663023325\n",
      "ID:2002010100-o :  1.618314 * 0.99999363 = 1.6183036913398199\n",
      "ID:2001010100-o :  0.02006874 * -0.99995909 = -0.020067918987846604\n",
      "ID:2000010100-o :  0.003159681 * 0.99999925 = 0.00315967863023925\n",
      "ID:2102010100-o :  1.627726 * 1.0 = 1.627726\n",
      "ID:2101010100-o :  0.01977403 * -1.0 = -0.01977403\n",
      "ID:2100010100-o :  0.003156249 * 1.0 = 0.003156249\n",
      "ID:2202010100-o :  1.62772 * 1.0 = 1.62772\n",
      "ID:2201010100-o :  0.01977422 * -1.0 = -0.01977422\n",
      "ID:2200010100-o :  0.003156223 * 1.0 = 0.003156223\n",
      "ID:2302010100-o :  1.618318 * 0.99999363 = 1.61830769131434\n",
      "ID:2301010100-o :  0.02006863 * -0.99995908 = -0.0200678087916604\n",
      "ID:2300010100-o :  0.003159501 * 0.99999925 = 0.00315949863037425\n",
      "ID:2402010100-o :  1.618311 * 0.99999363 = 1.61830069135893\n",
      "ID:2401010100-o :  0.02006883 * -0.99995909 = -0.0200680089841647\n",
      "ID:2400010100-o :  0.003159469 * 0.99999925 = 0.0031594666303982498\n",
      "ID:2502010100-o :  1.618313 * 0.99999363 = 1.6183026913461898\n",
      "ID:2501010100-o :  0.02006871 * -0.99995909 = -0.0200678889890739\n",
      "ID:2500010100-o :  0.00315968 * 0.99999925 = 0.0031596776302400004\n",
      "ID:2602010100-o :  1.618319 * 0.99999363 = 1.61830869130797\n",
      "ID:2601010100-o :  0.02006853 * -0.99995909 = -0.020067708996437703\n",
      "ID:2600010100-o :  0.00315969 * 0.99999925 = 0.0031596876302325003\n",
      "ID:2702010100-o :  1.627719 * 1.0 = 1.627719\n",
      "ID:2701010100-o :  0.0197742 * -1.0 = -0.0197742\n",
      "ID:2700010100-o :  0.003156222 * 1.0 = 0.003156222\n",
      "ID:2802010100-o :  1.627726 * 1.0 = 1.627726\n",
      "ID:2801010100-o :  0.01977401 * -1.0 = -0.01977401\n",
      "ID:2800010100-o :  0.003156249 * 1.0 = 0.003156249\n",
      "ID:2902010100-o :  1.618309 * 0.99999363 = 1.61829869137167\n",
      "ID:2901010100-o :  0.02006881 * -0.99995909 = -0.0200679889849829\n",
      "ID:2900010100-o :  0.003159455 * 0.99999925 = 0.00315945263040875\n",
      "ID:3002010100-o :  1.618316 * 0.99999363 = 1.6183056913270801\n",
      "ID:3001010100-o :  0.02006862 * -0.99995908 = -0.0200677987920696\n",
      "ID:3000010100-o :  0.003159483 * 0.99999925 = 0.00315948063038775\n",
      "ID:3102010100-o :  0.5804513 * -1.0 = -0.5804513\n",
      "ID:3101010100-o :  0.008532612 * 1.0 = 0.008532612\n",
      "ID:3100010100-o :  0.007850912 * -1.0 = -0.007850912\n",
      "ID:3202010100-o :  0.5804505 * -1.0 = -0.5804505\n",
      "ID:3201010100-o :  0.008532591 * 1.0 = 0.008532591\n",
      "ID:3200010100-o :  0.007850906 * -1.0 = -0.007850906\n",
      "ID:3302010100-o :  0.5804506 * -1.0 = -0.5804506\n",
      "ID:3301010100-o :  0.008532584 * 1.0 = 0.008532584\n",
      "ID:3300010100-o :  0.007850976 * -1.0 = -0.007850976\n",
      "ID:3402010100-o :  0.5804452 * -1.0 = -0.5804452\n",
      "ID:3401010100-o :  0.008532604 * 1.0 = 0.008532604\n",
      "ID:3400010100-o :  0.007850909 * -1.0 = -0.007850909\n",
      "ID:3502010100-o :  0.5804458 * -1.0 = -0.5804458\n",
      "ID:3501010100-o :  0.008532621 * 1.0 = 0.008532621\n",
      "ID:3500010100-o :  0.007850919 * -1.0 = -0.007850919\n",
      "ID:3602010100-o :  0.580452 * -1.0 = -0.580452\n",
      "ID:3601010100-o :  0.008532625 * 1.0 = 0.008532625\n",
      "ID:3600010100-o :  0.007850993 * -1.0 = -0.007850993\n",
      "\n",
      "Total magnetic moment = 30.441361234754993\n",
      "{'unit': [3748.72173679264]}\n",
      "Unit cell volume: 555.5034470488346 A³\n",
      "Magnetization Ms: 0.6386344238088 T\n"
     ]
    }
   ],
   "source": [
    "# Calculating total magnetic moment by summing all\n",
    "# (Total moment (of an orbital) * Direction of J (takes the one with abs value > 0.9, should be +/-1))\n",
    "tot_magn_mom_C = 0\n",
    "for key in tot_moments_D.keys():\n",
    "    tot_magn_mom_C += tot_moments_D[key][0]*[x for x in dir_of_JD[key] if abs(x) > 0.9][0]\n",
    "    print(key, ': ', tot_moments_D[key][0], '*', \n",
    "          [x for x in dir_of_JD[key] if abs(x) > 0.9][0], '=', \n",
    "          tot_moments_D[key][0]*[x for x in dir_of_JD[key] if abs(x) > 0.9][0])\n",
    "    #    total magnetic moment J=L+S * orientation, wherever +/-1 is\n",
    "\n",
    "print(f'\\nTotal magnetic moment = {tot_magn_mom_C}')\n",
    "\n",
    "# Getting unit cell volume in A^3 from the file\n",
    "ucv = dtf.find_line_val_dict(file_Name_Ms, 'unit cell volume:')\n",
    "print(ucv)\n",
    "# Recalculating in=t in angstroms (should be transferred to m afterwards)\n",
    "ucvA = ucv[list(ucv.keys())[0]][0] / 1.8897259**3 # unit cell volume in A\n",
    "print(f'Unit cell volume: {ucvA} A\\N{SUPERSCRIPT THREE}')\n",
    "\n",
    "# Calculating magnetization in Tesla\n",
    "magnetization_in_T = tot_magn_mom_C/ucvA*11.654\n",
    "print(f'Magnetization Ms: {magnetization_in_T} T')"
   ]
  },
  {
   "cell_type": "markdown",
   "metadata": {},
   "source": [
    "### Q&A\n",
    "**Question #1:** Why doubled data for each orbital? </br>\n",
    "<b>Answer #1:</b> because calculations may run several times, that's why we need to take the last one\n",
    "\n",
    "**Question #2:** How do we calculate total magnetic moment? (Does direction matter?) </br>\n",
    "<b>Answer #2:</b> the direction does matter. For testing approximate resulting value of Ms should be in the README file, our result should be in 2% range of it"
   ]
  },
  {
   "cell_type": "markdown",
   "metadata": {},
   "source": [
    "# Anisotropy"
   ]
  },
  {
   "cell_type": "code",
   "execution_count": 237,
   "metadata": {},
   "outputs": [
    {
     "name": "stdout",
     "output_type": "stream",
     "text": [
      "Anisotropy constant (max of all): 441676.5991013162 J/m³\n"
     ]
    }
   ],
   "source": [
    "energies = {}\n",
    "\n",
    "if f'out_MF_{xyz_dirs[0]}' in os.listdir(data_dir_GS+f'/{xyz_dirs[0]}'):\n",
    "    for dirdir in xyz_dirs:\n",
    "        fileName = data_dir_GS+f\"/{dirdir}/out_MF_{dirdir}\"\n",
    "        eigenvalue_sum = dtf.find_line_val_dict(fileName, 'Eigenvalue sum:')\n",
    "        energies[dirdir] = eigenvalue_sum[list(eigenvalue_sum.keys())[0]][0]\n",
    "elif f'out_Etot_{xyz_dirs[0]}' in os.listdir(data_dir_GS+f'/{xyz_dirs[0]}'):\n",
    "    for dirdir in xyz_dirs:\n",
    "        fileName = data_dir_GS+f\"/{dirdir}/out_Etot_{dirdir}\"\n",
    "        energies[dirdir] = dtf.get_energy_from_file(fileName)\n",
    "else:\n",
    "    print('no files for anisotropy')\n",
    "\n",
    "allKs = list()\n",
    "if 'z' in energies.keys():\n",
    "    if 'x' in energies.keys():\n",
    "        Kxz = (energies['x'] - energies['z'])/ucvA*2179874\n",
    "        allKs.append(Kxz)\n",
    "    if 'y' in energies.keys():    \n",
    "        Kyz = (energies['y'] - energies['z'])/ucvA*2179874\n",
    "        allKs.append(Kyz)\n",
    "\n",
    "K1_in_JPerCubibm = max(allKs) * 1e6            # anisotropy J/m³; MagnetocrystallineAnisotropyConstantK1\n",
    "\n",
    "print(f'Anisotropy constant (max of all): {K1_in_JPerCubibm} J/m\\N{SUPERSCRIPT THREE}')"
   ]
  },
  {
   "cell_type": "markdown",
   "metadata": {},
   "source": [
    "# Exchange"
   ]
  },
  {
   "cell_type": "code",
   "execution_count": 238,
   "metadata": {},
   "outputs": [
    {
     "name": "stdout",
     "output_type": "stream",
     "text": [
      "[ 20.  40.  60.  80. 100. 120. 140. 160. 180. 200. 220. 240. 260. 280.\n",
      " 300. 320. 340. 360. 380. 400. 420. 440. 460. 480. 500. 520. 540. 560.\n",
      " 580. 600. 620. 640. 660. 680. 700. 720. 740. 760. 780. 800.]\n",
      "There seem to be NO momfile and no posfile :( Getting n_atoms from GS/out_last\n",
      "Number of atoms: 36\n",
      "Tc = 600.0 K\n",
      "0.8587751855002854 2.01527513384216\n",
      "Spin wave stiffness constant  1.4718616945171957e-40\n",
      "Exchange constant A at T=0 (J/m) :  2.7114966402794072e-12\n",
      "Js_300 (T) : 0.6662578893273478\n",
      "A_300 (J/m) : 1.6320551346184219e-12\n",
      "K_300 (MJ/m^3) : 0.206249556484887\n",
      "Lex  2.149463033657797\n"
     ]
    },
    {
     "data": {
      "image/png": "[encoded data removed]",
      "text/plain": [
       "<Figure size 640x480 with 1 Axes>"
      ]
     },
     "metadata": {},
     "output_type": "display_data"
    }
   ],
   "source": [
    "# Define the form of the function you want to fit\n",
    "fn = data_dir_MC + '/M(T)'  # magnetic polarization\n",
    "TK, Js = dtf.read_2_col_data(fn)\n",
    "print(TK)\n",
    "\n",
    "mc_dirs = [dirdir for dirdir in os.listdir(data_dir_MC) if dirdir in ['momfile', 'posfile']]\n",
    "\n",
    "if len(mc_dirs) > 0:\n",
    "    with open(data_dir_MC + '/' + mc_dirs[0], 'rt') as f:\n",
    "        n_atoms = len(f.read().splitlines())\n",
    "    print(f'Number of atoms: {n_atoms}')\n",
    "else:\n",
    "    print('There seem to be NO momfile and no posfile :( Getting n_atoms from GS/out_last')\n",
    "    atoms_Ns = set([int(key[key.find(':')+1:key.find(':') + 3]) for key in tot_moments_D.keys()])\n",
    "    n_atoms = len(atoms_Ns)\n",
    "print(f'Number of atoms: {n_atoms}')\n",
    "    \n",
    "Js = [item*n_atoms/ucvA*11.654 for item in Js]\n",
    "\n",
    "poscut = np.argmin(np.diff(Js)/np.diff(TK))+2\n",
    "Tc = TK[poscut]\n",
    "print(f'Tc = {Tc} K')\n",
    "TKc = TK[:poscut].copy()\n",
    "Jsc = Js[:poscut].copy()\n",
    "\n",
    "xfine = np.linspace(0, Tc, 500)\n",
    "p    = 5.0 / 2\n",
    "beta = 1. / 3\n",
    "m_s = partial(dtf.spontaneous_magnetization, p=p, beta=beta, T_C=Tc)\n",
    "\n",
    "popt, pcov = curve_fit(m_s, TKc, Jsc)\n",
    "Js_0, s = popt\n",
    "print(Js_0, s)\n",
    "T_fit = np.linspace(min(TKc), max(TKc), 500)\n",
    "Js_fit = m_s(T_fit, Js_0, s)\n",
    "\n",
    "g = 2\n",
    "k_b = physical_constants[\"Boltzmann constant\"][0]\n",
    "mu_b = physical_constants[\"Bohr magneton\"][0]\n",
    "\n",
    "M_0 = Js_0/mu_0\n",
    "D = (0.1509\n",
    "     * ((g * mu_b) / (s * beta * M_0)) ** (2. / 3)\n",
    "     * k_b\n",
    "     * Tc\n",
    "     )\n",
    "print(\"Spin wave stiffness constant \", D)\n",
    "A_0 = M_0 * D / (2 * g * mu_b)\n",
    "print(\"Exchange constant A at T=0 (J/m) : \", A_0)\n",
    "\n",
    "# Magnetic polarization at 300 K\n",
    "Js_300 = m_s(300., Js_0, s)\n",
    "print(\"Js_300 (T) :\", Js_300)\n",
    "\n",
    "A_300 = A_0*(Js_300/Js_0)**2\n",
    "print(\"A_300 (J/m) :\", A_300)\n",
    "\n",
    "K_300 = K1_in_JPerCubibm*(Js_300/Js_0)**3\n",
    "print(\"K_300 (MJ/m^3) :\", K_300/1e6)\n",
    "\n",
    "# A = A_0*(Js/Js0)^2\n",
    "\n",
    "# exchange length in nm; see eq. 96 in book chapter of Exl2016 etal. where for Ms = spontaneous magnetization since there is only one phase/material\n",
    "print('Lex ', np.sqrt(mu_0*A_300/(Js_300*Js_300))/1e-9)\n",
    "\n",
    "fig, ax = plt.subplots()\n",
    "ax.scatter(TK, Js, marker=\"o\", label=\"data points\", facecolors='none', edgecolors='#4575b4')\n",
    "label = \"Kuz'min's fit\"\n",
    "ax.plot(xfine, m_s(xfine, Js_0, s), label=label, color='#f46d43')\n",
    "ax.legend()\n",
    "ax.set_xlabel(\"Temperature (K)\")\n",
    "ax.set_ylabel(\"Magnetic polarization J (T)\")\n",
    "ax.grid()"
   ]
  },
  {
   "cell_type": "markdown",
   "metadata": {},
   "source": [
    "### Data from README file for doublechecking"
   ]
  },
  {
   "cell_type": "code",
   "execution_count": 239,
   "metadata": {},
   "outputs": [
    {
     "name": "stdout",
     "output_type": "stream",
     "text": [
      "### README:\n",
      "Ms = 0.639 T\n",
      "MAE= 0.441 MJ/m³\n",
      "\n",
      "### End of README\n",
      "\n",
      "Extracted Ms value from README: 0.639 T\n",
      "Extracted MAE value from README: 0.441 MJ/m³\n"
     ]
    }
   ],
   "source": [
    "import re\n",
    "\n",
    "# Ms - Ontology entry: SpontaneousMagneticPolarisation when given in T\n",
    "# MAE - Ontology entry: MagnetocrystallineAnisotropyEnergy\n",
    "with open(data_dir + '/README', 'rt') as f:\n",
    "    print(\"### README:\")\n",
    "    print(f.read())\n",
    "    print(\"### End of README\\n\")\n",
    "    # Extract the value for Ms from README\n",
    "    with open(data_dir + '/README', 'rt') as f:\n",
    "        readme_content = f.read()\n",
    "\n",
    "    ms_match = re.search(r'Ms\\s*=\\s*([\\d.]+)\\s*T', readme_content)\n",
    "    if ms_match:\n",
    "        Ms_README_in_T = float(ms_match.group(1))\n",
    "        print(f\"Extracted Ms value from README: {Ms_README_in_T} T\")\n",
    "    else:\n",
    "        print(\"Ms value not found in README\")\n",
    "\n",
    "    mae_matches = re.findall(r'([xyz])\\s*-\\s*([xyz])\\s*=\\s*([-+]?\\d*\\.\\d+|\\d+)\\s*MJ/m³', readme_content)\n",
    "    if mae_matches:\n",
    "        mae_values_in_MJPerCubicm = [float(match[2]) for match in mae_matches]\n",
    "        max_MAE_README_in_MJPerCubicm = max(mae_values_in_MJPerCubicm)\n",
    "        print(f\"Extracted maximum MAE value from README: {max_MAE_README_in_MJPerCubicm} MJ/m³\")\n",
    "    else:\n",
    "        mae_match = re.search(r'MAE\\s*=\\s*([\\d.]+)\\s*MJ/m³', readme_content)\n",
    "        if mae_match:\n",
    "            max_MAE_README_in_MJPerCubicm = float(mae_match.group(1))\n",
    "            print(f\"Extracted MAE value from README: {max_MAE_README_in_MJPerCubicm} MJ/m³\")\n",
    "        else:\n",
    "            print(\"MAE values not found in README\")"
   ]
  },
  {
   "cell_type": "markdown",
   "metadata": {},
   "source": [
    "### Summary of values computed from the dataset"
   ]
  },
  {
   "cell_type": "markdown",
   "metadata": {},
   "source": [
    "#### Computation of anisotropy energy from the MagnetocrystallineAnisotropyConstantK1 \n",
    "From Koys book, chapter 5.5.2, page171 anisotropy energy Ea = K1 sin2 θ + K2 sin4 θ where K2 is negelcted and θ≈0"
   ]
  },
  {
   "cell_type": "code",
   "execution_count": 240,
   "metadata": {},
   "outputs": [],
   "source": [
    "MAE_in_MJPerCubicm = K1_in_JPerCubibm /1e6"
   ]
  },
  {
   "cell_type": "code",
   "execution_count": 241,
   "metadata": {},
   "outputs": [],
   "source": [
    "Ms_in_T = magnetization_in_T    \n",
    "# TODO: magnetization_in_T should be renamed polarisation_in_T or Js_in_T (SpontaneousMagneticPolarisation)"
   ]
  },
  {
   "cell_type": "code",
   "execution_count": 242,
   "metadata": {},
   "outputs": [
    {
     "name": "stdout",
     "output_type": "stream",
     "text": [
      " Ms_in_T = 0.6386 T\n",
      " MAE_in_MJPerCubicm = 0.4417 MJ/m^3\n"
     ]
    }
   ],
   "source": [
    "print(\" Ms_in_T = \"+str(round_to_significant_digits(Ms_in_T, 4)) + \" T\")\n",
    "print(\" MAE_in_MJPerCubicm = \" + str(round_to_significant_digits(MAE_in_MJPerCubicm, 4)) + \" MJ/m^3\")"
   ]
  },
  {
   "cell_type": "markdown",
   "metadata": {},
   "source": [
    "### Computing deviations between computed values and given values from the README"
   ]
  },
  {
   "cell_type": "code",
   "execution_count": 243,
   "metadata": {},
   "outputs": [
    {
     "name": "stdout",
     "output_type": "stream",
     "text": [
      " Deviation for magnetization in percent = 0.05721 %\n"
     ]
    }
   ],
   "source": [
    "deviation_Ms_in_percent = 100 - (Ms_in_T/ Ms_README_in_T) * 100\n",
    "print(\" Deviation for magnetization in percent = \"+str(round_to_significant_digits(deviation_Ms_in_percent, 4)) + \" %\")"
   ]
  },
  {
   "cell_type": "code",
   "execution_count": 244,
   "metadata": {},
   "outputs": [
    {
     "name": "stdout",
     "output_type": "stream",
     "text": [
      " Deviation for anisotropy energy/constant in percent = -0.1534 %\n"
     ]
    }
   ],
   "source": [
    "try:\n",
    "    deviation_mae_percent = 100 - ((MAE_in_MJPerCubicm) / max_MAE_README_in_MJPerCubicm) * 100\n",
    "    print(\" Deviation for anisotropy energy/constant in percent = \" + str(round_to_significant_digits(deviation_mae_percent, 4)) + \" %\")\n",
    "except NameError:\n",
    "    print(\"MAE values not found in README\")"
   ]
  },
  {
   "cell_type": "code",
   "execution_count": 245,
   "metadata": {},
   "outputs": [
    {
     "name": "stdout",
     "output_type": "stream",
     "text": [
      "The deviation for magnetization and anisotropy in dataset Fe3-xVxY(x=0.22) is\n",
      " **less** than 2% compared to the provided values.\n"
     ]
    }
   ],
   "source": [
    "if deviation_Ms_in_percent<2 and deviation_mae_percent<2:\n",
    "    print('The deviation for magnetization and anisotropy in dataset '+data_dir+' is\\n **less** than 2% compared to the provided values.')\n",
    "else:\n",
    "    print('The deviation for magnetization and anisotropy in dataset '+data_dir+' is\\n **more** than 2% compared to the provided values.')"
   ]
  },
  {
   "cell_type": "code",
   "execution_count": null,
   "metadata": {},
   "outputs": [],
   "source": []
  }
 ],
 "metadata": {
  "kernelspec": {
   "display_name": "Python 3",
   "language": "python",
   "name": "python3"
  },
  "language_info": {
   "codemirror_mode": {
    "name": "ipython",
    "version": 3
   },
   "file_extension": ".py",
   "mimetype": "text/x-python",
   "name": "python",
   "nbconvert_exporter": "python",
   "pygments_lexer": "ipython3",
   "version": "3.10.12"
  }
 },
 "nbformat": 4,
 "nbformat_minor": 4
}
