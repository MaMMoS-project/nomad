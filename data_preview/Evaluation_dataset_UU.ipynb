{
 "cells": [
  {
   "cell_type": "markdown",
   "metadata": {},
   "source": [
    "# Importing Modules"
   ]
  },
  {
   "cell_type": "code",
   "execution_count": 1,
   "metadata": {},
   "outputs": [
    {
     "name": "stdout",
     "output_type": "stream",
     "text": [
      "Importing done.\n"
     ]
    }
   ],
   "source": [
    "import os\n",
    "from functools import partial\n",
    "import numpy as np\n",
    "import pandas as pd\n",
    "from scipy.optimize import curve_fit\n",
    "from scipy.constants import mu_0\n",
    "from scipy.constants import physical_constants\n",
    "import matplotlib\n",
    "import matplotlib.pyplot as plt\n",
    "\n",
    "import data_tests_functions as dtf\n",
    "\n",
    "matplotlib.rcParams.update({'font.size': 14})\n",
    "\n",
    "print('Importing done.')"
   ]
  },
  {
   "cell_type": "code",
   "execution_count": 2,
   "metadata": {},
   "outputs": [],
   "source": [
    "def round_to_significant_digits(value, sig_digits):\n",
    "    \"\"\"\n",
    "    Rounds a value to a specified number of significant digits.\n",
    "    :param value: The value to round.\n",
    "    :param sig_digits: The number of significant digits to round to.\n",
    "    :return: The rounded value.\n",
    "    \"\"\"\n",
    "    if value == 0:\n",
    "        raise ValueError(\"Cannot round a value of 0 to significant digits.\")\n",
    "    digits = -int(np.floor(np.log10(abs(value))) - (sig_digits - 1))\n",
    "    value_rounded = round(value, digits)\n",
    "    return value_rounded"
   ]
  },
  {
   "cell_type": "markdown",
   "metadata": {},
   "source": [
    "# Data directory input"
   ]
  },
  {
   "cell_type": "code",
   "execution_count": 3,
   "metadata": {},
   "outputs": [],
   "source": [
    "data_dir = '/Users/santapile/Santas/Projects/MaMMoS/NOMAD/dataExamples/UU/UU-sets/Co2Fe16Y6'"
   ]
  },
  {
   "cell_type": "code",
   "execution_count": 4,
   "metadata": {},
   "outputs": [
    {
     "data": {
      "text/plain": [
       "True"
      ]
     },
     "execution_count": 4,
     "metadata": {},
     "output_type": "execute_result"
    }
   ],
   "source": [
    "import check_file_and_folder_structure as cffs\n",
    "cffs.check_structure(data_dir, check_README=True, verbose=True)"
   ]
  },
  {
   "cell_type": "code",
   "execution_count": 5,
   "metadata": {},
   "outputs": [
    {
     "name": "stdout",
     "output_type": "stream",
     "text": [
      "/Users/santapile/Santas/Projects/MaMMoS/NOMAD/dataExamples/UU/UU-sets/Co2Fe16Y6/GS\n",
      "/Users/santapile/Santas/Projects/MaMMoS/NOMAD/dataExamples/UU/UU-sets/Co2Fe16Y6/MC\n",
      "['z', 'x', 'y']\n"
     ]
    }
   ],
   "source": [
    "data_dir_GS = data_dir + \"/GS\"\n",
    "data_dir_MC = data_dir + \"/MC\"\n",
    "\n",
    "xyz_dirs = [dirdir for dirdir in os.listdir(data_dir_GS) if len(dirdir) == 1]\n",
    "\n",
    "print(data_dir_GS)\n",
    "print(data_dir_MC)\n",
    "print(xyz_dirs)"
   ]
  },
  {
   "cell_type": "markdown",
   "metadata": {},
   "source": [
    "# Magnetization"
   ]
  },
  {
   "cell_type": "code",
   "execution_count": 6,
   "metadata": {},
   "outputs": [
    {
     "name": "stdout",
     "output_type": "stream",
     "text": [
      "/Users/santapile/Santas/Projects/MaMMoS/NOMAD/dataExamples/UU/UU-sets/Co2Fe16Y6/GS/z/out_last\n"
     ]
    },
    {
     "data": {
      "text/html": [
       "<div>\n",
       "<style scoped>\n",
       "    .dataframe tbody tr th:only-of-type {\n",
       "        vertical-align: middle;\n",
       "    }\n",
       "\n",
       "    .dataframe tbody tr th {\n",
       "        vertical-align: top;\n",
       "    }\n",
       "\n",
       "    .dataframe thead th {\n",
       "        text-align: right;\n",
       "    }\n",
       "</style>\n",
       "<table border=\"1\" class=\"dataframe\">\n",
       "  <thead>\n",
       "    <tr style=\"text-align: right;\">\n",
       "      <th></th>\n",
       "      <th>J=L+S (Cartesian)</th>\n",
       "      <th>J=L+S (Spin axis)</th>\n",
       "      <th>Direction of J (x)</th>\n",
       "      <th>Direction of J (y)</th>\n",
       "      <th>Direction of J (z)</th>\n",
       "    </tr>\n",
       "  </thead>\n",
       "  <tbody>\n",
       "    <tr>\n",
       "      <th>ID:0102010100-o</th>\n",
       "      <td>0.176207</td>\n",
       "      <td>0.176207</td>\n",
       "      <td>-2.000000e-08</td>\n",
       "      <td>-1.030000e-05</td>\n",
       "      <td>-1.0</td>\n",
       "    </tr>\n",
       "    <tr>\n",
       "      <th>ID:0101010100-o</th>\n",
       "      <td>0.011069</td>\n",
       "      <td>0.011069</td>\n",
       "      <td>-1.000000e-08</td>\n",
       "      <td>-8.000000e-07</td>\n",
       "      <td>-1.0</td>\n",
       "    </tr>\n",
       "    <tr>\n",
       "      <th>ID:0100010100-o</th>\n",
       "      <td>0.009857</td>\n",
       "      <td>0.009857</td>\n",
       "      <td>-3.000000e-08</td>\n",
       "      <td>5.640000e-05</td>\n",
       "      <td>-1.0</td>\n",
       "    </tr>\n",
       "    <tr>\n",
       "      <th>ID:0202010100-o</th>\n",
       "      <td>0.176207</td>\n",
       "      <td>0.176207</td>\n",
       "      <td>2.000000e-08</td>\n",
       "      <td>-1.027000e-05</td>\n",
       "      <td>-1.0</td>\n",
       "    </tr>\n",
       "    <tr>\n",
       "      <th>ID:0201010100-o</th>\n",
       "      <td>0.011069</td>\n",
       "      <td>0.011069</td>\n",
       "      <td>1.000000e-08</td>\n",
       "      <td>-8.000000e-07</td>\n",
       "      <td>-1.0</td>\n",
       "    </tr>\n",
       "    <tr>\n",
       "      <th>...</th>\n",
       "      <td>...</td>\n",
       "      <td>...</td>\n",
       "      <td>...</td>\n",
       "      <td>...</td>\n",
       "      <td>...</td>\n",
       "    </tr>\n",
       "    <tr>\n",
       "      <th>ID:2301010100-o</th>\n",
       "      <td>0.033316</td>\n",
       "      <td>0.033316</td>\n",
       "      <td>0.000000e+00</td>\n",
       "      <td>0.000000e+00</td>\n",
       "      <td>-1.0</td>\n",
       "    </tr>\n",
       "    <tr>\n",
       "      <th>ID:2300010100-o</th>\n",
       "      <td>0.000523</td>\n",
       "      <td>0.000523</td>\n",
       "      <td>-2.000000e-08</td>\n",
       "      <td>1.000000e-08</td>\n",
       "      <td>1.0</td>\n",
       "    </tr>\n",
       "    <tr>\n",
       "      <th>ID:2402010100-o</th>\n",
       "      <td>2.421601</td>\n",
       "      <td>2.421601</td>\n",
       "      <td>0.000000e+00</td>\n",
       "      <td>-0.000000e+00</td>\n",
       "      <td>1.0</td>\n",
       "    </tr>\n",
       "    <tr>\n",
       "      <th>ID:2401010100-o</th>\n",
       "      <td>0.033316</td>\n",
       "      <td>0.033316</td>\n",
       "      <td>-0.000000e+00</td>\n",
       "      <td>-1.000000e-08</td>\n",
       "      <td>-1.0</td>\n",
       "    </tr>\n",
       "    <tr>\n",
       "      <th>ID:2400010100-o</th>\n",
       "      <td>0.000523</td>\n",
       "      <td>0.000523</td>\n",
       "      <td>-1.000000e-08</td>\n",
       "      <td>-3.000000e-08</td>\n",
       "      <td>1.0</td>\n",
       "    </tr>\n",
       "  </tbody>\n",
       "</table>\n",
       "<p>72 rows × 5 columns</p>\n",
       "</div>"
      ],
      "text/plain": [
       "                 J=L+S (Cartesian)  J=L+S (Spin axis)  Direction of J (x)  \\\n",
       "ID:0102010100-o           0.176207           0.176207       -2.000000e-08   \n",
       "ID:0101010100-o           0.011069           0.011069       -1.000000e-08   \n",
       "ID:0100010100-o           0.009857           0.009857       -3.000000e-08   \n",
       "ID:0202010100-o           0.176207           0.176207        2.000000e-08   \n",
       "ID:0201010100-o           0.011069           0.011069        1.000000e-08   \n",
       "...                            ...                ...                 ...   \n",
       "ID:2301010100-o           0.033316           0.033316        0.000000e+00   \n",
       "ID:2300010100-o           0.000523           0.000523       -2.000000e-08   \n",
       "ID:2402010100-o           2.421601           2.421601        0.000000e+00   \n",
       "ID:2401010100-o           0.033316           0.033316       -0.000000e+00   \n",
       "ID:2400010100-o           0.000523           0.000523       -1.000000e-08   \n",
       "\n",
       "                 Direction of J (y)  Direction of J (z)  \n",
       "ID:0102010100-o       -1.030000e-05                -1.0  \n",
       "ID:0101010100-o       -8.000000e-07                -1.0  \n",
       "ID:0100010100-o        5.640000e-05                -1.0  \n",
       "ID:0202010100-o       -1.027000e-05                -1.0  \n",
       "ID:0201010100-o       -8.000000e-07                -1.0  \n",
       "...                             ...                 ...  \n",
       "ID:2301010100-o        0.000000e+00                -1.0  \n",
       "ID:2300010100-o        1.000000e-08                 1.0  \n",
       "ID:2402010100-o       -0.000000e+00                 1.0  \n",
       "ID:2401010100-o       -1.000000e-08                -1.0  \n",
       "ID:2400010100-o       -3.000000e-08                 1.0  \n",
       "\n",
       "[72 rows x 5 columns]"
      ]
     },
     "execution_count": 6,
     "metadata": {},
     "output_type": "execute_result"
    }
   ],
   "source": [
    "# Reading file into lines; all folders are equivalent according to UU-colleagues, so we can use the first one\n",
    "file_Name_Ms = data_dir_GS + f\"/{xyz_dirs[0]}/out_last\"\n",
    "print(file_Name_Ms)\n",
    "\n",
    "# Create dicts with orbital IDs and values of corresponding\n",
    "# Total moment and its direction (+/-1)\n",
    "tot_moments_D = dtf.find_line_val_dict(file_Name_Ms, 'Total moment [J=L+S] (mu_B):')\n",
    "dir_of_JD = dtf.find_line_val_dict(file_Name_Ms, 'Direction of J (Cartesian):')\n",
    "# print(\"tot_moments_D:\"+str(tot_moments_D))\n",
    "# print(\"dir_of_JD:\"+str(dir_of_JD))\n",
    "params_merged = {}\n",
    "for key in tot_moments_D.keys():\n",
    "    params_merged[key] = tot_moments_D[key] + dir_of_JD[key]\n",
    "\n",
    "# Pretty table for checking the entries for magnetic moments and directions\n",
    "df = pd.DataFrame.from_dict(params_merged, orient='index',\n",
    "                            columns = ['J=L+S (Cartesian)',\n",
    "                                       'J=L+S (Spin axis)',\n",
    "                                       'Direction of J (x)',\n",
    "                                       'Direction of J (y)',\n",
    "                                       'Direction of J (z)'])\n",
    "df"
   ]
  },
  {
   "cell_type": "markdown",
   "metadata": {},
   "source": [
    "## Calculating magnetization\n",
    "**Use:** Cartesian (with direction) - we should use that</br>\n",
    "Spin axis coordinates we ignore"
   ]
  },
  {
   "cell_type": "code",
   "execution_count": 7,
   "metadata": {},
   "outputs": [
    {
     "name": "stdout",
     "output_type": "stream",
     "text": [
      "ID:0102010100-o :  0.1762074 * -1.0 = -0.1762074\n",
      "ID:0101010100-o :  0.01106937 * -1.0 = -0.01106937\n",
      "ID:0100010100-o :  0.009857111 * -1.0 = -0.009857111\n",
      "ID:0202010100-o :  0.1762074 * -1.0 = -0.1762074\n",
      "ID:0201010100-o :  0.01106937 * -1.0 = -0.01106937\n",
      "ID:0200010100-o :  0.00985711 * -1.0 = -0.00985711\n",
      "ID:0302010100-o :  0.1762074 * -1.0 = -0.1762074\n",
      "ID:0301010100-o :  0.01106937 * -1.0 = -0.01106937\n",
      "ID:0300010100-o :  0.00985711 * -1.0 = -0.00985711\n",
      "ID:0402010100-o :  0.1762074 * -1.0 = -0.1762074\n",
      "ID:0401010100-o :  0.01106937 * -1.0 = -0.01106937\n",
      "ID:0400010100-o :  0.00985711 * -1.0 = -0.00985711\n",
      "ID:0502010100-o :  0.1384858 * -1.0 = -0.1384858\n",
      "ID:0501010100-o :  0.01097402 * -1.0 = -0.01097402\n",
      "ID:0500010100-o :  0.008099746 * -1.0 = -0.008099746\n",
      "ID:0602010100-o :  0.1384858 * -1.0 = -0.1384858\n",
      "ID:0601010100-o :  0.01097402 * -1.0 = -0.01097402\n",
      "ID:0600010100-o :  0.008099746 * -1.0 = -0.008099746\n",
      "ID:0702010100-o :  1.338306 * 1.0 = 1.338306\n",
      "ID:0701010100-o :  0.04244363 * -1.0 = -0.04244363\n",
      "ID:0700010100-o :  0.007067561 * -1.0 = -0.007067561\n",
      "ID:0802010100-o :  1.338306 * 1.0 = 1.338306\n",
      "ID:0801010100-o :  0.04244363 * -1.0 = -0.04244363\n",
      "ID:0800010100-o :  0.007067561 * -1.0 = -0.007067561\n",
      "ID:0902010100-o :  2.155205 * 1.0 = 2.155205\n",
      "ID:0901010100-o :  0.02705735 * -0.99998924 = -0.027057058862914003\n",
      "ID:0900010100-o :  0.0004784905 * -0.99983284 = -0.00047841051552802\n",
      "ID:1002010100-o :  2.154764 * 1.0 = 2.154764\n",
      "ID:1001010100-o :  0.02704675 * -0.99998885 = -0.0270464484287375\n",
      "ID:1000010100-o :  0.0004839345 * -0.99983333 = -0.000483853842636885\n",
      "ID:1102010100-o :  2.155214 * 1.0 = 2.155214\n",
      "ID:1101010100-o :  0.02705688 * -0.99998924 = -0.027056588867971198\n",
      "ID:1100010100-o :  0.0004785378 * -0.99983283 = -0.00047845780283597403\n",
      "ID:1202010100-o :  2.155205 * 1.0 = 2.155205\n",
      "ID:1201010100-o :  0.02705736 * -0.99998924 = -0.0270570688628064\n",
      "ID:1200010100-o :  0.0004784905 * -0.99983284 = -0.00047841051552802\n",
      "ID:1302010100-o :  2.154764 * 1.0 = 2.154764\n",
      "ID:1301010100-o :  0.02704675 * -0.99998885 = -0.0270464484287375\n",
      "ID:1300010100-o :  0.0004839346 * -0.99983333 = -0.00048385394262021796\n",
      "ID:1402010100-o :  2.155214 * 1.0 = 2.155214\n",
      "ID:1401010100-o :  0.02705688 * -0.99998924 = -0.027056588867971198\n",
      "ID:1400010100-o :  0.0004785377 * -0.99983284 = -0.00047845770763806794\n",
      "ID:1502010100-o :  2.155205 * 1.0 = 2.155205\n",
      "ID:1501010100-o :  0.02705736 * -0.99998924 = -0.0270570688628064\n",
      "ID:1500010100-o :  0.0004784907 * -0.99983284 = -0.00047841071549458797\n",
      "ID:1602010100-o :  2.154764 * 1.0 = 2.154764\n",
      "ID:1601010100-o :  0.02704675 * -0.99998885 = -0.0270464484287375\n",
      "ID:1600010100-o :  0.0004839348 * -0.99983333 = -0.00048385414258688396\n",
      "ID:1702010100-o :  2.155214 * 1.0 = 2.155214\n",
      "ID:1701010100-o :  0.02705688 * -0.99998924 = -0.027056588867971198\n",
      "ID:1700010100-o :  0.0004785379 * -0.99983284 = -0.000478457907604636\n",
      "ID:1802010100-o :  2.155205 * 1.0 = 2.155205\n",
      "ID:1801010100-o :  0.02705736 * -0.99998924 = -0.0270570688628064\n",
      "ID:1800010100-o :  0.0004784905 * -0.99983284 = -0.00047841051552802\n",
      "ID:1902010100-o :  2.154764 * 1.0 = 2.154764\n",
      "ID:1901010100-o :  0.02704675 * -0.99998885 = -0.0270464484287375\n",
      "ID:1900010100-o :  0.0004839346 * -0.99983333 = -0.00048385394262021796\n",
      "ID:2002010100-o :  2.155214 * 1.0 = 2.155214\n",
      "ID:2001010100-o :  0.02705688 * -0.99998924 = -0.027056588867971198\n",
      "ID:2000010100-o :  0.0004785378 * -0.99983284 = -0.000478457807621352\n",
      "ID:2102010100-o :  2.289202 * 1.0 = 2.289202\n",
      "ID:2101010100-o :  0.02914195 * -1.0 = -0.02914195\n",
      "ID:2100010100-o :  0.00134975 * 1.0 = 0.00134975\n",
      "ID:2202010100-o :  2.289202 * 1.0 = 2.289202\n",
      "ID:2201010100-o :  0.02914195 * -1.0 = -0.02914195\n",
      "ID:2200010100-o :  0.00134975 * 1.0 = 0.00134975\n",
      "ID:2302010100-o :  2.421601 * 1.0 = 2.421601\n",
      "ID:2301010100-o :  0.03331567 * -1.0 = -0.03331567\n",
      "ID:2300010100-o :  0.0005229296 * 1.0 = 0.0005229296\n",
      "ID:2402010100-o :  2.421601 * 1.0 = 2.421601\n",
      "ID:2401010100-o :  0.03331567 * -1.0 = -0.03331567\n",
      "ID:2400010100-o :  0.0005229295 * 1.0 = 0.0005229295\n",
      "\n",
      "Total magnetic moment = 36.3046997801036\n",
      "{'unit': [2489.0553434691]}\n",
      "Unit cell volume: 368.8400794387606 A³\n",
      "Magnetization Ms: 1.1470959768827802 T\n"
     ]
    }
   ],
   "source": [
    "# Calculating total magnetic moment by summing all\n",
    "# (Total moment (of an orbital) * Direction of J (takes the one with abs value > 0.9, should be +/-1))\n",
    "tot_magn_mom_C = 0\n",
    "for key in tot_moments_D.keys():\n",
    "    tot_magn_mom_C += tot_moments_D[key][0]*[x for x in dir_of_JD[key] if abs(x) > 0.9][0]\n",
    "    print(key, ': ', tot_moments_D[key][0], '*', \n",
    "          [x for x in dir_of_JD[key] if abs(x) > 0.9][0], '=', \n",
    "          tot_moments_D[key][0]*[x for x in dir_of_JD[key] if abs(x) > 0.9][0])\n",
    "    #    total magnetic moment J=L+S * orientation, wherever +/-1 is\n",
    "\n",
    "print(f'\\nTotal magnetic moment = {tot_magn_mom_C}')\n",
    "\n",
    "# Getting unit cell volume in A^3 from the file\n",
    "ucv = dtf.find_line_val_dict(file_Name_Ms, 'unit cell volume:')\n",
    "print(ucv)\n",
    "# Recalculating in=t in angstroms (should be transferred to m afterwards)\n",
    "ucvA = ucv[list(ucv.keys())[0]][0] / 1.8897259**3 # unit cell volume in A\n",
    "print(f'Unit cell volume: {ucvA} A\\N{SUPERSCRIPT THREE}')\n",
    "\n",
    "# Calculating magnetization in Tesla\n",
    "magnetization_in_T = tot_magn_mom_C/ucvA*11.654\n",
    "print(f'Magnetization Ms: {magnetization_in_T} T')"
   ]
  },
  {
   "cell_type": "markdown",
   "metadata": {},
   "source": [
    "### Q&A\n",
    "**Question #1:** Why doubled data for each orbital? </br>\n",
    "<b>Answer #1:</b> because calculations may run several times, that's why we need to take the last one\n",
    "\n",
    "**Question #2:** How do we calculate total magnetic moment? (Does direction matter?) </br>\n",
    "<b>Answer #2:</b> the direction does matter. For testing approximate resulting value of Ms should be in the README file, our result should be in 2% range of it"
   ]
  },
  {
   "cell_type": "markdown",
   "metadata": {},
   "source": [
    "# Anisotropy"
   ]
  },
  {
   "cell_type": "code",
   "execution_count": 8,
   "metadata": {},
   "outputs": [
    {
     "name": "stdout",
     "output_type": "stream",
     "text": [
      "Anisotropy constant (max of all): -876540.7518040603 J/m³\n"
     ]
    }
   ],
   "source": [
    "energies = {}\n",
    "\n",
    "if f'out_MF_{xyz_dirs[0]}' in os.listdir(data_dir_GS+f'/{xyz_dirs[0]}'):\n",
    "    for dirdir in xyz_dirs:\n",
    "        fileName = data_dir_GS+f\"/{dirdir}/out_MF_{dirdir}\"\n",
    "        eigenvalue_sum = dtf.find_line_val_dict(fileName, 'Eigenvalue sum:')\n",
    "        energies[dirdir] = eigenvalue_sum[list(eigenvalue_sum.keys())[0]][0]\n",
    "elif f'out_Etot_{xyz_dirs[0]}' in os.listdir(data_dir_GS+f'/{xyz_dirs[0]}'):\n",
    "    for dirdir in xyz_dirs:\n",
    "        fileName = data_dir_GS+f\"/{dirdir}/out_Etot_{dirdir}\"\n",
    "        energies[dirdir] = dtf.get_energy_from_file(fileName)\n",
    "else:\n",
    "    print('no files for anisotropy')\n",
    "\n",
    "allKs = list()\n",
    "if 'z' in energies.keys():\n",
    "    if 'x' in energies.keys():\n",
    "        Kxz = (energies['x'] - energies['z'])/ucvA*2179874\n",
    "        allKs.append(Kxz)\n",
    "    if 'y' in energies.keys():    \n",
    "        Kyz = (energies['y'] - energies['z'])/ucvA*2179874\n",
    "        allKs.append(Kyz)\n",
    "\n",
    "K = max(allKs) * 1e6            # anisotropy J/m³\n",
    "\n",
    "print(f'Anisotropy constant (max of all): {K} J/m\\N{SUPERSCRIPT THREE}')"
   ]
  },
  {
   "cell_type": "markdown",
   "metadata": {},
   "source": [
    "# Exchange"
   ]
  },
  {
   "cell_type": "code",
   "execution_count": 9,
   "metadata": {},
   "outputs": [
    {
     "name": "stdout",
     "output_type": "stream",
     "text": [
      "[  50.   70.   90.  110.  130.  150.  170.  190.  210.  230.  250.  270.\n",
      "  290.  310.  330.  350.  370.  390.  410.  430.  450.  470.  490.  510.\n",
      "  530.  550.  570.  590.  610.  630.  650.  670.  690.  710.  730.  750.\n",
      "  770.  790.  810.  830.  850.  870.  890.  910.  930.  950.  970. 1000.]\n",
      "There seem to be NO momfile and no posfile :( Getting n_atoms from GS/out_last\n",
      "Number of atoms: 24\n",
      "Tc = 730.0 K\n",
      "1.452758244142536 1.9951236879186076\n",
      "spin wave stiffness constant  1.2698109027414316e-40\n",
      "exchange constant at T=0 3.9572636162085634e-12\n",
      "Js_300 (T) 1.213012540861688\n",
      "A_300 (J/m) 2.7589184694341146e-12\n",
      "K_300 (MJ/m) -0.5102557866857248\n",
      "2.7589184694341146e-12\n",
      "1.213012540861688\n",
      "Lex  1.5350024548882581\n"
     ]
    },
    {
     "name": "stderr",
     "output_type": "stream",
     "text": [
      "/Users/santapile/Santas/DataAnalysis/nomad/data_preview/data_tests_functions.py:30: RuntimeWarning: invalid value encountered in power\n",
      "  return M_0 * (1 - s * (T / T_C) ** (3 / 2) - (1 - s) * (T / T_C) ** p) ** beta\n"
     ]
    },
    {
     "data": {
      "image/png": "[encoded data removed]",
      "text/plain": [
       "<Figure size 640x480 with 1 Axes>"
      ]
     },
     "metadata": {},
     "output_type": "display_data"
    }
   ],
   "source": [
    "# Define the form of the function you want to fit\n",
    "fn = data_dir_MC + '/M(T)'  # magnetic polarization\n",
    "TK, Js = dtf.read_2_col_data(fn)\n",
    "print(TK)\n",
    "\n",
    "mc_dirs = [dirdir for dirdir in os.listdir(data_dir_MC) if dirdir in ['momfile', 'posfile']]\n",
    "\n",
    "if len(mc_dirs) > 0:\n",
    "    with open(data_dir_MC + '/' + mc_dirs[0], 'rt') as f:\n",
    "        n_atoms = len(f.read().splitlines())\n",
    "    print(f'Number of atoms: {n_atoms}')\n",
    "else:\n",
    "    print('There seem to be NO momfile and no posfile :( Getting n_atoms from GS/out_last')\n",
    "    atoms_Ns = set([int(key[key.find(':')+1:key.find(':') + 3]) for key in tot_moments_D.keys()])\n",
    "    n_atoms = len(atoms_Ns)\n",
    "print(f'Number of atoms: {n_atoms}')\n",
    "    \n",
    "Js = [item*n_atoms/ucvA*11.654 for item in Js]\n",
    "\n",
    "poscut = np.argmin(np.diff(Js)/np.diff(TK))+2\n",
    "Tc = TK[poscut]\n",
    "print(f'Tc = {Tc} K')\n",
    "TKc = TK[:poscut].copy()\n",
    "Jsc = Js[:poscut].copy()\n",
    "\n",
    "xfine = np.linspace(0, Tc, 500)\n",
    "p    = 5.0 / 2\n",
    "beta = 1. / 3\n",
    "m_s = partial(dtf.spontaneous_magnetization, p=p, beta=beta, T_C=Tc)\n",
    "\n",
    "popt, pcov = curve_fit(m_s, TKc, Jsc)\n",
    "Js_0, s = popt\n",
    "print(Js_0, s)\n",
    "T_fit = np.linspace(min(TKc), max(TKc), 500)\n",
    "Js_fit = m_s(T_fit, Js_0, s)\n",
    "\n",
    "g = 2\n",
    "k_b = physical_constants[\"Boltzmann constant\"][0]\n",
    "mu_b = physical_constants[\"Bohr magneton\"][0]\n",
    "\n",
    "M_0 = Js_0/mu_0\n",
    "D = (0.1509\n",
    "     * ((g * mu_b) / (s * beta * M_0)) ** (2. / 3)\n",
    "     * k_b\n",
    "     * Tc\n",
    "     )\n",
    "print(\"spin wave stiffness constant \",D)\n",
    "A_0 = M_0 * D / (2 * g * mu_b)\n",
    "print(\"exchange constant at T=0\",A_0)\n",
    "\n",
    "Js_300 = m_s(300., Js_0, s)\n",
    "print(\"Js_300 (T)\",Js_300)\n",
    "\n",
    "A_300 = A_0*(Js_300/Js_0)**2\n",
    "print(\"A_300 (J/m)\",A_300)\n",
    "\n",
    "K_300 = K*(Js_300/Js_0)**3\n",
    "print(\"K_300 (MJ/m)\",K_300/1e6)\n",
    "\n",
    "# A = A_0*(Js/Js0)^2\n",
    "print(A_300)\n",
    "print(Js_300)\n",
    "print('Lex ',np.sqrt(mu_0*A_300/(Js_300*Js_300))/1e-9)\n",
    "\n",
    "fig, ax = plt.subplots()\n",
    "ax.scatter(TK, Js, marker=\"o\", label=\"data points\", facecolors='none', edgecolors='#4575b4')\n",
    "label = \"Kuz'min's fit\"\n",
    "ax.plot(xfine, m_s(xfine, Js_0, s), label=label, color='#f46d43')\n",
    "ax.legend()\n",
    "ax.set_xlabel(\"Temperature (K)\")\n",
    "ax.set_ylabel(\"J (T)\")\n",
    "ax.grid()"
   ]
  },
  {
   "cell_type": "markdown",
   "metadata": {},
   "source": [
    "### Data from README file for doublechecking"
   ]
  },
  {
   "cell_type": "code",
   "execution_count": 10,
   "metadata": {},
   "outputs": [
    {
     "name": "stdout",
     "output_type": "stream",
     "text": [
      "### README:\n",
      "Ms = 1.147096 Tesla\n",
      "\n",
      "MAE\n",
      "x - z = -0.8825 MJ/m³\n",
      "y - z = -0.8765 MJ/m³\n",
      "\n",
      "### End of README\n",
      "\n",
      "Extracted Ms value from README: 1.147096 T\n",
      "MAE values not found in README\n"
     ]
    }
   ],
   "source": [
    "import re\n",
    "\n",
    "# Ms - Saturation Magnetization\n",
    "# MAE - Magnetic Anisotropy Energy\n",
    "with open(data_dir + '/README', 'rt') as f:\n",
    "    print(\"### README:\")\n",
    "    print(f.read())\n",
    "    print(\"### End of README\\n\")\n",
    "    # Extract the value for Ms from README\n",
    "    with open(data_dir + '/README', 'rt') as f:\n",
    "        readme_content = f.read()\n",
    "\n",
    "    ms_match = re.search(r'Ms\\s*=\\s*([\\d.]+)\\s*T', readme_content)\n",
    "    if ms_match:\n",
    "        ms_value_in_T = float(ms_match.group(1))\n",
    "        print(f\"Extracted Ms value from README: {ms_value_in_T} T\")\n",
    "    else:\n",
    "        print(\"Ms value not found in README\")\n",
    "\n",
    "    mae_matches = re.findall(r'([xyz])\\s*-\\s*([xyz])\\s*=\\s*([\\d.]+)\\s*MJ/m³', readme_content)\n",
    "    if mae_matches:\n",
    "        mae_values_in_MJPerCubicm = [float(match[2]) for match in mae_matches]\n",
    "        max_mae_value_in_MJPerCubicm = max(mae_values_in_MJPerCubicm)\n",
    "        print(f\"Extracted maximum MAE value from README: {max_mae_value_in_MJPerCubicm} MJ/m³\")\n",
    "    else:\n",
    "        print(\"MAE values not found in README\")"
   ]
  },
  {
   "cell_type": "markdown",
   "metadata": {},
   "source": [
    "### Summary of values computed from the dataset"
   ]
  },
  {
   "cell_type": "code",
   "execution_count": 11,
   "metadata": {},
   "outputs": [
    {
     "name": "stdout",
     "output_type": "stream",
     "text": [
      " Ms = 1.147 T\n",
      " K = -0.8765 MJ/m^3\n"
     ]
    }
   ],
   "source": [
    "print(\" Ms = \"+str(round_to_significant_digits(magnetization_in_T, 4)) + \" T\")\n",
    "print(\" K = \" + str(round_to_significant_digits(K/1e6, 4)) + \" MJ/m^3\")"
   ]
  },
  {
   "cell_type": "markdown",
   "metadata": {},
   "source": [
    "### Computing deviations between computed values and given values from the README"
   ]
  },
  {
   "cell_type": "code",
   "execution_count": 12,
   "metadata": {},
   "outputs": [
    {
     "name": "stdout",
     "output_type": "stream",
     "text": [
      " Deviation for magnetization in percent = 2.015e-06 %\n"
     ]
    }
   ],
   "source": [
    "deviation_in_percent = 100 - (magnetization_in_T/ ms_value_in_T) * 100\n",
    "print(\" Deviation for magnetization in percent = \"+str(round_to_significant_digits(deviation_in_percent, 4)) + \" %\")"
   ]
  },
  {
   "cell_type": "code",
   "execution_count": 13,
   "metadata": {},
   "outputs": [
    {
     "ename": "NameError",
     "evalue": "name 'max_mae_value_in_MJPerCubicm' is not defined",
     "output_type": "error",
     "traceback": [
      "\u001b[0;31m---------------------------------------------------------------------------\u001b[0m",
      "\u001b[0;31mNameError\u001b[0m                                 Traceback (most recent call last)",
      "Cell \u001b[0;32mIn[13], line 1\u001b[0m\n\u001b[0;32m----> 1\u001b[0m deviation_mae_percent \u001b[38;5;241m=\u001b[39m \u001b[38;5;241m100\u001b[39m \u001b[38;5;241m-\u001b[39m ((K\u001b[38;5;241m/\u001b[39m\u001b[38;5;241m1e6\u001b[39m) \u001b[38;5;241m/\u001b[39m \u001b[43mmax_mae_value_in_MJPerCubicm\u001b[49m) \u001b[38;5;241m*\u001b[39m \u001b[38;5;241m100\u001b[39m\n\u001b[1;32m      2\u001b[0m \u001b[38;5;28mprint\u001b[39m(\u001b[38;5;124m\"\u001b[39m\u001b[38;5;124m Deviation for anisotropy energy/constant in percent = \u001b[39m\u001b[38;5;124m\"\u001b[39m \u001b[38;5;241m+\u001b[39m \u001b[38;5;28mstr\u001b[39m(round_to_significant_digits(deviation_mae_percent, \u001b[38;5;241m4\u001b[39m)) \u001b[38;5;241m+\u001b[39m \u001b[38;5;124m\"\u001b[39m\u001b[38;5;124m \u001b[39m\u001b[38;5;124m%\u001b[39m\u001b[38;5;124m\"\u001b[39m)\n",
      "\u001b[0;31mNameError\u001b[0m: name 'max_mae_value_in_MJPerCubicm' is not defined"
     ]
    }
   ],
   "source": [
    "deviation_mae_percent = 100 - ((K/1e6) / max_mae_value_in_MJPerCubicm) * 100\n",
    "print(\" Deviation for anisotropy energy/constant in percent = \" + str(round_to_significant_digits(deviation_mae_percent, 4)) + \" %\")"
   ]
  },
  {
   "cell_type": "code",
   "execution_count": null,
   "metadata": {},
   "outputs": [],
   "source": [
    "atoms_Ns = set([int(key[key.find(':')+1:key.find(':') + 3]) for key in tot_moments_D.keys()])\n",
    "len(atoms_Ns)"
   ]
  },
  {
   "cell_type": "code",
   "execution_count": null,
   "metadata": {},
   "outputs": [],
   "source": [
    "set([1,1,2,3])"
   ]
  },
  {
   "cell_type": "code",
   "execution_count": null,
   "metadata": {},
   "outputs": [],
   "source": []
  }
 ],
 "metadata": {
  "kernelspec": {
   "display_name": "Python 3 (ipykernel)",
   "language": "python",
   "name": "python3"
  },
  "language_info": {
   "codemirror_mode": {
    "name": "ipython",
    "version": 3
   },
   "file_extension": ".py",
   "mimetype": "text/x-python",
   "name": "python",
   "nbconvert_exporter": "python",
   "pygments_lexer": "ipython3",
   "version": "3.12.8"
  }
 },
 "nbformat": 4,
 "nbformat_minor": 4
}
