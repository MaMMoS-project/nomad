{
 "cells": [
  {
   "cell_type": "markdown",
   "metadata": {},
   "source": [
    "# Importing Modules"
   ]
  },
  {
   "cell_type": "code",
   "execution_count": 1,
   "metadata": {},
   "outputs": [
    {
     "name": "stderr",
     "output_type": "stream",
     "text": [
      "/usr/lib/python3/dist-packages/scipy/__init__.py:146: UserWarning: A NumPy version >=1.17.3 and <1.25.0 is required for this version of SciPy (detected version 1.26.4\n",
      "  warnings.warn(f\"A NumPy version >={np_minversion} and <{np_maxversion}\"\n"
     ]
    },
    {
     "name": "stdout",
     "output_type": "stream",
     "text": [
      "Importing done.\n"
     ]
    }
   ],
   "source": [
    "import os\n",
    "from functools import partial\n",
    "import numpy as np\n",
    "import pandas as pd\n",
    "from scipy.optimize import curve_fit\n",
    "from scipy.constants import mu_0\n",
    "from scipy.constants import physical_constants\n",
    "import matplotlib\n",
    "import matplotlib.pyplot as plt\n",
    "\n",
    "import data_tests_functions as dtf\n",
    "\n",
    "matplotlib.rcParams.update({'font.size': 14})\n",
    "\n",
    "print('Importing done.')"
   ]
  },
  {
   "cell_type": "markdown",
   "metadata": {},
   "source": [
    "# Data directory input"
   ]
  },
  {
   "cell_type": "code",
   "execution_count": 2,
   "metadata": {},
   "outputs": [],
   "source": [
    "data_dir = 'Co2Fe2H4'"
   ]
  },
  {
   "cell_type": "code",
   "execution_count": 3,
   "metadata": {},
   "outputs": [
    {
     "name": "stdout",
     "output_type": "stream",
     "text": [
      "The main folder 'Co2Fe2H4' for the dataset exists.\n",
      "File 'README' exists in the folder 'Co2Fe2H4'.\n",
      "Subfolder 'GS' exists in the folder 'Co2Fe2H4'.\n",
      "Subfolder 'Jij' exists in the folder 'Co2Fe2H4'.\n",
      "Subfolder 'MC' exists in the folder 'Co2Fe2H4'.\n",
      "File 'structure.cif' exists in the folder 'Co2Fe2H4'.\n",
      "# All checks passed.\n"
     ]
    },
    {
     "data": {
      "text/plain": [
       "True"
      ]
     },
     "execution_count": 3,
     "metadata": {},
     "output_type": "execute_result"
    }
   ],
   "source": [
    "import check_file_and_folder_structure as cffs\n",
    "cffs.check_structure(data_dir, check_README=True, check_subfolders=True, check_structure_cif=True, verbose=True)"
   ]
  },
  {
   "cell_type": "code",
   "execution_count": 4,
   "metadata": {},
   "outputs": [
    {
     "name": "stdout",
     "output_type": "stream",
     "text": [
      "Co2Fe2H4/GS\n",
      "Co2Fe2H4/MC\n",
      "['y', 'z', 'x']\n"
     ]
    }
   ],
   "source": [
    "data_dir_GS = data_dir + \"/GS\"\n",
    "data_dir_MC = data_dir + \"/MC\"\n",
    "\n",
    "xyz_dirs = [dirdir for dirdir in os.listdir(data_dir_GS) if len(dirdir) == 1]\n",
    "\n",
    "print(data_dir_GS)\n",
    "print(data_dir_MC)\n",
    "print(xyz_dirs)"
   ]
  },
  {
   "cell_type": "markdown",
   "metadata": {},
   "source": [
    "# Magnetization"
   ]
  },
  {
   "cell_type": "code",
   "execution_count": 5,
   "metadata": {},
   "outputs": [
    {
     "name": "stdout",
     "output_type": "stream",
     "text": [
      "Co2Fe2H4/GS/y/out_last\n"
     ]
    },
    {
     "data": {
      "text/html": [
       "<div>\n",
       "<style scoped>\n",
       "    .dataframe tbody tr th:only-of-type {\n",
       "        vertical-align: middle;\n",
       "    }\n",
       "\n",
       "    .dataframe tbody tr th {\n",
       "        vertical-align: top;\n",
       "    }\n",
       "\n",
       "    .dataframe thead th {\n",
       "        text-align: right;\n",
       "    }\n",
       "</style>\n",
       "<table border=\"1\" class=\"dataframe\">\n",
       "  <thead>\n",
       "    <tr style=\"text-align: right;\">\n",
       "      <th></th>\n",
       "      <th>J=L+S (Cartesian)</th>\n",
       "      <th>J=L+S (Spin axis)</th>\n",
       "      <th>Direction of J (x)</th>\n",
       "      <th>Direction of J (y)</th>\n",
       "      <th>Direction of J (z)</th>\n",
       "    </tr>\n",
       "  </thead>\n",
       "  <tbody>\n",
       "    <tr>\n",
       "      <th>ID:0102010100-o</th>\n",
       "      <td>1.107048</td>\n",
       "      <td>1.107048</td>\n",
       "      <td>-8.000000e-08</td>\n",
       "      <td>1.0</td>\n",
       "      <td>-1.374500e-04</td>\n",
       "    </tr>\n",
       "    <tr>\n",
       "      <th>ID:0101010100-o</th>\n",
       "      <td>0.005881</td>\n",
       "      <td>0.005881</td>\n",
       "      <td>1.000000e-07</td>\n",
       "      <td>-1.0</td>\n",
       "      <td>-3.429800e-04</td>\n",
       "    </tr>\n",
       "    <tr>\n",
       "      <th>ID:0100010100-o</th>\n",
       "      <td>0.002925</td>\n",
       "      <td>0.002925</td>\n",
       "      <td>2.000000e-08</td>\n",
       "      <td>-1.0</td>\n",
       "      <td>6.356000e-05</td>\n",
       "    </tr>\n",
       "    <tr>\n",
       "      <th>ID:0202010100-o</th>\n",
       "      <td>1.107048</td>\n",
       "      <td>1.107048</td>\n",
       "      <td>-8.000000e-08</td>\n",
       "      <td>1.0</td>\n",
       "      <td>1.374500e-04</td>\n",
       "    </tr>\n",
       "    <tr>\n",
       "      <th>ID:0201010100-o</th>\n",
       "      <td>0.005881</td>\n",
       "      <td>0.005881</td>\n",
       "      <td>1.000000e-07</td>\n",
       "      <td>-1.0</td>\n",
       "      <td>3.429800e-04</td>\n",
       "    </tr>\n",
       "    <tr>\n",
       "      <th>ID:0200010100-o</th>\n",
       "      <td>0.002925</td>\n",
       "      <td>0.002925</td>\n",
       "      <td>2.000000e-08</td>\n",
       "      <td>-1.0</td>\n",
       "      <td>-6.356000e-05</td>\n",
       "    </tr>\n",
       "    <tr>\n",
       "      <th>ID:0302010100-o</th>\n",
       "      <td>2.276975</td>\n",
       "      <td>2.276975</td>\n",
       "      <td>-9.000000e-08</td>\n",
       "      <td>1.0</td>\n",
       "      <td>-0.000000e+00</td>\n",
       "    </tr>\n",
       "    <tr>\n",
       "      <th>ID:0301010100-o</th>\n",
       "      <td>0.038716</td>\n",
       "      <td>0.038716</td>\n",
       "      <td>4.000000e-08</td>\n",
       "      <td>-1.0</td>\n",
       "      <td>-1.000000e-08</td>\n",
       "    </tr>\n",
       "    <tr>\n",
       "      <th>ID:0300010100-o</th>\n",
       "      <td>0.002930</td>\n",
       "      <td>0.002930</td>\n",
       "      <td>0.000000e+00</td>\n",
       "      <td>-1.0</td>\n",
       "      <td>0.000000e+00</td>\n",
       "    </tr>\n",
       "    <tr>\n",
       "      <th>ID:0402010100-o</th>\n",
       "      <td>2.276963</td>\n",
       "      <td>2.276963</td>\n",
       "      <td>-9.000000e-08</td>\n",
       "      <td>1.0</td>\n",
       "      <td>0.000000e+00</td>\n",
       "    </tr>\n",
       "    <tr>\n",
       "      <th>ID:0401010100-o</th>\n",
       "      <td>0.038716</td>\n",
       "      <td>0.038716</td>\n",
       "      <td>3.000000e-08</td>\n",
       "      <td>-1.0</td>\n",
       "      <td>1.000000e-08</td>\n",
       "    </tr>\n",
       "    <tr>\n",
       "      <th>ID:0400010100-o</th>\n",
       "      <td>0.002930</td>\n",
       "      <td>0.002930</td>\n",
       "      <td>1.000000e-08</td>\n",
       "      <td>-1.0</td>\n",
       "      <td>0.000000e+00</td>\n",
       "    </tr>\n",
       "    <tr>\n",
       "      <th>ID:0500010100-o</th>\n",
       "      <td>0.018147</td>\n",
       "      <td>0.018147</td>\n",
       "      <td>1.000000e-08</td>\n",
       "      <td>-1.0</td>\n",
       "      <td>-2.083000e-05</td>\n",
       "    </tr>\n",
       "    <tr>\n",
       "      <th>ID:0600010100-o</th>\n",
       "      <td>0.018147</td>\n",
       "      <td>0.018147</td>\n",
       "      <td>1.000000e-08</td>\n",
       "      <td>-1.0</td>\n",
       "      <td>-2.083000e-05</td>\n",
       "    </tr>\n",
       "    <tr>\n",
       "      <th>ID:0700010100-o</th>\n",
       "      <td>0.018147</td>\n",
       "      <td>0.018147</td>\n",
       "      <td>1.000000e-08</td>\n",
       "      <td>-1.0</td>\n",
       "      <td>2.083000e-05</td>\n",
       "    </tr>\n",
       "    <tr>\n",
       "      <th>ID:0800010100-o</th>\n",
       "      <td>0.018147</td>\n",
       "      <td>0.018147</td>\n",
       "      <td>1.000000e-08</td>\n",
       "      <td>-1.0</td>\n",
       "      <td>2.083000e-05</td>\n",
       "    </tr>\n",
       "  </tbody>\n",
       "</table>\n",
       "</div>"
      ],
      "text/plain": [
       "                 J=L+S (Cartesian)  J=L+S (Spin axis)  Direction of J (x)  \\\n",
       "ID:0102010100-o           1.107048           1.107048       -8.000000e-08   \n",
       "ID:0101010100-o           0.005881           0.005881        1.000000e-07   \n",
       "ID:0100010100-o           0.002925           0.002925        2.000000e-08   \n",
       "ID:0202010100-o           1.107048           1.107048       -8.000000e-08   \n",
       "ID:0201010100-o           0.005881           0.005881        1.000000e-07   \n",
       "ID:0200010100-o           0.002925           0.002925        2.000000e-08   \n",
       "ID:0302010100-o           2.276975           2.276975       -9.000000e-08   \n",
       "ID:0301010100-o           0.038716           0.038716        4.000000e-08   \n",
       "ID:0300010100-o           0.002930           0.002930        0.000000e+00   \n",
       "ID:0402010100-o           2.276963           2.276963       -9.000000e-08   \n",
       "ID:0401010100-o           0.038716           0.038716        3.000000e-08   \n",
       "ID:0400010100-o           0.002930           0.002930        1.000000e-08   \n",
       "ID:0500010100-o           0.018147           0.018147        1.000000e-08   \n",
       "ID:0600010100-o           0.018147           0.018147        1.000000e-08   \n",
       "ID:0700010100-o           0.018147           0.018147        1.000000e-08   \n",
       "ID:0800010100-o           0.018147           0.018147        1.000000e-08   \n",
       "\n",
       "                 Direction of J (y)  Direction of J (z)  \n",
       "ID:0102010100-o                 1.0       -1.374500e-04  \n",
       "ID:0101010100-o                -1.0       -3.429800e-04  \n",
       "ID:0100010100-o                -1.0        6.356000e-05  \n",
       "ID:0202010100-o                 1.0        1.374500e-04  \n",
       "ID:0201010100-o                -1.0        3.429800e-04  \n",
       "ID:0200010100-o                -1.0       -6.356000e-05  \n",
       "ID:0302010100-o                 1.0       -0.000000e+00  \n",
       "ID:0301010100-o                -1.0       -1.000000e-08  \n",
       "ID:0300010100-o                -1.0        0.000000e+00  \n",
       "ID:0402010100-o                 1.0        0.000000e+00  \n",
       "ID:0401010100-o                -1.0        1.000000e-08  \n",
       "ID:0400010100-o                -1.0        0.000000e+00  \n",
       "ID:0500010100-o                -1.0       -2.083000e-05  \n",
       "ID:0600010100-o                -1.0       -2.083000e-05  \n",
       "ID:0700010100-o                -1.0        2.083000e-05  \n",
       "ID:0800010100-o                -1.0        2.083000e-05  "
      ]
     },
     "execution_count": 5,
     "metadata": {},
     "output_type": "execute_result"
    }
   ],
   "source": [
    "# Reading file into lines\n",
    "file_Name_Ms = data_dir_GS + f\"/{xyz_dirs[0]}/out_last\"\n",
    "print(file_Name_Ms)\n",
    "\n",
    "# Create dicts with orbital IDs and values of corresponding\n",
    "# Total moment and its direction (+/-1)\n",
    "tot_moments_D = dtf.find_line_val_dict(file_Name_Ms, 'Total moment [J=L+S] (mu_B):')\n",
    "dir_of_JD = dtf.find_line_val_dict(file_Name_Ms, 'Direction of J (Cartesian):')\n",
    "\n",
    "params_merged = {}\n",
    "for key in tot_moments_D.keys():\n",
    "    params_merged[key] = tot_moments_D[key] + dir_of_JD[key]\n",
    "\n",
    "# Pretty table\n",
    "df = pd.DataFrame.from_dict(params_merged, orient='index',\n",
    "                            columns = ['J=L+S (Cartesian)',\n",
    "                                       'J=L+S (Spin axis)',\n",
    "                                       'Direction of J (x)',\n",
    "                                       'Direction of J (y)',\n",
    "                                       'Direction of J (z)'])\n",
    "df"
   ]
  },
  {
   "cell_type": "markdown",
   "metadata": {},
   "source": [
    "## Calculating magnetization\n",
    "**Use:** Cartesian (with direction) - we should use that</br>\n",
    "Spin axis coordinates we ignore"
   ]
  },
  {
   "cell_type": "code",
   "execution_count": 6,
   "metadata": {},
   "outputs": [
    {
     "name": "stdout",
     "output_type": "stream",
     "text": [
      "1.107048 * 0.99999999 = 1.10704798892952\n",
      "0.005881401 * -0.99999994 = -0.00588140064711594\n",
      "0.002925496 * -1.0 = -0.002925496\n",
      "1.107048 * 0.99999999 = 1.10704798892952\n",
      "0.005881401 * -0.99999994 = -0.00588140064711594\n",
      "0.002925496 * -1.0 = -0.002925496\n",
      "2.276975 * 1.0 = 2.276975\n",
      "0.03871577 * -1.0 = -0.03871577\n",
      "0.002929676 * -1.0 = -0.002929676\n",
      "2.276963 * 1.0 = 2.276963\n",
      "0.03871566 * -1.0 = -0.03871566\n",
      "0.002929643 * -1.0 = -0.002929643\n",
      "0.01814711 * -1.0 = -0.01814711\n",
      "0.01814694 * -1.0 = -0.01814694\n",
      "0.01814694 * -1.0 = -0.01814694\n",
      "0.01814711 * -1.0 = -0.01814711\n",
      "\n",
      "Total magnetic moment = 6.594541335564807\n",
      "Unit cell volume: 51.75113447103479 A³\n",
      "Magnetization Ms: 1.4850454103124426 T\n"
     ]
    }
   ],
   "source": [
    "# Calculating total magnetic moment by summing all\n",
    "# (Total moment (of an orbital) * Direction of J (takes the one with abs value > 0.9, should be +/-1))\n",
    "tot_magn_mom_C = 0\n",
    "for key in tot_moments_D.keys():\n",
    "    tot_magn_mom_C += tot_moments_D[key][0]*[x for x in dir_of_JD[key] if abs(x) > 0.9][0]\n",
    "    print(tot_moments_D[key][0], '*', \n",
    "          [x for x in dir_of_JD[key] if abs(x) > 0.9][0], '=', \n",
    "          tot_moments_D[key][0]*[x for x in dir_of_JD[key] if abs(x) > 0.9][0])\n",
    "    #    total magnetic moment J=L+S * orientation, wherever +/-1 is\n",
    "\n",
    "print(f'\\nTotal magnetic moment = {tot_magn_mom_C}')\n",
    "\n",
    "# Getting unit cell volume in A^3 from the file\n",
    "ucv = dtf.find_line_val_dict(file_Name_Ms, 'unit cell volume:')\n",
    "# print(ucv)\n",
    "# Recalculating in=t in angstroms (should be transferred to m afterwards)\n",
    "ucvA = ucv[list(ucv.keys())[0]][0] / 1.8897259**3 # unit cell volume in A\n",
    "print(f'Unit cell volume: {ucvA} A\\N{SUPERSCRIPT THREE}')\n",
    "\n",
    "# Calculating magnetization in Tesla\n",
    "magnetization_in_T = tot_magn_mom_C/ucvA*11.654\n",
    "print(f'Magnetization Ms: {magnetization_in_T} T')"
   ]
  },
  {
   "cell_type": "markdown",
   "metadata": {},
   "source": [
    "### Q&A\n",
    "**Question #1:** Why doubled data for each orbital? </br>\n",
    "<b>Answer #1:</b> because calculations may run several times, that's why we need to take the last one\n",
    "\n",
    "**Question #2:** How do we calculate total magnetic moment? (Does direction matter?) </br>\n",
    "<b>Answer #2:</b> the direction does matter. For testing approximate resulting value of Ms should be in the README file, our result should be in 2% range of it"
   ]
  },
  {
   "cell_type": "markdown",
   "metadata": {},
   "source": [
    "# Anisotropy"
   ]
  },
  {
   "cell_type": "code",
   "execution_count": null,
   "metadata": {},
   "outputs": [
    {
     "name": "stdout",
     "output_type": "stream",
     "text": [
      "Anisotropy constant (max of all): 2815104.09991718 J/m³\n"
     ]
    }
   ],
   "source": [
    "energies = {}\n",
    "\n",
    "if f'out_MF_{xyz_dirs[0]}' in os.listdir(data_dir_GS+f'/{xyz_dirs[0]}'):\n",
    "    for dirdir in xyz_dirs:\n",
    "        fileName = data_dir_GS+f\"/{dirdir}/out_MF_{dirdir}\"\n",
    "        eigenvalue_sum = dtf.find_line_val_dict(fileName, 'Eigenvalue sum:')\n",
    "        energies[dirdir] = eigenvalue_sum[list(eigenvalue_sum.keys())[0]][0]\n",
    "elif f'out_Etot_{xyz_dirs[0]}' in os.listdir(data_dir_GS+f'/{xyz_dirs[0]}'):\n",
    "    for dirdir in xyz_dirs:\n",
    "        fileName = data_dir_GS+f\"/{dirdir}/out_Etot_{dirdir}\"\n",
    "        energies[dirdir] = dtf.get_energy_from_file(fileName)\n",
    "else:\n",
    "    print('no files for anisotropy')\n",
    "\n",
    "allKs = list()\n",
    "if 'z' in energies.keys():\n",
    "    if 'x' in energies.keys():\n",
    "        Kxz = (energies['x'] - energies['z'])/ucvA*2179874\n",
    "        allKs.append(Kxz)\n",
    "    if 'y' in energies.keys():    \n",
    "        Kyz = (energies['y'] - energies['z'])/ucvA*2179874\n",
    "        allKs.append(Kyz)\n",
    "\n",
    "K = max(allKs) * 1e6            # anisotropy J/m³\n",
    "\n",
    "print(f'Anisotropy constant (max of all): {K} J/m\\N{SUPERSCRIPT THREE}')"
   ]
  },
  {
   "cell_type": "markdown",
   "metadata": {},
   "source": [
    "# Exchange"
   ]
  },
  {
   "cell_type": "code",
   "execution_count": 8,
   "metadata": {},
   "outputs": [
    {
     "name": "stdout",
     "output_type": "stream",
     "text": [
      "Number of atoms: 4\n",
      "Tc = 1080.0 K\n",
      "1.4417993380988423 1.8366897204733883\n",
      "spin wave stiffness constant  1.9952086483055387e-40\n",
      "exchange constant at T=0 6.171002485142963e-12\n",
      "Js_300 (T) 1.3187125142741503\n",
      "A_300 (J/m) 5.162336770703242e-12\n",
      "K_300 (MJ/m) 2.153924005658224\n",
      "5.162336770703242e-12\n",
      "1.3187125142741503\n",
      "Lex  1.9314255445304858\n"
     ]
    },
    {
     "data": {
      "image/png": "[encoded data removed]",
      "text/plain": [
       "<Figure size 640x480 with 1 Axes>"
      ]
     },
     "metadata": {},
     "output_type": "display_data"
    }
   ],
   "source": [
    "# Define the form of the function you want to fit\n",
    "fn = data_dir_MC + '/M(T)'  # magnetic polarization\n",
    "TK, Js = dtf.read_2_col_data(fn)\n",
    "\n",
    "with open(data_dir_MC + '/momfile', 'rt') as f:\n",
    "    n_atoms = len(f.read().splitlines())\n",
    "print(f'Number of atoms: {n_atoms}')\n",
    "\n",
    "Js = [item*n_atoms/ucvA*11.654 for item in Js]\n",
    "\n",
    "poscut = np.argmin(np.diff(Js)/np.diff(TK))+2\n",
    "Tc = TK[poscut]\n",
    "print(f'Tc = {Tc} K')\n",
    "TKc = TK[:poscut].copy()\n",
    "Jsc = Js[:poscut].copy()\n",
    "\n",
    "xfine = np.linspace(0, Tc, 500)\n",
    "p    = 5.0 / 2\n",
    "beta = 1. / 3\n",
    "m_s = partial(dtf.spontaneous_magnetization, p=p, beta=beta, T_C=Tc)\n",
    "\n",
    "popt, pcov = curve_fit(m_s, TKc, Jsc)\n",
    "Js_0, s = popt\n",
    "print(Js_0, s)\n",
    "T_fit = np.linspace(min(TKc), max(TKc), 500)\n",
    "Js_fit = m_s(T_fit, Js_0, s)\n",
    "\n",
    "g = 2\n",
    "k_b = physical_constants[\"Boltzmann constant\"][0]\n",
    "mu_b = physical_constants[\"Bohr magneton\"][0]\n",
    "\n",
    "M_0 = Js_0/mu_0\n",
    "D = (0.1509\n",
    "     * ((g * mu_b) / (s * beta * M_0)) ** (2. / 3)\n",
    "     * k_b\n",
    "     * Tc\n",
    "     )\n",
    "print(\"spin wave stiffness constant \",D)\n",
    "A_0 = M_0 * D / (2 * g * mu_b)\n",
    "print(\"exchange constant at T=0\",A_0)\n",
    "\n",
    "Js_300 = m_s(300., Js_0, s)\n",
    "print(\"Js_300 (T)\",Js_300)\n",
    "\n",
    "A_300 = A_0*(Js_300/Js_0)**2\n",
    "print(\"A_300 (J/m)\",A_300)\n",
    "\n",
    "K_300 = K*(Js_300/Js_0)**3\n",
    "print(\"K_300 (MJ/m)\",K_300/1e6)\n",
    "\n",
    "# A = A_0*(Js/Js0)^2\n",
    "print(A_300)\n",
    "print(Js_300)\n",
    "print('Lex ',np.sqrt(mu_0*A_300/(Js_300*Js_300))/1e-9)\n",
    "\n",
    "\n",
    "plt.scatter(TK, Js, marker=\"o\", label=\"data points\", facecolors='none', edgecolors='#4575b4')\n",
    "label = \"Kuz'min's fit\"  # fr\"fit $f(x) = ax^2 + bx + c$ with {a=:.3} {b=:.3} {c=:.3}\"\n",
    "plt.plot(xfine, m_s(xfine, Js_0, s), label=label, color='#f46d43')\n",
    "plt.legend()\n",
    "plt.xlabel(\"Temperature (K)\")\n",
    "plt.ylabel(\"J (T)\")\n",
    "plt.grid()\n",
    "# plt.style.use('seaborn-v0_8')\n",
    "plt.show()\n",
    "plt.close()"
   ]
  },
  {
   "cell_type": "markdown",
   "metadata": {},
   "source": [
    "### Data from README file for doublechecking"
   ]
  },
  {
   "cell_type": "code",
   "execution_count": null,
   "metadata": {},
   "outputs": [
    {
     "name": "stdout",
     "output_type": "stream",
     "text": [
      "Ms = 1.45 T\n",
      "\n",
      "MAE\n",
      "x - z = 2.77 MJ/m³\n",
      "y - z = 2.81 MJ/m³\n",
      "\n"
     ]
    }
   ],
   "source": [
    "# Ms - Saturation Magnetization\n",
    "# MAE - Magnetic Anisotropy Energy\n",
    "with open(data_dir + '/README', 'rt') as f:\n",
    "    print(f.read())"
   ]
  },
  {
   "cell_type": "markdown",
   "metadata": {},
   "source": [
    "### Summary of values computed from the dataset"
   ]
  },
  {
   "cell_type": "code",
   "execution_count": 17,
   "metadata": {},
   "outputs": [
    {
     "name": "stdout",
     "output_type": "stream",
     "text": [
      " Ms = 1.485 T\n",
      " K = 2.815 MJ/m^3\n"
     ]
    }
   ],
   "source": [
    "def round_to_significant_figures(value, sig_digits):\n",
    "    return round(value, -int(np.floor(np.log10(abs(value))) - (sig_digits - 1)))\n",
    "\n",
    "print(\" Ms = \"+str(round_to_significant_figures(magnetization_in_T, 4)) + \" T\")\n",
    "print(\" K = \" + str(round_to_significant_figures(K/1e6, 4)) + \" MJ/m^3\")"
   ]
  },
  {
   "cell_type": "code",
   "execution_count": null,
   "metadata": {},
   "outputs": [],
   "source": []
  }
 ],
 "metadata": {
  "kernelspec": {
   "display_name": "Python 3",
   "language": "python",
   "name": "python3"
  },
  "language_info": {
   "codemirror_mode": {
    "name": "ipython",
    "version": 3
   },
   "file_extension": ".py",
   "mimetype": "text/x-python",
   "name": "python",
   "nbconvert_exporter": "python",
   "pygments_lexer": "ipython3",
   "version": "3.10.12"
  }
 },
 "nbformat": 4,
 "nbformat_minor": 4
}
