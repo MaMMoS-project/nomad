{
 "cells": [
  {
   "cell_type": "markdown",
   "metadata": {},
   "source": [
    "# Importing Modules"
   ]
  },
  {
   "cell_type": "code",
   "execution_count": 15,
   "metadata": {},
   "outputs": [
    {
     "name": "stdout",
     "output_type": "stream",
     "text": [
      "Importing done.\n"
     ]
    }
   ],
   "source": [
    "import os\n",
    "from functools import partial\n",
    "import numpy as np\n",
    "import pandas as pd\n",
    "from scipy.optimize import curve_fit\n",
    "from scipy.constants import mu_0\n",
    "from scipy.constants import physical_constants\n",
    "import matplotlib\n",
    "import matplotlib.pyplot as plt\n",
    "\n",
    "import data_tests_functions as dtf\n",
    "\n",
    "matplotlib.rcParams.update({'font.size': 14})\n",
    "\n",
    "print('Importing done.')"
   ]
  },
  {
   "cell_type": "code",
   "execution_count": 16,
   "metadata": {},
   "outputs": [],
   "source": [
    "def round_to_significant_digits(value, sig_digits):\n",
    "    \"\"\"\n",
    "    Rounds a value to a specified number of significant digits.\n",
    "    :param value: The value to round.\n",
    "    :param sig_digits: The number of significant digits to round to.\n",
    "    :return: The rounded value.\n",
    "    \"\"\"\n",
    "    if value == 0:\n",
    "        raise ValueError(\"Cannot round a value of 0 to significant digits.\")\n",
    "    digits = -int(np.floor(np.log10(abs(value))) - (sig_digits - 1))\n",
    "    value_rounded = round(value, digits)\n",
    "    return value_rounded"
   ]
  },
  {
   "cell_type": "markdown",
   "metadata": {},
   "source": [
    "# Data directory input"
   ]
  },
  {
   "cell_type": "code",
   "execution_count": 17,
   "metadata": {},
   "outputs": [],
   "source": [
    "# data_dir = '/Users/santapile/Santas/Projects/MaMMoS/NOMAD/dataExamples/UU/UU-sets/Fe3-xZnxY(x=0.22)'\n",
    "# data_dir = 'Fe3-xZnxY(x=0.22)'\n",
    "data_dir = 'Fe3-xVxY(x=0.22)'"
   ]
  },
  {
   "cell_type": "code",
   "execution_count": 18,
   "metadata": {},
   "outputs": [
    {
     "data": {
      "text/plain": [
       "True"
      ]
     },
     "execution_count": 18,
     "metadata": {},
     "output_type": "execute_result"
    }
   ],
   "source": [
    "import check_file_and_folder_structure as cffs\n",
    "cffs.check_structure(data_dir, check_README=True, verbose=True)"
   ]
  },
  {
   "cell_type": "code",
   "execution_count": 19,
   "metadata": {},
   "outputs": [
    {
     "name": "stdout",
     "output_type": "stream",
     "text": [
      "Fe3-xVxY(x=0.22)/GS\n",
      "Fe3-xVxY(x=0.22)/MC\n",
      "['z', 'x']\n"
     ]
    }
   ],
   "source": [
    "data_dir_GS = data_dir + \"/GS\"\n",
    "data_dir_MC = data_dir + \"/MC\"\n",
    "\n",
    "xyz_dirs = [dirdir for dirdir in os.listdir(data_dir_GS) if len(dirdir) == 1]\n",
    "\n",
    "print(data_dir_GS)\n",
    "print(data_dir_MC)\n",
    "print(xyz_dirs)"
   ]
  },
  {
   "cell_type": "markdown",
   "metadata": {},
   "source": [
    "# Magnetization"
   ]
  },
  {
   "cell_type": "code",
   "execution_count": 20,
   "metadata": {},
   "outputs": [
    {
     "name": "stdout",
     "output_type": "stream",
     "text": [
      "Fe3-xVxY(x=0.22)/GS/z/out_last\n"
     ]
    },
    {
     "data": {
      "text/html": [
       "<div>\n",
       "<style scoped>\n",
       "    .dataframe tbody tr th:only-of-type {\n",
       "        vertical-align: middle;\n",
       "    }\n",
       "\n",
       "    .dataframe tbody tr th {\n",
       "        vertical-align: top;\n",
       "    }\n",
       "\n",
       "    .dataframe thead th {\n",
       "        text-align: right;\n",
       "    }\n",
       "</style>\n",
       "<table border=\"1\" class=\"dataframe\">\n",
       "  <thead>\n",
       "    <tr style=\"text-align: right;\">\n",
       "      <th></th>\n",
       "      <th>J=L+S (Cartesian)</th>\n",
       "      <th>J=L+S (Spin axis)</th>\n",
       "      <th>Direction of J (x)</th>\n",
       "      <th>Direction of J (y)</th>\n",
       "      <th>Direction of J (z)</th>\n",
       "    </tr>\n",
       "  </thead>\n",
       "  <tbody>\n",
       "    <tr>\n",
       "      <th>ID:0102010100-o</th>\n",
       "      <td>0.084554</td>\n",
       "      <td>0.084554</td>\n",
       "      <td>2.300000e-07</td>\n",
       "      <td>-1.400000e-07</td>\n",
       "      <td>-1.0</td>\n",
       "    </tr>\n",
       "    <tr>\n",
       "      <th>ID:0101010100-o</th>\n",
       "      <td>0.008603</td>\n",
       "      <td>0.008603</td>\n",
       "      <td>6.000000e-08</td>\n",
       "      <td>-4.000000e-08</td>\n",
       "      <td>-1.0</td>\n",
       "    </tr>\n",
       "    <tr>\n",
       "      <th>ID:0100010100-o</th>\n",
       "      <td>0.001492</td>\n",
       "      <td>0.001492</td>\n",
       "      <td>-3.300000e-07</td>\n",
       "      <td>2.200000e-07</td>\n",
       "      <td>-1.0</td>\n",
       "    </tr>\n",
       "    <tr>\n",
       "      <th>ID:0202010100-o</th>\n",
       "      <td>0.084554</td>\n",
       "      <td>0.084554</td>\n",
       "      <td>2.300000e-07</td>\n",
       "      <td>-1.400000e-07</td>\n",
       "      <td>-1.0</td>\n",
       "    </tr>\n",
       "    <tr>\n",
       "      <th>ID:0201010100-o</th>\n",
       "      <td>0.008603</td>\n",
       "      <td>0.008603</td>\n",
       "      <td>5.000000e-08</td>\n",
       "      <td>-3.000000e-08</td>\n",
       "      <td>-1.0</td>\n",
       "    </tr>\n",
       "    <tr>\n",
       "      <th>...</th>\n",
       "      <td>...</td>\n",
       "      <td>...</td>\n",
       "      <td>...</td>\n",
       "      <td>...</td>\n",
       "      <td>...</td>\n",
       "    </tr>\n",
       "    <tr>\n",
       "      <th>ID:3501010100-o</th>\n",
       "      <td>0.008017</td>\n",
       "      <td>0.008017</td>\n",
       "      <td>1.300000e-07</td>\n",
       "      <td>-1.700000e-07</td>\n",
       "      <td>1.0</td>\n",
       "    </tr>\n",
       "    <tr>\n",
       "      <th>ID:3500010100-o</th>\n",
       "      <td>0.007854</td>\n",
       "      <td>0.007854</td>\n",
       "      <td>-5.000000e-08</td>\n",
       "      <td>4.000000e-08</td>\n",
       "      <td>-1.0</td>\n",
       "    </tr>\n",
       "    <tr>\n",
       "      <th>ID:3602010100-o</th>\n",
       "      <td>0.579322</td>\n",
       "      <td>0.579322</td>\n",
       "      <td>-2.000000e-08</td>\n",
       "      <td>4.000000e-08</td>\n",
       "      <td>-1.0</td>\n",
       "    </tr>\n",
       "    <tr>\n",
       "      <th>ID:3601010100-o</th>\n",
       "      <td>0.008017</td>\n",
       "      <td>0.008017</td>\n",
       "      <td>-1.000000e-07</td>\n",
       "      <td>1.600000e-07</td>\n",
       "      <td>1.0</td>\n",
       "    </tr>\n",
       "    <tr>\n",
       "      <th>ID:3600010100-o</th>\n",
       "      <td>0.007854</td>\n",
       "      <td>0.007854</td>\n",
       "      <td>-2.000000e-08</td>\n",
       "      <td>2.000000e-08</td>\n",
       "      <td>-1.0</td>\n",
       "    </tr>\n",
       "  </tbody>\n",
       "</table>\n",
       "<p>108 rows × 5 columns</p>\n",
       "</div>"
      ],
      "text/plain": [
       "                 J=L+S (Cartesian)  J=L+S (Spin axis)  Direction of J (x)  \\\n",
       "ID:0102010100-o           0.084554           0.084554        2.300000e-07   \n",
       "ID:0101010100-o           0.008603           0.008603        6.000000e-08   \n",
       "ID:0100010100-o           0.001492           0.001492       -3.300000e-07   \n",
       "ID:0202010100-o           0.084554           0.084554        2.300000e-07   \n",
       "ID:0201010100-o           0.008603           0.008603        5.000000e-08   \n",
       "...                            ...                ...                 ...   \n",
       "ID:3501010100-o           0.008017           0.008017        1.300000e-07   \n",
       "ID:3500010100-o           0.007854           0.007854       -5.000000e-08   \n",
       "ID:3602010100-o           0.579322           0.579322       -2.000000e-08   \n",
       "ID:3601010100-o           0.008017           0.008017       -1.000000e-07   \n",
       "ID:3600010100-o           0.007854           0.007854       -2.000000e-08   \n",
       "\n",
       "                 Direction of J (y)  Direction of J (z)  \n",
       "ID:0102010100-o       -1.400000e-07                -1.0  \n",
       "ID:0101010100-o       -4.000000e-08                -1.0  \n",
       "ID:0100010100-o        2.200000e-07                -1.0  \n",
       "ID:0202010100-o       -1.400000e-07                -1.0  \n",
       "ID:0201010100-o       -3.000000e-08                -1.0  \n",
       "...                             ...                 ...  \n",
       "ID:3501010100-o       -1.700000e-07                 1.0  \n",
       "ID:3500010100-o        4.000000e-08                -1.0  \n",
       "ID:3602010100-o        4.000000e-08                -1.0  \n",
       "ID:3601010100-o        1.600000e-07                 1.0  \n",
       "ID:3600010100-o        2.000000e-08                -1.0  \n",
       "\n",
       "[108 rows x 5 columns]"
      ]
     },
     "execution_count": 20,
     "metadata": {},
     "output_type": "execute_result"
    }
   ],
   "source": [
    "# Reading file into lines; all folders are equivalent according to UU-colleagues, so we can use the first one\n",
    "file_Name_Ms = data_dir_GS + f\"/{xyz_dirs[0]}/out_last\"\n",
    "print(file_Name_Ms)\n",
    "\n",
    "# Create dicts with orbital IDs and values of corresponding\n",
    "# Total moment and its direction (+/-1)\n",
    "tot_moments_D = dtf.find_line_val_dict(file_Name_Ms, 'Total moment [J=L+S] (mu_B):')\n",
    "dir_of_JD = dtf.find_line_val_dict(file_Name_Ms, 'Direction of J (Cartesian):')\n",
    "# print(\"tot_moments_D:\"+str(tot_moments_D))\n",
    "# print(\"dir_of_JD:\"+str(dir_of_JD))\n",
    "params_merged = {}\n",
    "for key in tot_moments_D.keys():\n",
    "    params_merged[key] = tot_moments_D[key] + dir_of_JD[key]\n",
    "\n",
    "# Pretty table for checking the entries for magnetic moments and directions\n",
    "df = pd.DataFrame.from_dict(params_merged, orient='index',\n",
    "                            columns = ['J=L+S (Cartesian)',\n",
    "                                       'J=L+S (Spin axis)',\n",
    "                                       'Direction of J (x)',\n",
    "                                       'Direction of J (y)',\n",
    "                                       'Direction of J (z)'])\n",
    "df"
   ]
  },
  {
   "cell_type": "markdown",
   "metadata": {},
   "source": [
    "## Calculating magnetization\n",
    "**Use:** Cartesian (with direction) - we should use that</br>\n",
    "Spin axis coordinates we ignore"
   ]
  },
  {
   "cell_type": "code",
   "execution_count": 21,
   "metadata": {},
   "outputs": [
    {
     "name": "stdout",
     "output_type": "stream",
     "text": [
      "ID:0102010100-o :  0.08455416 * -1.0 = -0.08455416\n",
      "ID:0101010100-o :  0.008603249 * -1.0 = -0.008603249\n",
      "ID:0100010100-o :  0.001492291 * -1.0 = -0.001492291\n",
      "ID:0202010100-o :  0.08455407 * -1.0 = -0.08455407\n",
      "ID:0201010100-o :  0.008603305 * -1.0 = -0.008603305\n",
      "ID:0200010100-o :  0.001492433 * -1.0 = -0.001492433\n",
      "ID:0302010100-o :  0.084554 * -1.0 = -0.084554\n",
      "ID:0301010100-o :  0.008603297 * -1.0 = -0.008603297\n",
      "ID:0300010100-o :  0.001492436 * -1.0 = -0.001492436\n",
      "ID:0402010100-o :  0.144798 * -1.0 = -0.144798\n",
      "ID:0401010100-o :  0.009910854 * -1.0 = -0.009910854\n",
      "ID:0400010100-o :  0.008175165 * -1.0 = -0.008175165\n",
      "ID:0502010100-o :  0.1447979 * -1.0 = -0.1447979\n",
      "ID:0501010100-o :  0.009910849 * -1.0 = -0.009910849\n",
      "ID:0500010100-o :  0.008175161 * -1.0 = -0.008175161\n",
      "ID:0602010100-o :  0.1448001 * -1.0 = -0.1448001\n",
      "ID:0601010100-o :  0.009910912 * -1.0 = -0.009910912\n",
      "ID:0600010100-o :  0.008175227 * -1.0 = -0.008175227\n",
      "ID:0702010100-o :  0.1447984 * -1.0 = -0.1447984\n",
      "ID:0701010100-o :  0.009910863 * -1.0 = -0.009910863\n",
      "ID:0700010100-o :  0.008175115 * -1.0 = -0.008175115\n",
      "ID:0802010100-o :  0.1447984 * -1.0 = -0.1447984\n",
      "ID:0801010100-o :  0.009910857 * -1.0 = -0.009910857\n",
      "ID:0800010100-o :  0.00817511 * -1.0 = -0.00817511\n",
      "ID:0902010100-o :  0.1448001 * -1.0 = -0.1448001\n",
      "ID:0901010100-o :  0.009910911 * -1.0 = -0.009910911\n",
      "ID:0900010100-o :  0.008175226 * -1.0 = -0.008175226\n",
      "ID:1002010100-o :  2.113091 * 1.0 = 2.113091\n",
      "ID:1001010100-o :  0.03103677 * -1.0 = -0.03103677\n",
      "ID:1000010100-o :  0.006861491 * 1.0 = 0.006861491\n",
      "ID:1102010100-o :  2.113084 * 1.0 = 2.113084\n",
      "ID:1101010100-o :  0.03103682 * -1.0 = -0.03103682\n",
      "ID:1100010100-o :  0.006861395 * 1.0 = 0.006861395\n",
      "ID:1202010100-o :  2.113085 * 1.0 = 2.113085\n",
      "ID:1201010100-o :  0.03103685 * -1.0 = -0.03103685\n",
      "ID:1200010100-o :  0.006861401 * 1.0 = 0.006861401\n",
      "ID:1302010100-o :  1.626384 * 0.99999977 = 1.62638362593168\n",
      "ID:1301010100-o :  0.01984023 * -0.99993971 = -0.0198390338325333\n",
      "ID:1300010100-o :  0.003158194 * 0.99999958 = 0.00315819267355852\n",
      "ID:1402010100-o :  1.626384 * 0.99999977 = 1.62638362593168\n",
      "ID:1401010100-o :  0.01984023 * -0.99993971 = -0.0198390338325333\n",
      "ID:1400010100-o :  0.003158193 * 0.99999958 = 0.0031581916735589403\n",
      "ID:1502010100-o :  1.626389 * 0.99999977 = 1.62638862593053\n",
      "ID:1501010100-o :  0.01984024 * -0.99993971 = -0.0198390438319304\n",
      "ID:1500010100-o :  0.00315807 * 0.99999958 = 0.0031580686736106\n",
      "ID:1602010100-o :  1.626389 * 0.99999977 = 1.62638862593053\n",
      "ID:1601010100-o :  0.01984024 * -0.99993971 = -0.0198390438319304\n",
      "ID:1600010100-o :  0.003158068 * 0.99999958 = 0.00315806667361144\n",
      "ID:1702010100-o :  1.626381 * 0.99999977 = 1.62638062593237\n",
      "ID:1701010100-o :  0.01984032 * -0.99993971 = -0.019839123827107202\n",
      "ID:1700010100-o :  0.003157984 * 0.99999958 = 0.00315798267364672\n",
      "ID:1802010100-o :  1.626381 * 0.99999977 = 1.62638062593237\n",
      "ID:1801010100-o :  0.01984032 * -0.99993971 = -0.019839123827107202\n",
      "ID:1800010100-o :  0.003157988 * 0.99999958 = 0.00315798667364504\n",
      "ID:1902010100-o :  1.626391 * 0.99999977 = 1.6263906259300698\n",
      "ID:1901010100-o :  0.01984046 * -0.9999397 = -0.019839263620262\n",
      "ID:1900010100-o :  0.003158241 * 0.99999958 = 0.00315823967353878\n",
      "ID:2002010100-o :  1.626387 * 0.99999977 = 1.62638662593099\n",
      "ID:2001010100-o :  0.01984065 * -0.99993971 = -0.019839453807211502\n",
      "ID:2000010100-o :  0.003158233 * 0.99999959 = 0.00315823170512447\n",
      "ID:2102010100-o :  1.626394 * 0.99999977 = 1.6263936259293799\n",
      "ID:2101010100-o :  0.01984049 * -0.99993971 = -0.019839293816857898\n",
      "ID:2100010100-o :  0.003158097 * 0.99999958 = 0.00315809567359926\n",
      "ID:2202010100-o :  1.626388 * 0.99999977 = 1.62638762593076\n",
      "ID:2201010100-o :  0.01984068 * -0.99993971 = -0.0198394838054028\n",
      "ID:2200010100-o :  0.00315807 * 0.99999959 = 0.0031580687051913\n",
      "ID:2302010100-o :  1.62639 * 0.99999977 = 1.6263896259303\n",
      "ID:2301010100-o :  0.01984054 * -0.99993971 = -0.0198393438138434\n",
      "ID:2300010100-o :  0.003158053 * 0.99999958 = 0.00315805167361774\n",
      "ID:2402010100-o :  1.626383 * 0.99999977 = 1.6263826259319099\n",
      "ID:2401010100-o :  0.01984073 * -0.99993971 = -0.0198395338023883\n",
      "ID:2400010100-o :  0.003158021 * 0.99999959 = 0.0031580197052113903\n",
      "ID:2502010100-o :  1.626386 * 0.99999977 = 1.62638562593122\n",
      "ID:2501010100-o :  0.01984062 * -0.99993971 = -0.0198394238090202\n",
      "ID:2500010100-o :  0.003158232 * 0.99999959 = 0.00315823070512488\n",
      "ID:2602010100-o :  1.626391 * 0.99999977 = 1.6263906259300698\n",
      "ID:2601010100-o :  0.01984044 * -0.9999397 = -0.019839243621468\n",
      "ID:2600010100-o :  0.003158242 * 0.99999958 = 0.0031582406735383597\n",
      "ID:2702010100-o :  1.626387 * 0.99999977 = 1.62638662593099\n",
      "ID:2701010100-o :  0.01984065 * -0.99993971 = -0.019839453807211502\n",
      "ID:2700010100-o :  0.003158069 * 0.99999959 = 0.0031580677051917102\n",
      "ID:2802010100-o :  1.626394 * 0.99999977 = 1.6263936259293799\n",
      "ID:2801010100-o :  0.01984047 * -0.99993971 = -0.0198392738180637\n",
      "ID:2800010100-o :  0.003158097 * 0.99999958 = 0.00315809567359926\n",
      "ID:2902010100-o :  1.626381 * 0.99999977 = 1.62638062593237\n",
      "ID:2901010100-o :  0.01984072 * -0.99993971 = -0.0198395238029912\n",
      "ID:2900010100-o :  0.003158007 * 0.99999959 = 0.00315800570521713\n",
      "ID:3002010100-o :  1.626388 * 0.99999977 = 1.62638762593076\n",
      "ID:3001010100-o :  0.01984053 * -0.99993971 = -0.0198393338144463\n",
      "ID:3000010100-o :  0.003158035 * 0.99999958 = 0.0031580336736253\n",
      "ID:3102010100-o :  0.5793216 * -1.0 = -0.5793216\n",
      "ID:3101010100-o :  0.008017121 * 1.0 = 0.008017121\n",
      "ID:3100010100-o :  0.007854147 * -1.0 = -0.007854147\n",
      "ID:3202010100-o :  0.5793207 * -1.0 = -0.5793207\n",
      "ID:3201010100-o :  0.008017098 * 1.0 = 0.008017098\n",
      "ID:3200010100-o :  0.007854142 * -1.0 = -0.007854142\n",
      "ID:3302010100-o :  0.5793207 * -1.0 = -0.5793207\n",
      "ID:3301010100-o :  0.008017094 * 1.0 = 0.008017094\n",
      "ID:3300010100-o :  0.007854212 * -1.0 = -0.007854212\n",
      "ID:3402010100-o :  0.5793152 * -1.0 = -0.5793152\n",
      "ID:3401010100-o :  0.008017104 * 1.0 = 0.008017104\n",
      "ID:3400010100-o :  0.007854144 * -1.0 = -0.007854144\n",
      "ID:3502010100-o :  0.5793158 * -1.0 = -0.5793158\n",
      "ID:3501010100-o :  0.008017122 * 1.0 = 0.008017122\n",
      "ID:3500010100-o :  0.007854155 * -1.0 = -0.007854155\n",
      "ID:3602010100-o :  0.5793221 * -1.0 = -0.5793221\n",
      "ID:3601010100-o :  0.008017134 * 1.0 = 0.008017134\n",
      "ID:3600010100-o :  0.007854229 * -1.0 = -0.007854229\n",
      "\n",
      "Total magnetic moment = 30.50523710874928\n",
      "{'unit': [3748.72173679264]}\n",
      "Unit cell volume: 555.5034470488346 A³\n",
      "Magnetization Ms: 0.6399744864843498 T\n"
     ]
    }
   ],
   "source": [
    "# Calculating total magnetic moment by summing all\n",
    "# (Total moment (of an orbital) * Direction of J (takes the one with abs value > 0.9, should be +/-1))\n",
    "tot_magn_mom_C = 0\n",
    "for key in tot_moments_D.keys():\n",
    "    tot_magn_mom_C += tot_moments_D[key][0]*[x for x in dir_of_JD[key] if abs(x) > 0.9][0]\n",
    "    print(key, ': ', tot_moments_D[key][0], '*', \n",
    "          [x for x in dir_of_JD[key] if abs(x) > 0.9][0], '=', \n",
    "          tot_moments_D[key][0]*[x for x in dir_of_JD[key] if abs(x) > 0.9][0])\n",
    "    #    total magnetic moment J=L+S * orientation, wherever +/-1 is\n",
    "\n",
    "print(f'\\nTotal magnetic moment = {tot_magn_mom_C}')\n",
    "\n",
    "# Getting unit cell volume in A^3 from the file\n",
    "ucv = dtf.find_line_val_dict(file_Name_Ms, 'unit cell volume:')\n",
    "print(ucv)\n",
    "# Recalculating in=t in angstroms (should be transferred to m afterwards)\n",
    "ucvA = ucv[list(ucv.keys())[0]][0] / 1.8897259**3 # unit cell volume in A\n",
    "print(f'Unit cell volume: {ucvA} A\\N{SUPERSCRIPT THREE}')\n",
    "\n",
    "# Calculating magnetization in Tesla\n",
    "magnetization_in_T = tot_magn_mom_C/ucvA*11.654\n",
    "print(f'Magnetization Ms: {magnetization_in_T} T')"
   ]
  },
  {
   "cell_type": "markdown",
   "metadata": {},
   "source": [
    "### Q&A\n",
    "**Question #1:** Why doubled data for each orbital? </br>\n",
    "<b>Answer #1:</b> because calculations may run several times, that's why we need to take the last one\n",
    "\n",
    "**Question #2:** How do we calculate total magnetic moment? (Does direction matter?) </br>\n",
    "<b>Answer #2:</b> the direction does matter. For testing approximate resulting value of Ms should be in the README file, our result should be in 2% range of it"
   ]
  },
  {
   "cell_type": "markdown",
   "metadata": {},
   "source": [
    "# Anisotropy"
   ]
  },
  {
   "cell_type": "code",
   "execution_count": null,
   "metadata": {},
   "outputs": [
    {
     "name": "stdout",
     "output_type": "stream",
     "text": [
      "Anisotropy constant (max of all): 441676.5991013162 J/m³\n"
     ]
    }
   ],
   "source": [
    "energies = {}\n",
    "\n",
    "if f'out_MF_{xyz_dirs[0]}' in os.listdir(data_dir_GS+f'/{xyz_dirs[0]}'):\n",
    "    for dirdir in xyz_dirs:\n",
    "        fileName = data_dir_GS+f\"/{dirdir}/out_MF_{dirdir}\"\n",
    "        eigenvalue_sum = dtf.find_line_val_dict(fileName, 'Eigenvalue sum:')\n",
    "        energies[dirdir] = eigenvalue_sum[list(eigenvalue_sum.keys())[0]][0]\n",
    "elif f'out_Etot_{xyz_dirs[0]}' in os.listdir(data_dir_GS+f'/{xyz_dirs[0]}'):\n",
    "    for dirdir in xyz_dirs:\n",
    "        fileName = data_dir_GS+f\"/{dirdir}/out_Etot_{dirdir}\"\n",
    "        energies[dirdir] = dtf.get_energy_from_file(fileName)\n",
    "else:\n",
    "    print('no files for anisotropy')\n",
    "\n",
    "allKs = list()\n",
    "if 'z' in energies.keys():\n",
    "    if 'x' in energies.keys():\n",
    "        Kxz = (energies['x'] - energies['z'])/ucvA*2179874\n",
    "        allKs.append(Kxz)\n",
    "    if 'y' in energies.keys():    \n",
    "        Kyz = (energies['y'] - energies['z'])/ucvA*2179874\n",
    "        allKs.append(Kyz)\n",
    "\n",
    "K = max(allKs) * 1e6            # anisotropy J/m³\n",
    "\n",
    "print(f'Anisotropy constant (max of all): {K} J/m\\N{SUPERSCRIPT THREE}')\n",
    "# TODO: check the units of K, should be in J/m^3, but the factor 1e6 is not clear, compare with K_300 "
   ]
  },
  {
   "cell_type": "markdown",
   "metadata": {},
   "source": [
    "# Exchange"
   ]
  },
  {
   "cell_type": "code",
   "execution_count": null,
   "metadata": {},
   "outputs": [
    {
     "name": "stdout",
     "output_type": "stream",
     "text": [
      "[ 20.  40.  60.  80. 100. 120. 140. 160. 180. 200. 220. 240. 260. 280.\n",
      " 300. 320. 340. 360. 380. 400. 420. 440. 460. 480. 500. 520. 540. 560.\n",
      " 580. 600. 620. 640. 660. 680. 700. 720. 740. 760. 780. 800.]\n",
      "There seem to be NO momfile and no posfile :( Getting n_atoms from GS/out_last\n",
      "Number of atoms: 36\n",
      "Tc = 600.0 K\n",
      "0.8587751884507928 2.015275167741129\n",
      "spin wave stiffness constant  1.4718616726435918e-40\n",
      "exchange constant at T=0 2.7114966148173097e-12\n",
      "Js_300 (T) 0.6662578887664262\n",
      "A_300 (J/m) 1.6320551053301314e-12\n",
      "K_300 (MJ/m) 0.2062495538381189\n",
      "1.6320551053301314e-12\n",
      "0.6662578887664262\n",
      "Lex  2.149463015453713\n"
     ]
    },
    {
     "data": {
      "image/png": "[encoded data removed]",
      "text/plain": [
       "<Figure size 640x480 with 1 Axes>"
      ]
     },
     "metadata": {},
     "output_type": "display_data"
    }
   ],
   "source": [
    "# Define the form of the function you want to fit\n",
    "fn = data_dir_MC + '/M(T)'  # magnetic polarization\n",
    "TK, Js = dtf.read_2_col_data(fn)\n",
    "print(TK)\n",
    "\n",
    "mc_dirs = [dirdir for dirdir in os.listdir(data_dir_MC) if dirdir in ['momfile', 'posfile']]\n",
    "\n",
    "if len(mc_dirs) > 0:\n",
    "    with open(data_dir_MC + '/' + mc_dirs[0], 'rt') as f:\n",
    "        n_atoms = len(f.read().splitlines())\n",
    "    print(f'Number of atoms: {n_atoms}')\n",
    "else:\n",
    "    print('There seem to be NO momfile and no posfile :( Getting n_atoms from GS/out_last')\n",
    "    atoms_Ns = set([int(key[key.find(':')+1:key.find(':') + 3]) for key in tot_moments_D.keys()])\n",
    "    n_atoms = len(atoms_Ns)\n",
    "print(f'Number of atoms: {n_atoms}')\n",
    "    \n",
    "Js = [item*n_atoms/ucvA*11.654 for item in Js]\n",
    "\n",
    "poscut = np.argmin(np.diff(Js)/np.diff(TK))+2\n",
    "Tc = TK[poscut]\n",
    "print(f'Tc = {Tc} K')\n",
    "TKc = TK[:poscut].copy()\n",
    "Jsc = Js[:poscut].copy()\n",
    "\n",
    "xfine = np.linspace(0, Tc, 500)\n",
    "p    = 5.0 / 2\n",
    "beta = 1. / 3\n",
    "m_s = partial(dtf.spontaneous_magnetization, p=p, beta=beta, T_C=Tc)\n",
    "\n",
    "popt, pcov = curve_fit(m_s, TKc, Jsc)\n",
    "Js_0, s = popt\n",
    "print(Js_0, s)\n",
    "T_fit = np.linspace(min(TKc), max(TKc), 500)\n",
    "Js_fit = m_s(T_fit, Js_0, s)\n",
    "\n",
    "g = 2\n",
    "k_b = physical_constants[\"Boltzmann constant\"][0]\n",
    "mu_b = physical_constants[\"Bohr magneton\"][0]\n",
    "\n",
    "M_0 = Js_0/mu_0\n",
    "D = (0.1509\n",
    "     * ((g * mu_b) / (s * beta * M_0)) ** (2. / 3)\n",
    "     * k_b\n",
    "     * Tc\n",
    "     )\n",
    "print(\"spin wave stiffness constant \",D)\n",
    "A_0 = M_0 * D / (2 * g * mu_b)\n",
    "print(\"exchange constant at T=0\",A_0)\n",
    "\n",
    "# Magnetic polarization at 300 K\n",
    "Js_300 = m_s(300., Js_0, s)\n",
    "print(\"Js_300 (T)\",Js_300)\n",
    "\n",
    "A_300 = A_0*(Js_300/Js_0)**2\n",
    "print(\"A_300 (J/m)\",A_300)\n",
    "\n",
    "K_300 = K*(Js_300/Js_0)**3\n",
    "print(\"K_300 (MJ/m)\",K_300/1e6)\n",
    "\n",
    "# A = A_0*(Js/Js0)^2\n",
    "print(A_300)\n",
    "print(Js_300)\n",
    "print('Lex ',np.sqrt(mu_0*A_300/(Js_300*Js_300))/1e-9)\n",
    "\n",
    "fig, ax = plt.subplots()\n",
    "ax.scatter(TK, Js, marker=\"o\", label=\"data points\", facecolors='none', edgecolors='#4575b4')\n",
    "label = \"Kuz'min's fit\"\n",
    "ax.plot(xfine, m_s(xfine, Js_0, s), label=label, color='#f46d43')\n",
    "ax.legend()\n",
    "ax.set_xlabel(\"Temperature (K)\")\n",
    "ax.set_ylabel(\"J (T)\")\n",
    "ax.grid()"
   ]
  },
  {
   "cell_type": "markdown",
   "metadata": {},
   "source": [
    "### Data from README file for doublechecking"
   ]
  },
  {
   "cell_type": "code",
   "execution_count": null,
   "metadata": {},
   "outputs": [
    {
     "name": "stdout",
     "output_type": "stream",
     "text": [
      "### README:\n",
      "Ms = 0.639 T\n",
      "MAE= 0.441 MJ/m³\n",
      "\n",
      "### End of README\n",
      "\n",
      "Extracted Ms value from README: 0.639 T\n",
      "MAE values not found in README\n"
     ]
    }
   ],
   "source": [
    "import re\n",
    "\n",
    "# Ms - Ontology entry: SpontaneousMagneticPolarisation when given in T\n",
    "# MAE - Ontology entry: MagnetocrystallineAnisotropyEnergy\n",
    "with open(data_dir + '/README', 'rt') as f:\n",
    "    print(\"### README:\")\n",
    "    print(f.read())\n",
    "    print(\"### End of README\\n\")\n",
    "    # Extract the value for Ms from README\n",
    "    with open(data_dir + '/README', 'rt') as f:\n",
    "        readme_content = f.read()\n",
    "\n",
    "    ms_match = re.search(r'Ms\\s*=\\s*([\\d.]+)\\s*T', readme_content)\n",
    "    if ms_match:\n",
    "        ms_value_in_T = float(ms_match.group(1))\n",
    "        print(f\"Extracted Ms value from README: {ms_value_in_T} T\")\n",
    "    else:\n",
    "        print(\"Ms value not found in README\")\n",
    "\n",
    "    mae_matches = re.findall(r'([xyz])\\s*-\\s*([xyz])\\s*=\\s*([\\d.]+)\\s*MJ/m³', readme_content)\n",
    "    if mae_matches:\n",
    "        mae_values_in_MJPerCubicm = [float(match[2]) for match in mae_matches]\n",
    "        max_mae_value_in_MJPerCubicm = max(mae_values_in_MJPerCubicm)\n",
    "        print(f\"Extracted maximum MAE value from README: {max_mae_value_in_MJPerCubicm} MJ/m³\")\n",
    "    else:\n",
    "        print(\"MAE values not found in README\")"
   ]
  },
  {
   "cell_type": "markdown",
   "metadata": {},
   "source": [
    "### Summary of values computed from the dataset"
   ]
  },
  {
   "cell_type": "code",
   "execution_count": 25,
   "metadata": {},
   "outputs": [
    {
     "name": "stdout",
     "output_type": "stream",
     "text": [
      " Ms = 0.64 T\n",
      " K = 0.4417 MJ/m^3\n"
     ]
    }
   ],
   "source": [
    "print(\" Ms = \"+str(round_to_significant_digits(magnetization_in_T, 4)) + \" T\")\n",
    "print(\" K = \" + str(round_to_significant_digits(K/1e6, 4)) + \" MJ/m^3\")"
   ]
  },
  {
   "cell_type": "markdown",
   "metadata": {},
   "source": [
    "### Computing deviations between computed values and given values from the README"
   ]
  },
  {
   "cell_type": "code",
   "execution_count": 26,
   "metadata": {},
   "outputs": [
    {
     "name": "stdout",
     "output_type": "stream",
     "text": [
      " Deviation for magnetization in percent = -0.1525 %\n"
     ]
    }
   ],
   "source": [
    "deviation_in_percent = 100 - (magnetization_in_T/ ms_value_in_T) * 100\n",
    "print(\" Deviation for magnetization in percent = \"+str(round_to_significant_digits(deviation_in_percent, 4)) + \" %\")"
   ]
  },
  {
   "cell_type": "code",
   "execution_count": 27,
   "metadata": {},
   "outputs": [
    {
     "name": "stdout",
     "output_type": "stream",
     "text": [
      "MAE values not found in README\n"
     ]
    }
   ],
   "source": [
    "try:\n",
    "    deviation_mae_percent = 100 - ((K/1e6) / max_mae_value_in_MJPerCubicm) * 100\n",
    "    print(\" Deviation for anisotropy energy/constant in percent = \" + str(round_to_significant_digits(deviation_mae_percent, 4)) + \" %\")\n",
    "except NameError:\n",
    "    print(\"MAE values not found in README\")"
   ]
  },
  {
   "cell_type": "code",
   "execution_count": null,
   "metadata": {},
   "outputs": [],
   "source": []
  }
 ],
 "metadata": {
  "kernelspec": {
   "display_name": "default",
   "language": "python",
   "name": "python3"
  },
  "language_info": {
   "codemirror_mode": {
    "name": "ipython",
    "version": 3
   },
   "file_extension": ".py",
   "mimetype": "text/x-python",
   "name": "python",
   "nbconvert_exporter": "python",
   "pygments_lexer": "ipython3",
   "version": "3.13.2"
  }
 },
 "nbformat": 4,
 "nbformat_minor": 4
}
