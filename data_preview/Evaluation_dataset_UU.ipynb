{
 "cells": [
  {
   "cell_type": "markdown",
   "metadata": {},
   "source": [
    "# Importing Modules"
   ]
  },
  {
   "cell_type": "code",
   "execution_count": 1,
   "metadata": {},
   "outputs": [
    {
     "name": "stdout",
     "output_type": "stream",
     "text": [
      "Importing done.\n"
     ]
    }
   ],
   "source": [
    "import os\n",
    "from functools import partial\n",
    "import numpy as np\n",
    "import pandas as pd\n",
    "from scipy.optimize import curve_fit\n",
    "from scipy.constants import mu_0\n",
    "from scipy.constants import physical_constants\n",
    "import matplotlib\n",
    "import matplotlib.pyplot as plt\n",
    "\n",
    "import data_tests_functions as dtf\n",
    "\n",
    "matplotlib.rcParams.update({'font.size': 14})\n",
    "\n",
    "print('Importing done.')"
   ]
  },
  {
   "cell_type": "code",
   "execution_count": 2,
   "metadata": {},
   "outputs": [],
   "source": [
    "def round_to_significant_digits(value, sig_digits):\n",
    "    \"\"\"\n",
    "    Rounds a value to a specified number of significant digits.\n",
    "    :param value: The value to round.\n",
    "    :param sig_digits: The number of significant digits to round to.\n",
    "    :return: The rounded value.\n",
    "    \"\"\"\n",
    "    if value == 0:\n",
    "        raise ValueError(\"Cannot round a value of 0 to significant digits.\")\n",
    "    digits = -int(np.floor(np.log10(abs(value))) - (sig_digits - 1))\n",
    "    value_rounded = round(value, digits)\n",
    "    return value_rounded"
   ]
  },
  {
   "cell_type": "markdown",
   "metadata": {},
   "source": [
    "# Data directory input"
   ]
  },
  {
   "cell_type": "code",
   "execution_count": 3,
   "metadata": {},
   "outputs": [],
   "source": [
    "# data_dir = '/Users/santapile/Santas/Projects/MaMMoS/NOMAD/dataExamples/UU/UU-sets/Fe3-xZnxY(x=0.22)'\n",
    "\n",
    "# data_dir = 'Co2Fe2H4'\n",
    "# data_dir = 'Co2Fe16Y6'\n",
    "# data_dir = 'Fe3-xTaxY(x=0.22)'\n",
    "# data_dir = 'Fe3-xVxY(x=0.22)'\n",
    "data_dir = '/Users/santapile/Santas/DataAnalysis/nomad/data_preview/dataSets/Mn2CrB4'"
   ]
  },
  {
   "cell_type": "code",
   "execution_count": 4,
   "metadata": {},
   "outputs": [
    {
     "data": {
      "text/plain": [
       "False"
      ]
     },
     "execution_count": 4,
     "metadata": {},
     "output_type": "execute_result"
    }
   ],
   "source": [
    "import check_file_and_folder_structure as cffs\n",
    "cffs.check_structure(data_dir, check_README=True, verbose=True)"
   ]
  },
  {
   "cell_type": "code",
   "execution_count": 5,
   "metadata": {},
   "outputs": [
    {
     "name": "stdout",
     "output_type": "stream",
     "text": [
      "/Users/santapile/Santas/DataAnalysis/nomad/data_preview/dataSets/Mn2CrB4/GS\n",
      "/Users/santapile/Santas/DataAnalysis/nomad/data_preview/dataSets/Mn2CrB4/MC\n",
      "['z', 'x']\n"
     ]
    }
   ],
   "source": [
    "data_dir_GS = data_dir + \"/GS\"\n",
    "data_dir_MC = data_dir + \"/MC\"\n",
    "\n",
    "xyz_dirs = [dirdir for dirdir in os.listdir(data_dir_GS) if len(dirdir) == 1]\n",
    "\n",
    "print(data_dir_GS)\n",
    "print(data_dir_MC)\n",
    "print(xyz_dirs)"
   ]
  },
  {
   "cell_type": "markdown",
   "metadata": {},
   "source": [
    "# Magnetization"
   ]
  },
  {
   "cell_type": "code",
   "execution_count": 6,
   "metadata": {},
   "outputs": [
    {
     "name": "stdout",
     "output_type": "stream",
     "text": [
      "/Users/santapile/Santas/DataAnalysis/nomad/data_preview/dataSets/Mn2CrB4/GS/z/out_last\n"
     ]
    },
    {
     "data": {
      "text/html": [
       "<div>\n",
       "<style scoped>\n",
       "    .dataframe tbody tr th:only-of-type {\n",
       "        vertical-align: middle;\n",
       "    }\n",
       "\n",
       "    .dataframe tbody tr th {\n",
       "        vertical-align: top;\n",
       "    }\n",
       "\n",
       "    .dataframe thead th {\n",
       "        text-align: right;\n",
       "    }\n",
       "</style>\n",
       "<table border=\"1\" class=\"dataframe\">\n",
       "  <thead>\n",
       "    <tr style=\"text-align: right;\">\n",
       "      <th></th>\n",
       "      <th>J=L+S (Cartesian)</th>\n",
       "      <th>J=L+S (Spin axis)</th>\n",
       "      <th>Direction of J (x)</th>\n",
       "      <th>Direction of J (y)</th>\n",
       "      <th>Direction of J (z)</th>\n",
       "    </tr>\n",
       "  </thead>\n",
       "  <tbody>\n",
       "    <tr>\n",
       "      <th>ID:0102010100-o</th>\n",
       "      <td>0.169102</td>\n",
       "      <td>0.169102</td>\n",
       "      <td>-6.206000e-05</td>\n",
       "      <td>4.468000e-05</td>\n",
       "      <td>-1.0</td>\n",
       "    </tr>\n",
       "    <tr>\n",
       "      <th>ID:0101010100-o</th>\n",
       "      <td>0.001876</td>\n",
       "      <td>0.001876</td>\n",
       "      <td>3.050000e-05</td>\n",
       "      <td>2.949000e-05</td>\n",
       "      <td>-1.0</td>\n",
       "    </tr>\n",
       "    <tr>\n",
       "      <th>ID:0100010100-o</th>\n",
       "      <td>0.002109</td>\n",
       "      <td>0.002109</td>\n",
       "      <td>3.170000e-06</td>\n",
       "      <td>1.250000e-06</td>\n",
       "      <td>-1.0</td>\n",
       "    </tr>\n",
       "    <tr>\n",
       "      <th>ID:0201010100-o</th>\n",
       "      <td>0.036835</td>\n",
       "      <td>0.036835</td>\n",
       "      <td>-1.479000e-05</td>\n",
       "      <td>1.017000e-05</td>\n",
       "      <td>-1.0</td>\n",
       "    </tr>\n",
       "    <tr>\n",
       "      <th>ID:0200010100-o</th>\n",
       "      <td>0.010785</td>\n",
       "      <td>0.010785</td>\n",
       "      <td>4.420000e-06</td>\n",
       "      <td>-5.770000e-06</td>\n",
       "      <td>-1.0</td>\n",
       "    </tr>\n",
       "    <tr>\n",
       "      <th>ID:0301010100-o</th>\n",
       "      <td>0.036835</td>\n",
       "      <td>0.036835</td>\n",
       "      <td>-1.163000e-05</td>\n",
       "      <td>1.030000e-05</td>\n",
       "      <td>-1.0</td>\n",
       "    </tr>\n",
       "    <tr>\n",
       "      <th>ID:0300010100-o</th>\n",
       "      <td>0.010785</td>\n",
       "      <td>0.010785</td>\n",
       "      <td>4.480000e-06</td>\n",
       "      <td>-5.790000e-06</td>\n",
       "      <td>-1.0</td>\n",
       "    </tr>\n",
       "    <tr>\n",
       "      <th>ID:0401010100-o</th>\n",
       "      <td>0.010832</td>\n",
       "      <td>0.010832</td>\n",
       "      <td>-1.418000e-05</td>\n",
       "      <td>1.245000e-05</td>\n",
       "      <td>-1.0</td>\n",
       "    </tr>\n",
       "    <tr>\n",
       "      <th>ID:0400010100-o</th>\n",
       "      <td>0.004412</td>\n",
       "      <td>0.004412</td>\n",
       "      <td>6.440000e-06</td>\n",
       "      <td>6.160000e-06</td>\n",
       "      <td>-1.0</td>\n",
       "    </tr>\n",
       "    <tr>\n",
       "      <th>ID:0501010100-o</th>\n",
       "      <td>0.010832</td>\n",
       "      <td>0.010832</td>\n",
       "      <td>-1.897000e-05</td>\n",
       "      <td>7.780000e-06</td>\n",
       "      <td>-1.0</td>\n",
       "    </tr>\n",
       "    <tr>\n",
       "      <th>ID:0500010100-o</th>\n",
       "      <td>0.004412</td>\n",
       "      <td>0.004412</td>\n",
       "      <td>6.380000e-06</td>\n",
       "      <td>6.110000e-06</td>\n",
       "      <td>-1.0</td>\n",
       "    </tr>\n",
       "    <tr>\n",
       "      <th>ID:0602010100-o</th>\n",
       "      <td>1.774867</td>\n",
       "      <td>1.774867</td>\n",
       "      <td>-5.230000e-06</td>\n",
       "      <td>6.800000e-07</td>\n",
       "      <td>1.0</td>\n",
       "    </tr>\n",
       "    <tr>\n",
       "      <th>ID:0601010100-o</th>\n",
       "      <td>0.005088</td>\n",
       "      <td>0.005088</td>\n",
       "      <td>-4.179000e-05</td>\n",
       "      <td>-7.470000e-06</td>\n",
       "      <td>1.0</td>\n",
       "    </tr>\n",
       "    <tr>\n",
       "      <th>ID:0600010100-o</th>\n",
       "      <td>0.005818</td>\n",
       "      <td>0.005818</td>\n",
       "      <td>-2.000000e-08</td>\n",
       "      <td>1.290000e-06</td>\n",
       "      <td>1.0</td>\n",
       "    </tr>\n",
       "    <tr>\n",
       "      <th>ID:0702010100-o</th>\n",
       "      <td>1.774867</td>\n",
       "      <td>1.774867</td>\n",
       "      <td>-5.210000e-06</td>\n",
       "      <td>2.100000e-07</td>\n",
       "      <td>1.0</td>\n",
       "    </tr>\n",
       "    <tr>\n",
       "      <th>ID:0701010100-o</th>\n",
       "      <td>0.005088</td>\n",
       "      <td>0.005088</td>\n",
       "      <td>-4.241000e-05</td>\n",
       "      <td>-9.230000e-06</td>\n",
       "      <td>1.0</td>\n",
       "    </tr>\n",
       "    <tr>\n",
       "      <th>ID:0700010100-o</th>\n",
       "      <td>0.005818</td>\n",
       "      <td>0.005818</td>\n",
       "      <td>-2.000000e-08</td>\n",
       "      <td>1.280000e-06</td>\n",
       "      <td>1.0</td>\n",
       "    </tr>\n",
       "  </tbody>\n",
       "</table>\n",
       "</div>"
      ],
      "text/plain": [
       "                 J=L+S (Cartesian)  J=L+S (Spin axis)  Direction of J (x)  \\\n",
       "ID:0102010100-o           0.169102           0.169102       -6.206000e-05   \n",
       "ID:0101010100-o           0.001876           0.001876        3.050000e-05   \n",
       "ID:0100010100-o           0.002109           0.002109        3.170000e-06   \n",
       "ID:0201010100-o           0.036835           0.036835       -1.479000e-05   \n",
       "ID:0200010100-o           0.010785           0.010785        4.420000e-06   \n",
       "ID:0301010100-o           0.036835           0.036835       -1.163000e-05   \n",
       "ID:0300010100-o           0.010785           0.010785        4.480000e-06   \n",
       "ID:0401010100-o           0.010832           0.010832       -1.418000e-05   \n",
       "ID:0400010100-o           0.004412           0.004412        6.440000e-06   \n",
       "ID:0501010100-o           0.010832           0.010832       -1.897000e-05   \n",
       "ID:0500010100-o           0.004412           0.004412        6.380000e-06   \n",
       "ID:0602010100-o           1.774867           1.774867       -5.230000e-06   \n",
       "ID:0601010100-o           0.005088           0.005088       -4.179000e-05   \n",
       "ID:0600010100-o           0.005818           0.005818       -2.000000e-08   \n",
       "ID:0702010100-o           1.774867           1.774867       -5.210000e-06   \n",
       "ID:0701010100-o           0.005088           0.005088       -4.241000e-05   \n",
       "ID:0700010100-o           0.005818           0.005818       -2.000000e-08   \n",
       "\n",
       "                 Direction of J (y)  Direction of J (z)  \n",
       "ID:0102010100-o        4.468000e-05                -1.0  \n",
       "ID:0101010100-o        2.949000e-05                -1.0  \n",
       "ID:0100010100-o        1.250000e-06                -1.0  \n",
       "ID:0201010100-o        1.017000e-05                -1.0  \n",
       "ID:0200010100-o       -5.770000e-06                -1.0  \n",
       "ID:0301010100-o        1.030000e-05                -1.0  \n",
       "ID:0300010100-o       -5.790000e-06                -1.0  \n",
       "ID:0401010100-o        1.245000e-05                -1.0  \n",
       "ID:0400010100-o        6.160000e-06                -1.0  \n",
       "ID:0501010100-o        7.780000e-06                -1.0  \n",
       "ID:0500010100-o        6.110000e-06                -1.0  \n",
       "ID:0602010100-o        6.800000e-07                 1.0  \n",
       "ID:0601010100-o       -7.470000e-06                 1.0  \n",
       "ID:0600010100-o        1.290000e-06                 1.0  \n",
       "ID:0702010100-o        2.100000e-07                 1.0  \n",
       "ID:0701010100-o       -9.230000e-06                 1.0  \n",
       "ID:0700010100-o        1.280000e-06                 1.0  "
      ]
     },
     "execution_count": 6,
     "metadata": {},
     "output_type": "execute_result"
    }
   ],
   "source": [
    "# Reading file into lines; all folders are equivalent according to UU-colleagues, so we can use the first one\n",
    "file_Name_Ms = data_dir_GS + f\"/{xyz_dirs[0]}/out_last\"\n",
    "print(file_Name_Ms)\n",
    "\n",
    "# Create dicts with orbital IDs and values of corresponding\n",
    "# Total moment and its direction (+/-1)\n",
    "tot_moments_D = dtf.find_line_val_dict(file_Name_Ms, 'Total moment [J=L+S] (mu_B):')\n",
    "dir_of_JD = dtf.find_line_val_dict(file_Name_Ms, 'Direction of J (Cartesian):')\n",
    "# print(\"tot_moments_D:\"+str(tot_moments_D))\n",
    "# print(\"dir_of_JD:\"+str(dir_of_JD))\n",
    "params_merged = {}\n",
    "for key in tot_moments_D.keys():\n",
    "    params_merged[key] = tot_moments_D[key] + dir_of_JD[key]\n",
    "\n",
    "# Pretty table for checking the entries for magnetic moments and directions\n",
    "df = pd.DataFrame.from_dict(params_merged, orient='index',\n",
    "                            columns = ['J=L+S (Cartesian)',\n",
    "                                       'J=L+S (Spin axis)',\n",
    "                                       'Direction of J (x)',\n",
    "                                       'Direction of J (y)',\n",
    "                                       'Direction of J (z)'])\n",
    "df"
   ]
  },
  {
   "cell_type": "markdown",
   "metadata": {},
   "source": [
    "## Calculating magnetization\n",
    "**Use:** Cartesian (with direction) - we should use that</br>\n",
    "Spin axis coordinates we ignore"
   ]
  },
  {
   "cell_type": "code",
   "execution_count": 7,
   "metadata": {},
   "outputs": [
    {
     "name": "stdout",
     "output_type": "stream",
     "text": [
      "ID:0102010100-o :  0.1691017 * -1.0 = -0.1691017\n",
      "ID:0101010100-o :  0.001876488 * -1.0 = -0.001876488\n",
      "ID:0100010100-o :  0.002109031 * -1.0 = -0.002109031\n",
      "ID:0201010100-o :  0.03683499 * -1.0 = -0.03683499\n",
      "ID:0200010100-o :  0.01078508 * -1.0 = -0.01078508\n",
      "ID:0301010100-o :  0.03683512 * -1.0 = -0.03683512\n",
      "ID:0300010100-o :  0.01078509 * -1.0 = -0.01078509\n",
      "ID:0401010100-o :  0.01083202 * -1.0 = -0.01083202\n",
      "ID:0400010100-o :  0.004412454 * -1.0 = -0.004412454\n",
      "ID:0501010100-o :  0.01083193 * -1.0 = -0.01083193\n",
      "ID:0500010100-o :  0.004412453 * -1.0 = -0.004412453\n",
      "ID:0602010100-o :  1.774867 * 1.0 = 1.774867\n",
      "ID:0601010100-o :  0.00508757 * 1.0 = 0.00508757\n",
      "ID:0600010100-o :  0.005818217 * 1.0 = 0.005818217\n",
      "ID:0702010100-o :  1.774867 * 1.0 = 1.774867\n",
      "ID:0701010100-o :  0.005087558 * 1.0 = 0.005087558\n",
      "ID:0700010100-o :  0.005818218 * 1.0 = 0.005818218\n",
      "\n",
      "Total magnetic moment = 3.272729207\n",
      "{'unit': [378.016829224733]}\n",
      "Unit cell volume: 56.01633474574038 A³\n",
      "Magnetization Ms: 0.6808797175234369 T\n"
     ]
    }
   ],
   "source": [
    "# Calculating total magnetic moment by summing all\n",
    "# (Total moment (of an orbital) * Direction of J (takes the one with abs value > 0.9, should be +/-1))\n",
    "tot_magn_mom_C = 0\n",
    "for key in tot_moments_D.keys():\n",
    "    tot_magn_mom_C += tot_moments_D[key][0]*[x for x in dir_of_JD[key] if abs(x) > 0.9][0]\n",
    "    print(key, ': ', tot_moments_D[key][0], '*', \n",
    "          [x for x in dir_of_JD[key] if abs(x) > 0.9][0], '=', \n",
    "          tot_moments_D[key][0]*[x for x in dir_of_JD[key] if abs(x) > 0.9][0])\n",
    "    #    total magnetic moment J=L+S * orientation, wherever +/-1 is\n",
    "\n",
    "print(f'\\nTotal magnetic moment = {tot_magn_mom_C}')\n",
    "\n",
    "# Getting unit cell volume in A^3 from the file\n",
    "ucv = dtf.find_line_val_dict(file_Name_Ms, 'unit cell volume:')\n",
    "print(ucv)\n",
    "# Recalculating in=t in angstroms (should be transferred to m afterwards)\n",
    "ucvA = ucv[list(ucv.keys())[0]][0] / 1.8897259**3 # unit cell volume in A\n",
    "print(f'Unit cell volume: {ucvA} A\\N{SUPERSCRIPT THREE}')\n",
    "\n",
    "# Calculating magnetization in Tesla\n",
    "magnetization_in_T = tot_magn_mom_C/ucvA*11.654\n",
    "print(f'Magnetization Ms: {magnetization_in_T} T')"
   ]
  },
  {
   "cell_type": "markdown",
   "metadata": {},
   "source": [
    "### Q&A\n",
    "**Question #1:** Why doubled data for each orbital? </br>\n",
    "<b>Answer #1:</b> because calculations may run several times, that's why we need to take the last one\n",
    "\n",
    "**Question #2:** How do we calculate total magnetic moment? (Does direction matter?) </br>\n",
    "<b>Answer #2:</b> the direction does matter. For testing approximate resulting value of Ms should be in the README file, our result should be in 2% range of it"
   ]
  },
  {
   "cell_type": "markdown",
   "metadata": {},
   "source": [
    "# Anisotropy"
   ]
  },
  {
   "cell_type": "code",
   "execution_count": 8,
   "metadata": {},
   "outputs": [
    {
     "name": "stdout",
     "output_type": "stream",
     "text": [
      "Anisotropy constant (max of all): 752394.1104370862 J/m³\n"
     ]
    }
   ],
   "source": [
    "energies = {}\n",
    "\n",
    "if f'out_MF_{xyz_dirs[0]}' in os.listdir(data_dir_GS+f'/{xyz_dirs[0]}'):\n",
    "    for dirdir in xyz_dirs:\n",
    "        fileName = data_dir_GS+f\"/{dirdir}/out_MF_{dirdir}\"\n",
    "        eigenvalue_sum = dtf.find_line_val_dict(fileName, 'Eigenvalue sum:')\n",
    "        energies[dirdir] = eigenvalue_sum[list(eigenvalue_sum.keys())[0]][0]\n",
    "elif f'out_Etot_{xyz_dirs[0]}' in os.listdir(data_dir_GS+f'/{xyz_dirs[0]}'):\n",
    "    for dirdir in xyz_dirs:\n",
    "        fileName = data_dir_GS+f\"/{dirdir}/out_Etot_{dirdir}\"\n",
    "        energies[dirdir] = dtf.get_energy_from_file(fileName)\n",
    "else:\n",
    "    print('no files for anisotropy')\n",
    "\n",
    "allKs = list()\n",
    "if 'z' in energies.keys():\n",
    "    if 'x' in energies.keys():\n",
    "        Kxz = (energies['x'] - energies['z'])/ucvA*2179874\n",
    "        allKs.append(Kxz)\n",
    "    if 'y' in energies.keys():    \n",
    "        Kyz = (energies['y'] - energies['z'])/ucvA*2179874\n",
    "        allKs.append(Kyz)\n",
    "\n",
    "K1_in_JPerCubibm = max(allKs) * 1e6            # anisotropy J/m³; MagnetocrystallineAnisotropyConstantK1\n",
    "\n",
    "print(f'Anisotropy constant (max of all): {K1_in_JPerCubibm} J/m\\N{SUPERSCRIPT THREE}')"
   ]
  },
  {
   "cell_type": "markdown",
   "metadata": {},
   "source": [
    "# Exchange"
   ]
  },
  {
   "cell_type": "code",
   "execution_count": 9,
   "metadata": {},
   "outputs": [
    {
     "name": "stdout",
     "output_type": "stream",
     "text": [
      "[  2.   5.  10.  50. 100. 150. 200. 250. 300. 400. 500. 600. 700. 800.\n",
      " 900.]\n",
      "Number of atoms: 7\n",
      "Number of atoms: 7\n",
      "Tc = 900.0 K\n",
      "0.7282412876371519 1.6684819346488076\n",
      "Spin wave stiffness constant  2.794921487119052e-40\n",
      "Exchange constant A at T=0 (J/m) :  4.366238873275821e-12\n",
      "Js_300 (T) : 0.6532473279004221\n",
      "A_300 (J/m) : 3.513275284753546e-12\n",
      "K_300 (MJ/m^3) : 0.5430657582908239\n",
      "Lex  3.2164987008037094\n"
     ]
    },
    {
     "data": {
      "image/png": "[encoded data removed]",
      "text/plain": [
       "<Figure size 640x480 with 1 Axes>"
      ]
     },
     "metadata": {},
     "output_type": "display_data"
    }
   ],
   "source": [
    "# Define the form of the function you want to fit\n",
    "fn = data_dir_MC + '/M(T)'  # magnetic polarization\n",
    "TK, Js = dtf.read_2_col_data(fn)\n",
    "print(TK)\n",
    "\n",
    "mc_dirs = [dirdir for dirdir in os.listdir(data_dir_MC) if dirdir in ['momfile', 'posfile']]\n",
    "\n",
    "if len(mc_dirs) > 0:\n",
    "    with open(data_dir_MC + '/' + mc_dirs[0], 'rt') as f:\n",
    "        n_atoms = len(f.read().splitlines())\n",
    "    print(f'Number of atoms: {n_atoms}')\n",
    "else:\n",
    "    print('There seem to be NO momfile and no posfile :( Getting n_atoms from GS/out_last')\n",
    "    atoms_Ns = set([int(key[key.find(':')+1:key.find(':') + 3]) for key in tot_moments_D.keys()])\n",
    "    n_atoms = len(atoms_Ns)\n",
    "print(f'Number of atoms: {n_atoms}')\n",
    "    \n",
    "Js = [item*n_atoms/ucvA*11.654 for item in Js]\n",
    "\n",
    "poscut = np.argmin(np.diff(Js)/np.diff(TK))+2\n",
    "try:\n",
    "    Tc = TK[poscut]\n",
    "except IndexError:\n",
    "    Tc = TK[-1]\n",
    "    poscut = len(TK) - 1\n",
    "\n",
    "print(f'Tc = {Tc} K')\n",
    "TKc = TK[:poscut].copy()\n",
    "Jsc = Js[:poscut].copy()\n",
    "\n",
    "xfine = np.linspace(0, Tc, 500)\n",
    "p    = 5.0 / 2\n",
    "beta = 1. / 3\n",
    "m_s = partial(dtf.spontaneous_magnetization, p=p, beta=beta, T_C=Tc)\n",
    "\n",
    "popt, pcov = curve_fit(m_s, TKc, Jsc)\n",
    "Js_0, s = popt\n",
    "print(Js_0, s)\n",
    "T_fit = np.linspace(min(TKc), max(TKc), 500)\n",
    "Js_fit = m_s(T_fit, Js_0, s)\n",
    "\n",
    "g = 2\n",
    "k_b = physical_constants[\"Boltzmann constant\"][0]\n",
    "mu_b = physical_constants[\"Bohr magneton\"][0]\n",
    "\n",
    "M_0 = Js_0/mu_0\n",
    "D = (0.1509\n",
    "     * ((g * mu_b) / (s * beta * M_0)) ** (2. / 3)\n",
    "     * k_b\n",
    "     * Tc\n",
    "     )\n",
    "print(\"Spin wave stiffness constant \", D)\n",
    "A_0 = M_0 * D / (2 * g * mu_b)\n",
    "print(\"Exchange constant A at T=0 (J/m) : \", A_0)\n",
    "\n",
    "# Magnetic polarization at 300 K\n",
    "Js_300 = m_s(300., Js_0, s)\n",
    "print(\"Js_300 (T) :\", Js_300)\n",
    "\n",
    "A_300 = A_0*(Js_300/Js_0)**2\n",
    "print(\"A_300 (J/m) :\", A_300)\n",
    "\n",
    "K_300 = K1_in_JPerCubibm*(Js_300/Js_0)**3\n",
    "print(\"K_300 (MJ/m^3) :\", K_300/1e6)\n",
    "\n",
    "# A = A_0*(Js/Js0)^2\n",
    "\n",
    "# exchange length in nm; see eq. 96 in book chapter of Exl2016 etal. where for Ms = spontaneous magnetization since there is only one phase/material\n",
    "print('Lex ', np.sqrt(mu_0*A_300/(Js_300*Js_300))/1e-9)\n",
    "\n",
    "fig, ax = plt.subplots()\n",
    "ax.scatter(TK, Js, marker=\"o\", label=\"data points\", facecolors='none', edgecolors='#4575b4')\n",
    "label = \"Kuz'min's fit\"\n",
    "ax.plot(xfine, m_s(xfine, Js_0, s), label=label, color='#f46d43')\n",
    "ax.legend()\n",
    "ax.set_xlabel(\"Temperature (K)\")\n",
    "ax.set_ylabel(\"Magnetic polarization J (T)\")\n",
    "ax.grid()"
   ]
  },
  {
   "cell_type": "markdown",
   "metadata": {},
   "source": [
    "### Data from README file for doublechecking"
   ]
  },
  {
   "cell_type": "code",
   "execution_count": 10,
   "metadata": {},
   "outputs": [
    {
     "name": "stdout",
     "output_type": "stream",
     "text": [
      "### README:\n",
      "Ms = 0.70 T\n",
      "MAE = 0.70 MJ/m3\n",
      "\n",
      "### End of README\n",
      "\n",
      "Extracted Ms value from README: 0.7 T\n",
      "MAE values not found in README\n"
     ]
    }
   ],
   "source": [
    "import re\n",
    "\n",
    "# Ms - Ontology entry: SpontaneousMagneticPolarisation when given in T\n",
    "# MAE - Ontology entry: MagnetocrystallineAnisotropyEnergy\n",
    "with open(data_dir + '/README', 'rt') as f:\n",
    "    print(\"### README:\")\n",
    "    print(f.read())\n",
    "    print(\"### End of README\\n\")\n",
    "    # Extract the value for Ms from README\n",
    "    with open(data_dir + '/README', 'rt') as f:\n",
    "        readme_content = f.read()\n",
    "\n",
    "    ms_match = re.search(r'Ms\\s*=\\s*([\\d.]+)\\s*T', readme_content)\n",
    "    if ms_match:\n",
    "        Ms_README_in_T = float(ms_match.group(1))\n",
    "        print(f\"Extracted Ms value from README: {Ms_README_in_T} T\")\n",
    "    else:\n",
    "        print(\"Ms value not found in README\")\n",
    "\n",
    "    mae_matches = re.findall(r'([xyz])\\s*-\\s*([xyz])\\s*=\\s*([-+]?\\d*\\.\\d+|\\d+)\\s*MJ/m³', readme_content)\n",
    "    if mae_matches:\n",
    "        mae_values_in_MJPerCubicm = [float(match[2]) for match in mae_matches]\n",
    "        max_MAE_README_in_MJPerCubicm = max(mae_values_in_MJPerCubicm)\n",
    "        print(f\"Extracted maximum MAE value from README: {max_MAE_README_in_MJPerCubicm} MJ/m³\")\n",
    "    else:\n",
    "        mae_match = re.search(r'MAE\\s*=\\s*([\\d.]+)\\s*MJ/m³', readme_content)\n",
    "        if mae_match:\n",
    "            max_MAE_README_in_MJPerCubicm = float(mae_match.group(1))\n",
    "            print(f\"Extracted MAE value from README: {max_MAE_README_in_MJPerCubicm} MJ/m³\")\n",
    "        else:\n",
    "            print(\"MAE values not found in README\")"
   ]
  },
  {
   "cell_type": "markdown",
   "metadata": {},
   "source": [
    "### Summary of values computed from the dataset"
   ]
  },
  {
   "cell_type": "markdown",
   "metadata": {},
   "source": [
    "#### Computation of anisotropy energy from the MagnetocrystallineAnisotropyConstantK1 \n",
    "From Koys book, chapter 5.5.2, page171 anisotropy energy Ea = K1 sin2 θ + K2 sin4 θ where K2 is negelcted and θ≈0"
   ]
  },
  {
   "cell_type": "code",
   "execution_count": 11,
   "metadata": {},
   "outputs": [],
   "source": [
    "MAE_in_MJPerCubicm = K1_in_JPerCubibm /1e6"
   ]
  },
  {
   "cell_type": "code",
   "execution_count": 12,
   "metadata": {},
   "outputs": [],
   "source": [
    "Ms_in_T = magnetization_in_T    \n",
    "# TODO: magnetization_in_T should be renamed polarisation_in_T or Js_in_T (SpontaneousMagneticPolarisation)"
   ]
  },
  {
   "cell_type": "code",
   "execution_count": 13,
   "metadata": {},
   "outputs": [
    {
     "name": "stdout",
     "output_type": "stream",
     "text": [
      " Ms_in_T = 0.6809 T\n",
      " MAE_in_MJPerCubicm = 0.7524 MJ/m^3\n"
     ]
    }
   ],
   "source": [
    "print(\" Ms_in_T = \"+str(round_to_significant_digits(Ms_in_T, 4)) + \" T\")\n",
    "print(\" MAE_in_MJPerCubicm = \" + str(round_to_significant_digits(MAE_in_MJPerCubicm, 4)) + \" MJ/m^3\")"
   ]
  },
  {
   "cell_type": "markdown",
   "metadata": {},
   "source": [
    "### Computing deviations between computed values and given values from the README"
   ]
  },
  {
   "cell_type": "code",
   "execution_count": 14,
   "metadata": {},
   "outputs": [
    {
     "name": "stdout",
     "output_type": "stream",
     "text": [
      " Deviation for magnetization in percent = 2.731 %\n"
     ]
    }
   ],
   "source": [
    "deviation_Ms_in_percent = 100 - (Ms_in_T/ Ms_README_in_T) * 100\n",
    "print(\" Deviation for magnetization in percent = \"+str(round_to_significant_digits(deviation_Ms_in_percent, 4)) + \" %\")"
   ]
  },
  {
   "cell_type": "code",
   "execution_count": 15,
   "metadata": {},
   "outputs": [
    {
     "name": "stdout",
     "output_type": "stream",
     "text": [
      "MAE values not found in README\n"
     ]
    }
   ],
   "source": [
    "try:\n",
    "    deviation_mae_percent = 100 - ((MAE_in_MJPerCubicm) / max_MAE_README_in_MJPerCubicm) * 100\n",
    "    print(\" Deviation for anisotropy energy/constant in percent = \" + str(round_to_significant_digits(deviation_mae_percent, 4)) + \" %\")\n",
    "except NameError:\n",
    "    print(\"MAE values not found in README\")"
   ]
  },
  {
   "cell_type": "code",
   "execution_count": 16,
   "metadata": {},
   "outputs": [
    {
     "name": "stdout",
     "output_type": "stream",
     "text": [
      "The deviation for magnetization and anisotropy in dataset /Users/santapile/Santas/DataAnalysis/nomad/data_preview/dataSets/Mn2CrB4 is\n",
      " **more** than 2% compared to the provided values.\n"
     ]
    }
   ],
   "source": [
    "if (abs(deviation_Ms_in_percent)<2.) and (abs(deviation_mae_percent)<2.):\n",
    "    print('The deviation for magnetization and anisotropy in dataset '+data_dir+' is\\n **less** than 2% compared to the provided values.')\n",
    "else:\n",
    "    print('The deviation for magnetization and anisotropy in dataset '+data_dir+' is\\n **more** than 2% compared to the provided values.')"
   ]
  },
  {
   "cell_type": "code",
   "execution_count": null,
   "metadata": {},
   "outputs": [],
   "source": []
  }
 ],
 "metadata": {
  "kernelspec": {
   "display_name": ".venv",
   "language": "python",
   "name": "python3"
  },
  "language_info": {
   "codemirror_mode": {
    "name": "ipython",
    "version": 3
   },
   "file_extension": ".py",
   "mimetype": "text/x-python",
   "name": "python",
   "nbconvert_exporter": "python",
   "pygments_lexer": "ipython3",
   "version": "3.12.8"
  }
 },
 "nbformat": 4,
 "nbformat_minor": 4
}
